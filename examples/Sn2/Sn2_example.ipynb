{
 "cells": [
  {
   "cell_type": "markdown",
   "source": [
    "# S<sub>N</sub>2 Reaction\n",
    "\n",
    "This notebook introduces some basic concepts for the use of Asparagus Bundle in the context of a reactive potential.\n",
    "\n",
    "The reaction to simulate is a basic S<sub>N</sub>2 reaction between a methyl bromide and a hydroxide ion. The reaction is shown below.\n",
    "\n",
    "CH<sub>3</sub>Br + OH<sup>-</sup> -> CH<sub>3</sub>OH + Br<sup>-</sup>\n",
    "\n",
    "We will generate a reactive potential energy surface for this reaction using xtb.\n",
    "\n",
    "Although the reaction looks very simple, it actually involves multiple channels. The reaction can proceed via a frontside or backside attack of the hydroxide ion. Therefore, both chanels should be considered in the simulation.\n",
    "A schematic representation of the PES is shown below.\n",
    "\n",
    "![sn2_scheme](Sn2_scheme.gif)\n",
    "\n",
    "Adapted from: Tasi, D. A., Fábián, Z., & Czakó, G. (2019). Rethinking the X−+ CH 3 Y [X= OH, SH, CN, NH 2, PH 2; Y= F, Cl, Br, I] SN 2 reactions. Physical Chemistry Chemical Physics, 21(15), 7924-7931.\n",
    "\n",
    "The third channel called that involves the extration of the proton from the methyl group is not considered in this tutorial because it is very high in energy."
   ],
   "metadata": {
    "collapsed": false
   },
   "id": "838d8e381e504d16"
  },
  {
   "cell_type": "code",
   "execution_count": 3,
   "outputs": [],
   "source": [
    "# Import basic libraries\n",
    "import numpy as np\n",
    "import matplotlib.pyplot as plt # for plotting\n",
    "# ASE importantions for manipulating structures\n",
    "import ase\n",
    "from ase.io import read, write #Read and write structures\n",
    "from ase.visualize import view #Visualize structures"
   ],
   "metadata": {
    "collapsed": false,
    "ExecuteTime": {
     "end_time": "2023-12-20T15:01:40.163145762Z",
     "start_time": "2023-12-20T15:01:40.158791861Z"
    }
   },
   "id": "86e04e74d0832eea"
  },
  {
   "cell_type": "markdown",
   "source": [
    "Tasi *et al.* have already performed the calculations for the reaction at a very high level of theory (CCSD(T)-F12/AVTZ). The structures are available in the `sn2_struct` folder. The structures are in xyz format. We can read the structures using ASE. First, we check the structure of the first channel which involves the attack of the hydroxide ion from the frontside of the halogen atom."
   ],
   "metadata": {
    "collapsed": false
   },
   "id": "b63465aefd2cd9ce"
  },
  {
   "cell_type": "code",
   "execution_count": 2,
   "outputs": [],
   "source": [
    "file = 'Sn2_struct/fs_min.xyz'\n",
    "fs = read(file)"
   ],
   "metadata": {
    "collapsed": false,
    "ExecuteTime": {
     "end_time": "2023-12-20T14:12:33.062507657Z",
     "start_time": "2023-12-20T14:12:32.987720778Z"
    }
   },
   "id": "f69279f3c4929895"
  },
  {
   "cell_type": "code",
   "execution_count": 3,
   "outputs": [
    {
     "data": {
      "text/plain": "<IPython.core.display.HTML object>",
      "text/html": "<html>\n\n <head>\n\n  <title>ASE atomic visualization</title>\n\n  <link rel=\"stylesheet\" type=\"text/css\"\n\n   href=\"https://www.x3dom.org/x3dom/release/x3dom.css\">\n\n  </link>\n\n  <script type=\"text/javascript\"\n\n   src=\"https://www.x3dom.org/x3dom/release/x3dom.js\">\n\n  </script>\n\n </head>\n\n <body>\n\n  <X3D>\n\n   <Scene>\n\n    <Transform translation=\"0.00 -0.00 -2.10\">\n\n     <Shape>\n\n      <Appearance>\n\n       <Material diffuseColor=\"0.565 0.565 0.565\" specularColor=\"0.5 0.5 0.5\">\n\n       </Material>\n\n      </Appearance>\n\n      <Sphere radius=\"0.76\">\n\n      </Sphere>\n\n     </Shape>\n\n    </Transform>\n\n    <Transform translation=\"0.00 0.00 -0.09\">\n\n     <Shape>\n\n      <Appearance>\n\n       <Material diffuseColor=\"0.651 0.161 0.161\" specularColor=\"0.5 0.5 0.5\">\n\n       </Material>\n\n      </Appearance>\n\n      <Sphere radius=\"1.20\">\n\n      </Sphere>\n\n     </Shape>\n\n    </Transform>\n\n    <Transform translation=\"0.00 1.03 -2.46\">\n\n     <Shape>\n\n      <Appearance>\n\n       <Material diffuseColor=\"1.000 1.000 1.000\" specularColor=\"0.5 0.5 0.5\">\n\n       </Material>\n\n      </Appearance>\n\n      <Sphere radius=\"0.31\">\n\n      </Sphere>\n\n     </Shape>\n\n    </Transform>\n\n    <Transform translation=\"0.89 -0.52 -2.46\">\n\n     <Shape>\n\n      <Appearance>\n\n       <Material diffuseColor=\"1.000 1.000 1.000\" specularColor=\"0.5 0.5 0.5\">\n\n       </Material>\n\n      </Appearance>\n\n      <Sphere radius=\"0.31\">\n\n      </Sphere>\n\n     </Shape>\n\n    </Transform>\n\n    <Transform translation=\"-0.89 -0.52 -2.46\">\n\n     <Shape>\n\n      <Appearance>\n\n       <Material diffuseColor=\"1.000 1.000 1.000\" specularColor=\"0.5 0.5 0.5\">\n\n       </Material>\n\n      </Appearance>\n\n      <Sphere radius=\"0.31\">\n\n      </Sphere>\n\n     </Shape>\n\n    </Transform>\n\n    <Transform translation=\"0.00 0.06 2.31\">\n\n     <Shape>\n\n      <Appearance>\n\n       <Material diffuseColor=\"1.000 0.051 0.051\" specularColor=\"0.5 0.5 0.5\">\n\n       </Material>\n\n      </Appearance>\n\n      <Sphere radius=\"0.66\">\n\n      </Sphere>\n\n     </Shape>\n\n    </Transform>\n\n    <Transform translation=\"0.00 -0.88 2.53\">\n\n     <Shape>\n\n      <Appearance>\n\n       <Material diffuseColor=\"1.000 1.000 1.000\" specularColor=\"0.5 0.5 0.5\">\n\n       </Material>\n\n      </Appearance>\n\n      <Sphere radius=\"0.31\">\n\n      </Sphere>\n\n     </Shape>\n\n    </Transform>\n\n   </Scene>\n\n  </X3D>\n\n </body>\n\n</html>\n\n"
     },
     "execution_count": 3,
     "metadata": {},
     "output_type": "execute_result"
    }
   ],
   "source": [
    "view(fs,viewer='x3d')\n"
   ],
   "metadata": {
    "collapsed": false,
    "ExecuteTime": {
     "start_time": "2023-12-19T17:18:26.244947662Z"
    }
   },
   "id": "3fd4d6bdbd689aae"
  },
  {
   "cell_type": "markdown",
   "source": [
    "Next we can check the structure of the second channel which involves the attack of the hydroxide ion from the backside of the halogen atom. This is the most known channel for the S<sub>N</sub>2 reactions."
   ],
   "metadata": {
    "collapsed": false
   },
   "id": "2a2b9d1058b93f5a"
  },
  {
   "cell_type": "code",
   "execution_count": 3,
   "outputs": [],
   "source": [
    "file = 'Sn2_struct/pre_min.xyz'\n",
    "pre = read(file)"
   ],
   "metadata": {
    "collapsed": false,
    "ExecuteTime": {
     "end_time": "2023-12-20T14:12:43.225725962Z",
     "start_time": "2023-12-20T14:12:43.218609882Z"
    }
   },
   "id": "7e9ee363732ec41d"
  },
  {
   "cell_type": "code",
   "execution_count": 4,
   "outputs": [
    {
     "data": {
      "text/plain": "<IPython.core.display.HTML object>",
      "text/html": "<html>\n\n <head>\n\n  <title>ASE atomic visualization</title>\n\n  <link rel=\"stylesheet\" type=\"text/css\"\n\n   href=\"https://www.x3dom.org/x3dom/release/x3dom.css\">\n\n  </link>\n\n  <script type=\"text/javascript\"\n\n   src=\"https://www.x3dom.org/x3dom/release/x3dom.js\">\n\n  </script>\n\n </head>\n\n <body>\n\n  <X3D>\n\n   <Scene>\n\n    <Transform translation=\"0.00 -0.14 1.04\">\n\n     <Shape>\n\n      <Appearance>\n\n       <Material diffuseColor=\"0.565 0.565 0.565\" specularColor=\"0.5 0.5 0.5\">\n\n       </Material>\n\n      </Appearance>\n\n      <Sphere radius=\"0.76\">\n\n      </Sphere>\n\n     </Shape>\n\n    </Transform>\n\n    <Transform translation=\"0.00 0.10 3.56\">\n\n     <Shape>\n\n      <Appearance>\n\n       <Material diffuseColor=\"1.000 0.051 0.051\" specularColor=\"0.5 0.5 0.5\">\n\n       </Material>\n\n      </Appearance>\n\n      <Sphere radius=\"0.66\">\n\n      </Sphere>\n\n     </Shape>\n\n    </Transform>\n\n    <Transform translation=\"0.00 0.01 -0.98\">\n\n     <Shape>\n\n      <Appearance>\n\n       <Material diffuseColor=\"0.651 0.161 0.161\" specularColor=\"0.5 0.5 0.5\">\n\n       </Material>\n\n      </Appearance>\n\n      <Sphere radius=\"1.20\">\n\n      </Sphere>\n\n     </Shape>\n\n    </Transform>\n\n    <Transform translation=\"0.00 -0.52 4.30\">\n\n     <Shape>\n\n      <Appearance>\n\n       <Material diffuseColor=\"1.000 1.000 1.000\" specularColor=\"0.5 0.5 0.5\">\n\n       </Material>\n\n      </Appearance>\n\n      <Sphere radius=\"0.31\">\n\n      </Sphere>\n\n     </Shape>\n\n    </Transform>\n\n    <Transform translation=\"0.00 -1.20 1.25\">\n\n     <Shape>\n\n      <Appearance>\n\n       <Material diffuseColor=\"1.000 1.000 1.000\" specularColor=\"0.5 0.5 0.5\">\n\n       </Material>\n\n      </Appearance>\n\n      <Sphere radius=\"0.31\">\n\n      </Sphere>\n\n     </Shape>\n\n    </Transform>\n\n    <Transform translation=\"0.89 0.35 1.39\">\n\n     <Shape>\n\n      <Appearance>\n\n       <Material diffuseColor=\"1.000 1.000 1.000\" specularColor=\"0.5 0.5 0.5\">\n\n       </Material>\n\n      </Appearance>\n\n      <Sphere radius=\"0.31\">\n\n      </Sphere>\n\n     </Shape>\n\n    </Transform>\n\n    <Transform translation=\"-0.89 0.35 1.39\">\n\n     <Shape>\n\n      <Appearance>\n\n       <Material diffuseColor=\"1.000 1.000 1.000\" specularColor=\"0.5 0.5 0.5\">\n\n       </Material>\n\n      </Appearance>\n\n      <Sphere radius=\"0.31\">\n\n      </Sphere>\n\n     </Shape>\n\n    </Transform>\n\n   </Scene>\n\n  </X3D>\n\n </body>\n\n</html>\n\n"
     },
     "execution_count": 4,
     "metadata": {},
     "output_type": "execute_result"
    }
   ],
   "source": [
    "view(pre,viewer='x3d')"
   ],
   "metadata": {
    "collapsed": false,
    "ExecuteTime": {
     "start_time": "2023-12-19T17:18:30.619147622Z"
    }
   },
   "id": "59e684b7a9031263"
  },
  {
   "cell_type": "markdown",
   "source": [
    "Now, that we know both of the initial intermediate states, we will run a metadynamics simulations to generate the first part of the database that we will use to train our model. "
   ],
   "metadata": {
    "collapsed": false
   },
   "id": "fce46dc4ff2f98d5"
  },
  {
   "cell_type": "code",
   "execution_count": 5,
   "outputs": [
    {
     "name": "stderr",
     "output_type": "stream",
     "text": [
      "INFO:asparagus.src.settings.config:INFO:\n",
      "Global parameter configuration update of 'sn2_config.json'.\n",
      "Current configuration entries will be overwritten in case of conflicting entries.\n",
      "\n",
      "INFO:asparagus.src.settings.config:INFO:\n",
      "Adding parameter 'sample_data_file'.\n",
      "Conflict! Overwrite parameter 'sample_directory'.\n",
      "Conflict! Overwrite parameter 'sample_systems'.\n",
      "Conflict! Overwrite parameter 'sample_systems_format'.\n",
      "Conflict! Overwrite parameter 'sample_calculator'.\n",
      "Conflict! Overwrite parameter 'sample_calculator_args'.\n",
      "Conflict! Overwrite parameter 'sample_properties'.\n",
      "Conflict! Overwrite parameter 'sample_systems_optimize'.\n",
      "Conflict! Overwrite parameter 'sample_systems_optimize_fmax'.\n",
      "Conflict! Overwrite parameter 'sample_data_overwrite'.\n",
      "Conflict! Overwrite parameter 'sample_tag'.\n",
      "\n"
     ]
    }
   ],
   "source": [
    "# Import the asparagus bundle\n",
    "from asparagus import Asparagus # Import the asparagus bundle package\n",
    "from asparagus import MDSampler, NormalModeScanner, MetaSampler # Import the different sampling methods\n",
    "\n",
    "#Scan the angle around the C-Br-O bond\n",
    "sampler = MetaSampler(\n",
    "        config='sn2_config.json',\n",
    "        sample_directory='sn2_samples',\n",
    "        sample_systems=['Sn2_struct/fs_min.xyz'],\n",
    "        sample_systems_format='xyz',\n",
    "        sample_calculator='XTB',\n",
    "        sample_properties=['energy', 'forces', 'dipole'],\n",
    "        sample_systems_optimize=False,\n",
    "        meta_cv=[[0,2,1]],\n",
    "        meta_hookean=[[0,2,1,6.0]],\n",
    "        meta_gaussian_height=0.10,\n",
    "        meta_gaussian_widths=0.2,\n",
    "        meta_gaussian_interval=10,\n",
    "        meta_time_step=1.0,\n",
    "        meta_simulation_time=3000.0,\n",
    "        meta_save_interval=10,\n",
    "        meta_temperature=300,\n",
    "        meta_langevin_friction=1.0,\n",
    "        meta_initial_velocities=True,\n",
    "        meta_initial_temperature=300.,\n",
    "    )\n",
    "sampler.run()\n"
   ],
   "metadata": {
    "collapsed": false,
    "ExecuteTime": {
     "end_time": "2023-12-20T14:45:14.367400614Z",
     "start_time": "2023-12-20T14:13:07.708044497Z"
    }
   },
   "id": "3f3a83402c442c53"
  },
  {
   "cell_type": "markdown",
   "source": [
    "The previous block start the sampling module and write a new configuration file called `sn2_config.json`. This file contains the information about the sampling. In the first part, we only sample the "
   ],
   "metadata": {
    "collapsed": false
   },
   "id": "b5b3d0d9f8bd9acf"
  },
  {
   "cell_type": "code",
   "execution_count": 7,
   "outputs": [
    {
     "data": {
      "text/plain": "<subprocess.Popen at 0x7fcd56df46a0>"
     },
     "execution_count": 7,
     "metadata": {},
     "output_type": "execute_result"
    }
   ],
   "source": [
    "# Look at the trajectory generated\n",
    "from ase.io import Trajectory\n",
    "traj = Trajectory('sn2_samples/1_meta.traj')\n",
    "view(traj)"
   ],
   "metadata": {
    "collapsed": false,
    "ExecuteTime": {
     "end_time": "2023-12-19T17:36:04.855090633Z",
     "start_time": "2023-12-19T17:36:03.865076634Z"
    }
   },
   "id": "f653ab35fc8a87cc"
  },
  {
   "cell_type": "code",
   "execution_count": 8,
   "outputs": [
    {
     "name": "stderr",
     "output_type": "stream",
     "text": [
      "INFO:asparagus.src.settings.config:INFO:\n",
      "Global parameter configuration update of 'sn2_config.json'.\n",
      "Current configuration entries will be overwritten in case of conflicting entries.\n",
      "\n",
      "INFO:asparagus.src.settings.config:INFO:\n",
      "Adding parameter 'sample_data_file'.\n",
      "Conflict! Overwrite parameter 'sample_directory'.\n",
      "Conflict! Overwrite parameter 'sample_systems'.\n",
      "Conflict! Overwrite parameter 'sample_systems_format'.\n",
      "Conflict! Overwrite parameter 'sample_calculator'.\n",
      "Conflict! Overwrite parameter 'sample_calculator_args'.\n",
      "Conflict! Overwrite parameter 'sample_properties'.\n",
      "Conflict! Overwrite parameter 'sample_systems_optimize'.\n",
      "Conflict! Overwrite parameter 'sample_systems_optimize_fmax'.\n",
      "Conflict! Overwrite parameter 'sample_data_overwrite'.\n",
      "Conflict! Overwrite parameter 'sample_tag'.\n",
      "\n"
     ]
    }
   ],
   "source": [
    "from asparagus import MDSampler, NormalModeScanner, MetaSampler # Import the different sampling methods\n",
    "sampler = MetaSampler(\n",
    "        config='sn2_config.json',\n",
    "        sample_directory='sn2_samples',\n",
    "        sample_systems=['Sn2_struct/wal_ts.xyz'],\n",
    "        sample_systems_format='xyz',\n",
    "        sample_calculator='XTB',\n",
    "        sample_properties=['energy', 'forces', 'dipole'],\n",
    "        sample_systems_optimize=False,\n",
    "        meta_cv=[[0,2]],\n",
    "        meta_hookean=[[0,2,5.0]],\n",
    "        meta_gaussian_height=0.2,\n",
    "        meta_gaussian_widths=0.2,\n",
    "        meta_gaussian_interval=10,\n",
    "        meta_time_step=1.0,\n",
    "        meta_simulation_time=500.0,\n",
    "        meta_save_interval=10,\n",
    "        meta_temperature=300,\n",
    "        meta_langevin_friction=1.0,\n",
    "        meta_initial_velocities=True,\n",
    "        meta_initial_temperature=300.,\n",
    "    )\n",
    "sampler.run()"
   ],
   "metadata": {
    "collapsed": false,
    "ExecuteTime": {
     "end_time": "2023-12-20T14:52:54.591647420Z",
     "start_time": "2023-12-20T14:46:42.051929845Z"
    }
   },
   "id": "5f0dba516f9fccf8"
  },
  {
   "cell_type": "code",
   "execution_count": 16,
   "outputs": [
    {
     "ename": "NameError",
     "evalue": "name 'Trajectory' is not defined",
     "output_type": "error",
     "traceback": [
      "\u001B[0;31m---------------------------------------------------------------------------\u001B[0m",
      "\u001B[0;31mNameError\u001B[0m                                 Traceback (most recent call last)",
      "Cell \u001B[0;32mIn[16], line 1\u001B[0m\n\u001B[0;32m----> 1\u001B[0m traj2 \u001B[38;5;241m=\u001B[39m \u001B[43mTrajectory\u001B[49m(\u001B[38;5;124m'\u001B[39m\u001B[38;5;124msn2_samples/2_meta.traj\u001B[39m\u001B[38;5;124m'\u001B[39m)\n\u001B[1;32m      2\u001B[0m view(traj2)\n",
      "\u001B[0;31mNameError\u001B[0m: name 'Trajectory' is not defined"
     ]
    }
   ],
   "source": [
    "traj2 = Trajectory('sn2_samples/2_meta.traj')\n",
    "view(traj2)"
   ],
   "metadata": {
    "collapsed": false,
    "ExecuteTime": {
     "end_time": "2023-12-20T12:31:07.578589699Z",
     "start_time": "2023-12-20T12:31:07.566752499Z"
    }
   },
   "id": "7468dbecf9c64926"
  },
  {
   "cell_type": "markdown",
   "source": [
    "Now we sample over products and reactants with Normal Mode Sampling"
   ],
   "metadata": {
    "collapsed": false
   },
   "id": "cb13dce85a3f7f51"
  },
  {
   "cell_type": "code",
   "execution_count": 1,
   "outputs": [
    {
     "name": "stderr",
     "output_type": "stream",
     "text": [
      "/home/vazquez/miniforge3/envs/asparagus/lib/python3.8/site-packages/h5py/__init__.py:36: UserWarning: h5py is running against HDF5 1.14.3 when it was built against 1.14.2, this may cause problems\n",
      "  _warn((\"h5py is running against HDF5 {0} when it was built against {1}, \"\n",
      "INFO:asparagus.src.settings.config:INFO:\n",
      "Global parameter configuration update of 'sn2_config.json'.\n",
      "Current configuration entries will be overwritten in case of conflicting entries.\n",
      "\n",
      "INFO:asparagus.src.settings.config:INFO:\n",
      "Conflict! Overwrite parameter 'sample_data_file'.\n",
      "Conflict! Overwrite parameter 'sample_directory'.\n",
      "Conflict! Overwrite parameter 'sample_systems'.\n",
      "Conflict! Overwrite parameter 'sample_systems_format'.\n",
      "Conflict! Overwrite parameter 'sample_calculator'.\n",
      "Conflict! Overwrite parameter 'sample_calculator_args'.\n",
      "Conflict! Overwrite parameter 'sample_properties'.\n",
      "Conflict! Overwrite parameter 'sample_systems_optimize'.\n",
      "Conflict! Overwrite parameter 'sample_systems_optimize_fmax'.\n",
      "Conflict! Overwrite parameter 'sample_data_overwrite'.\n",
      "Conflict! Overwrite parameter 'sample_tag'.\n",
      "\n",
      "INFO:asparagus.src.settings.config:INFO:\n",
      "Global parameter configuration update of 'sn2_config.json'.\n",
      "Current configuration entries will be overwritten in case of conflicting entries.\n",
      "\n",
      "INFO:asparagus.src.settings.config:INFO:\n",
      "Conflict! Overwrite parameter 'nms_temperature'.\n",
      "Conflict! Overwrite parameter 'nms_nsamples'.\n",
      "\n"
     ]
    },
    {
     "name": "stdout",
     "output_type": "stream",
     "text": [
      "---------------------\n",
      "  #    meV     cm^-1\n",
      "---------------------\n",
      "  0    1.3i     10.2i\n",
      "  1    0.5i      4.0i\n",
      "  2    0.3i      2.6i\n",
      "  3    0.0i      0.2i\n",
      "  4    0.0       0.1\n",
      "  5    0.4       3.3\n",
      "  6   10.0      80.4\n",
      "  7   13.8     111.4\n",
      "  8   18.7     150.9\n",
      "  9   56.3     454.2\n",
      " 10  127.3    1026.9\n",
      " 11  133.9    1079.9\n",
      " 12  138.9    1120.7\n",
      " 13  159.1    1283.6\n",
      " 14  174.2    1405.2\n",
      " 15  181.1    1460.4\n",
      " 16  182.0    1467.7\n",
      " 17  363.1    2928.8\n",
      " 18  366.0    2951.8\n",
      " 19  376.9    3039.8\n",
      " 20  436.3    3518.6\n",
      "---------------------\n",
      "Zero-point energy: 1.369 eV\n",
      "---------------------\n",
      "  #    meV     cm^-1\n",
      "---------------------\n",
      "  0    0.8i      6.3i\n",
      "  1    0.5i      3.6i\n",
      "  2    0.3i      2.4i\n",
      "  3    0.0i      0.3i\n",
      "  4    0.0       0.2\n",
      "  5    0.7       6.0\n",
      "  6    6.7      54.4\n",
      "  7    7.5      60.7\n",
      "  8   17.8     143.2\n",
      "  9   24.4     196.5\n",
      " 10   28.6     230.7\n",
      " 11   48.6     392.0\n",
      " 12   71.7     578.5\n",
      " 13   87.8     707.9\n",
      " 14  116.0     935.9\n",
      " 15  164.0    1322.7\n",
      " 16  187.8    1514.8\n",
      " 17  384.4    3100.5\n",
      " 18  392.2    3163.1\n",
      " 19  405.7    3272.0\n",
      " 20  452.2    3647.3\n",
      "---------------------\n",
      "Zero-point energy: 1.198 eV\n"
     ]
    }
   ],
   "source": [
    "from asparagus import NormalModeSampler\n",
    "sampler_nms = NormalModeSampler( config='sn2_config.json',\n",
    "                                 sample_directory='sn2_samples',\n",
    "                                 sample_data_file='meta.db',\n",
    "                                 sample_systems=['Sn2_struct/prod.xyz','Sn2_struct/react.xyz'],\n",
    "                                 sample_systems_format='xyz',\n",
    "                                 sample_calculator='XTB',\n",
    "                                 sample_properties=['energy', 'forces', 'dipole'],\n",
    "                                 sample_systems_optimize=True,\n",
    "                                 nms_temperature=300,\n",
    "                                 nms_nsamples=1000,)\n",
    "sampler_nms.run()\n"
   ],
   "metadata": {
    "collapsed": false,
    "ExecuteTime": {
     "end_time": "2023-12-20T17:15:11.043109540Z",
     "start_time": "2023-12-20T16:31:13.819549502Z"
    }
   },
   "id": "d8173918009cbdd2"
  },
  {
   "cell_type": "markdown",
   "source": [
    "# Training\n",
    "\n",
    "Now that we finish with the initial sampling, we can train the model, again using asparagus bundle."
   ],
   "metadata": {
    "collapsed": false
   },
   "id": "8ce9a7d7b406c84b"
  },
  {
   "cell_type": "code",
   "execution_count": 2,
   "outputs": [
    {
     "name": "stderr",
     "output_type": "stream",
     "text": [
      "INFO:asparagus.src.settings.config:INFO:\n",
      "Global parameter configuration update of 'sn2_config.json'.\n",
      "Current configuration entries will be overwritten in case of conflicting entries.\n",
      "\n",
      "INFO:asparagus.src.settings.config:INFO:\n",
      "Adding parameter 'data_file'.\n",
      "Adding parameter 'model_device'.\n",
      "Adding parameter 'model_directory'.\n",
      "Adding parameter 'model_properties'.\n",
      "Adding parameter 'model_interaction_cutoff'.\n",
      "Adding parameter 'trainer_properties_weights'.\n",
      "Adding parameter 'trainer_max_epochs'.\n",
      "\n",
      "INFO:asparagus.src.settings.config:INFO:\n",
      "Global parameter configuration update of 'sn2_config.json'.\n",
      "Current configuration entries will be overwritten in case of conflicting entries.\n",
      "\n",
      "INFO:asparagus.src.settings.config:INFO:\n",
      "Conflict! Overwrite parameter 'data_file'.\n",
      "Adding parameter 'data_source'.\n",
      "Adding parameter 'data_format'.\n",
      "Adding parameter 'data_alt_property_labels'.\n",
      "Adding parameter 'data_unit_positions'.\n",
      "Adding parameter 'data_load_properties'.\n",
      "Adding parameter 'data_unit_properties'.\n",
      "Adding parameter 'data_num_train'.\n",
      "Adding parameter 'data_num_valid'.\n",
      "Adding parameter 'data_num_test'.\n",
      "Adding parameter 'data_train_batch_size'.\n",
      "Adding parameter 'data_valid_batch_size'.\n",
      "Adding parameter 'data_test_batch_size'.\n",
      "Adding parameter 'data_num_workers'.\n",
      "Adding parameter 'data_workdir'.\n",
      "Adding parameter 'data_overwrite'.\n",
      "Adding parameter 'data_seed'.\n",
      "\n",
      "INFO:asparagus.src.data.datacontainer:INFO:\n",
      "2354 reference data points are distributed on data subsets.\n",
      "Training data:     1883 ( 80.0%)\n",
      "Validation data:    235 ( 10.0%)\n",
      "Test data:          236 ( 10.0%)\n",
      "\n",
      "INFO:asparagus.src.settings.config:INFO:\n",
      "Global parameter configuration update of 'sn2_config.json'.\n",
      "Current configuration entries will be overwritten in case of conflicting entries.\n",
      "\n",
      "INFO:asparagus.src.data.datacontainer:INFO:\n",
      "Start computing means for training data property. This might take a moment.\n",
      "INFO:asparagus.src.data.datacontainer:INFO:\n",
      "Start computing standard deviation for training data property. This might take a moment.\n",
      "INFO:asparagus.src.data.datacontainer:INFO:\n",
      "Done.\n",
      "\n",
      "INFO:asparagus.src.settings.config:INFO:\n",
      "Global parameter configuration update of 'sn2_config.json'.\n",
      "Current configuration entries will be overwritten in case of conflicting entries.\n",
      "\n",
      "INFO:asparagus.src.settings.config:INFO:\n",
      "Adding parameter 'model_properties_scaling'.\n",
      "\n",
      "INFO:asparagus.src.settings.config:INFO:\n",
      "Global parameter configuration update of 'sn2_config.json'.\n",
      "Current configuration entries will be overwritten in case of conflicting entries.\n",
      "\n",
      "INFO:asparagus.src.settings.config:INFO:\n",
      "Conflict! Overwrite parameter 'model_directory'.\n",
      "Adding parameter 'model_num_threads'.\n",
      "Adding parameter 'model_type'.\n",
      "\n",
      "INFO:asparagus.src.settings.config:INFO:\n",
      "Global parameter configuration update of 'sn2_config.json'.\n",
      "Current configuration entries will be overwritten in case of conflicting entries.\n",
      "\n",
      "INFO:asparagus.src.settings.config:INFO:\n",
      "Conflict! Overwrite parameter 'model_properties'.\n",
      "Adding parameter 'model_unit_properties'.\n",
      "Adding parameter 'model_descriptor_cutoff'.\n",
      "Conflict! Overwrite parameter 'model_interaction_cutoff'.\n",
      "Adding parameter 'model_cutoff_width'.\n",
      "Adding parameter 'model_repulsion'.\n",
      "Adding parameter 'model_electrostatic'.\n",
      "Adding parameter 'model_dispersion'.\n",
      "Adding parameter 'model_dispersion_trainable'.\n",
      "Conflict! Overwrite parameter 'model_properties_scaling'.\n",
      "\n",
      "WARNING:asparagus.src.model.physnet:WARNING:\n",
      "Model properties do not include atomic chargesmode dipole prediction is requested!\n",
      "Atomic charges are added to model properties.\n",
      "\n",
      "INFO:asparagus.src.settings.config:INFO:\n",
      "Global parameter configuration update of 'sn2_config.json'.\n",
      "Current configuration entries will be overwritten in case of conflicting entries.\n",
      "\n",
      "INFO:asparagus.src.settings.config:INFO:\n",
      "Adding parameter 'input_type'.\n",
      "\n",
      "INFO:asparagus.src.settings.config:INFO:\n",
      "Global parameter configuration update of 'sn2_config.json'.\n",
      "Current configuration entries will be overwritten in case of conflicting entries.\n",
      "\n",
      "INFO:asparagus.src.settings.config:INFO:\n",
      "Adding parameter 'input_n_atombasis'.\n",
      "Adding parameter 'input_n_radialbasis'.\n",
      "Adding parameter 'input_cutoff_descriptor'.\n",
      "Adding parameter 'input_cutoff_fn'.\n",
      "Adding parameter 'input_rbf_center_start'.\n",
      "Adding parameter 'input_rbf_center_end'.\n",
      "Adding parameter 'input_rbf_trainable'.\n",
      "Adding parameter 'input_n_maxatom'.\n",
      "Adding parameter 'input_atom_features_range'.\n",
      "\n",
      "INFO:asparagus.src.settings.config:INFO:\n",
      "Global parameter configuration update of 'sn2_config.json'.\n",
      "Current configuration entries will be overwritten in case of conflicting entries.\n",
      "\n",
      "INFO:asparagus.src.settings.config:INFO:\n",
      "Adding parameter 'graph_type'.\n",
      "\n",
      "INFO:asparagus.src.settings.config:INFO:\n",
      "Global parameter configuration update of 'sn2_config.json'.\n",
      "Current configuration entries will be overwritten in case of conflicting entries.\n",
      "\n",
      "INFO:asparagus.src.settings.config:INFO:\n",
      "Adding parameter 'graph_n_blocks'.\n",
      "Adding parameter 'graph_n_residual_interaction'.\n",
      "Adding parameter 'graph_n_residual_atomic'.\n",
      "Adding parameter 'graph_activation_fn'.\n",
      "\n",
      "INFO:asparagus.src.settings.config:INFO:\n",
      "Global parameter configuration update of 'sn2_config.json'.\n",
      "Current configuration entries will be overwritten in case of conflicting entries.\n",
      "\n",
      "INFO:asparagus.src.settings.config:INFO:\n",
      "Adding parameter 'output_type'.\n",
      "\n",
      "INFO:asparagus.src.settings.config:INFO:\n",
      "Global parameter configuration update of 'sn2_config.json'.\n",
      "Current configuration entries will be overwritten in case of conflicting entries.\n",
      "\n",
      "INFO:asparagus.src.settings.config:INFO:\n",
      "Adding parameter 'output_n_residual'.\n",
      "Adding parameter 'output_properties'.\n",
      "Adding parameter 'output_activation_fn'.\n",
      "\n",
      "INFO:asparagus.src.settings.config:INFO:\n",
      "Global parameter configuration update of 'sn2_config.json'.\n",
      "Current configuration entries will be overwritten in case of conflicting entries.\n",
      "\n",
      "INFO:asparagus.src.settings.config:INFO:\n",
      "Adding parameter 'data_container'.\n",
      "Adding parameter 'model_calculator'.\n",
      "Adding parameter 'trainer_restart'.\n",
      "Conflict! Overwrite parameter 'trainer_max_epochs'.\n",
      "Adding parameter 'trainer_properties_train'.\n",
      "Adding parameter 'trainer_properties_metrics'.\n",
      "Conflict! Overwrite parameter 'trainer_properties_weights'.\n",
      "Adding parameter 'trainer_optimizer'.\n",
      "Adding parameter 'trainer_optimizer_args'.\n",
      "Adding parameter 'trainer_scheduler'.\n",
      "Adding parameter 'trainer_scheduler_args'.\n",
      "Adding parameter 'trainer_ema'.\n",
      "Adding parameter 'trainer_ema_decay'.\n",
      "Adding parameter 'trainer_max_gradient_norm'.\n",
      "Adding parameter 'trainer_save_interval'.\n",
      "Adding parameter 'trainer_validation_interval'.\n",
      "Adding parameter 'trainer_evaluate_testset'.\n",
      "Adding parameter 'trainer_max_checkpoints'.\n",
      "Adding parameter 'trainer_store_neighbor_list'.\n",
      "\n",
      "INFO:asparagus.src.train.trainer:INFO:\n",
      "Model property units are not defined!\n",
      "Property units from the reference dataset are assigned.\n",
      "\n",
      "INFO:asparagus.src.train.trainer:INFO:\n",
      "Model property units:\n",
      " Property Label | Model Unit     | Data Unit      | Conversion Fac.\n",
      "--------------------------------------------------------------------\n",
      " energy           eV               eV              1.000000000e+00\n",
      " forces           eV/Ang           eV/Ang          1.000000000e+00\n",
      " dipole           eAng             eAng            1.000000000e+00\n",
      " charge           e                e               1.000000000e+00\n",
      " positions        Ang              Ang             1.000000000e+00\n",
      "\n",
      "INFO:asparagus.src.settings.config:INFO:\n",
      "Global parameter configuration update of 'sn2_config.json'.\n",
      "Current configuration entries will be overwritten in case of conflicting entries.\n",
      "\n",
      "INFO:asparagus.src.settings.config:INFO:\n",
      "Conflict! Overwrite parameter 'model_unit_properties'.\n",
      "\n",
      "INFO:asparagus.src.train.trainer:INFO:\n",
      "Property    Metric    Unit      Weight\n",
      "---------------------------------------\n",
      "energy      MSE       eV           1.0\n",
      "forces      MSE       eV/Ang      50.0\n",
      "dipole      MSE       eAng        25.0\n",
      "\n",
      "INFO:asparagus.src.settings.config:INFO:\n",
      "Global parameter configuration update of 'sn2_config.json'.\n",
      "Current configuration entries will be overwritten in case of conflicting entries.\n",
      "\n",
      "INFO:asparagus.src.settings.config:INFO:\n",
      "Conflict! Overwrite parameter 'data_container'.\n",
      "Adding parameter 'test_datasets'.\n",
      "Adding parameter 'test_properties'.\n",
      "Adding parameter 'test_store_neighbor_list'.\n",
      "\n"
     ]
    },
    {
     "name": "stdout",
     "output_type": "stream",
     "text": [
      "\n",
      "       '   _______                                                  ______                  _ _        \n",
      "       '  (_______)                                                (____  \\                | | |       \n",
      "       '   _______  ___ ____  _____  ____ _____  ____ _   _  ___    ____)  )_   _ ____   __| | | _____ \n",
      "       '  |  ___  |/___)  _ \\(____ |/ ___|____ |/ _  | | | |/___)  |  __  (| | | |  _ \\ / _  | || ___ |\n",
      "       '  | |   | |___ | |_| / ___ | |   / ___ ( (_| | |_| |___ |  | |__)  ) |_| | | | ( (_| | || ____|\n",
      "       '  |_|   |_(___/|  __/\\_____|_|   \\_____|\\___ |____/(___/   |______/|____/|_| |_|\\____|\\_)_____)\n",
      "       '               |_|                     (_____|                            \n",
      "       '\n",
      "       '                        Authors: K. Toepfer and L.I. Vazquez-Salazar\n",
      "       '                        Date: 2023-12-20 18:16:00\n",
      "       '                        Task: Training a Neural Network Potential               \n",
      "       '                        Running on: pc-mm016 with: cpu\n",
      "       '                        Details of this run are stored in: sn2_config.json \n",
      "       ' ---------------------------------------------------------------------------------------------     \n",
      "       \n",
      "Epoch     1 |##########################################| 100.0% Done - Epoch Time:  15.5 s, Loss:  40.4294   \r\n",
      "Epoch     2 |##########################################| 100.0% Done - Epoch Time:  11.7 s, Loss:  25.6438   \r\n",
      "Epoch     3 |##########################################| 100.0% Done - Epoch Time:  10.0 s, Loss:  16.6288   \r\n",
      "Epoch     4 |##########################################| 100.0% Done - Epoch Time:  9.9 s, Loss:  11.8411   \r\n",
      "Epoch     5 |##########################################| 100.0% Done - Epoch Time:  11.1 s, Loss:  8.9322   \r\n"
     ]
    },
    {
     "name": "stderr",
     "output_type": "stream",
     "text": [
      "INFO:asparagus.src.train.tester:INFO:\n",
      "Summary for test set:\n",
      "  Property Metrics    MAE,       RMSE\n",
      "   energy           6.64e-01,  7.63e-01 eV\n",
      "   forces           3.50e-01,  5.37e-01 eV/Ang\n",
      "   dipole           2.12e-01,  2.67e-01 eAng\n",
      "\n",
      "INFO:asparagus.src.train.trainer:INFO:\n",
      "Summary Epoch: 5/1000\n",
      "  Loss   train / valid:  8.93E+00 / 8.39E+00  Best Loss valid: 8.39E+00\n",
      "  Property Metrics (valid):\n",
      "    energy      MAE (Best) / RMSE (Best):  6.51E-01 (6.51E-01) / 7.83E-01 (7.83E-01) eV\n",
      "    forces      MAE (Best) / RMSE (Best):  3.85E-01 (3.85E-01) / 6.19E-01 (6.19E-01) eV/Ang\n",
      "    dipole      MAE (Best) / RMSE (Best):  2.13E-01 (2.13E-01) / 2.77E-01 (2.77E-01) eAng\n",
      "\n"
     ]
    },
    {
     "name": "stdout",
     "output_type": "stream",
     "text": [
      "Epoch     6 |##########################################| 100.0% Done - Epoch Time:  10.2 s, Loss:  7.5870   \r\n",
      "Epoch     7 |##########################################| 100.0% Done - Epoch Time:  10.4 s, Loss:  7.1450   \r\n",
      "Epoch     8 |##########################################| 100.0% Done - Epoch Time:  10.1 s, Loss:  6.0065   \r\n",
      "Epoch     9 |##########################################| 100.0% Done - Epoch Time:  8.2 s, Loss:  5.4716   \r\n",
      "Epoch    10 |##########################################| 100.0% Done - Epoch Time:  13.1 s, Loss:  5.2265   \r\n"
     ]
    },
    {
     "name": "stderr",
     "output_type": "stream",
     "text": [
      "INFO:asparagus.src.train.tester:INFO:\n",
      "Summary for test set:\n",
      "  Property Metrics    MAE,       RMSE\n",
      "   energy           6.53e-01,  7.43e-01 eV\n",
      "   forces           2.71e-01,  4.06e-01 eV/Ang\n",
      "   dipole           1.45e-01,  1.92e-01 eAng\n",
      "\n",
      "INFO:asparagus.src.train.trainer:INFO:\n",
      "Summary Epoch: 10/1000\n",
      "  Loss   train / valid:  5.23E+00 / 5.44E+00  Best Loss valid: 5.44E+00\n",
      "  Property Metrics (valid):\n",
      "    energy      MAE (Best) / RMSE (Best):  6.39E-01 (6.39E-01) / 7.29E-01 (7.29E-01) eV\n",
      "    forces      MAE (Best) / RMSE (Best):  2.96E-01 (2.96E-01) / 4.70E-01 (4.70E-01) eV/Ang\n",
      "    dipole      MAE (Best) / RMSE (Best):  1.59E-01 (1.59E-01) / 2.15E-01 (2.15E-01) eAng\n",
      "\n"
     ]
    },
    {
     "name": "stdout",
     "output_type": "stream",
     "text": [
      "Epoch    11 |##########################################| 100.0% Done - Epoch Time:  8.9 s, Loss:  5.1605   \r\n",
      "Epoch    12 |##########################################| 100.0% Done - Epoch Time:  8.1 s, Loss:  4.4180   \r\n",
      "Epoch    13 |##########################################| 100.0% Done - Epoch Time:  7.6 s, Loss:  4.0046   \r\n",
      "Epoch    14 |##########################################| 100.0% Done - Epoch Time:  6.8 s, Loss:  3.8301   \r\n",
      "Epoch    15 |##########################################| 100.0% Done - Epoch Time:  6.0 s, Loss:  3.5020   \r\n"
     ]
    },
    {
     "name": "stderr",
     "output_type": "stream",
     "text": [
      "INFO:asparagus.src.train.tester:INFO:\n",
      "Summary for test set:\n",
      "  Property Metrics    MAE,       RMSE\n",
      "   energy           5.01e-01,  6.56e-01 eV\n",
      "   forces           2.36e-01,  3.26e-01 eV/Ang\n",
      "   dipole           1.06e-01,  1.36e-01 eAng\n",
      "\n",
      "INFO:asparagus.src.train.trainer:INFO:\n",
      "Summary Epoch: 15/1000\n",
      "  Loss   train / valid:  3.50E+00 / 3.57E+00  Best Loss valid: 3.57E+00\n",
      "  Property Metrics (valid):\n",
      "    energy      MAE (Best) / RMSE (Best):  5.36E-01 (5.36E-01) / 6.88E-01 (6.88E-01) eV\n",
      "    forces      MAE (Best) / RMSE (Best):  2.52E-01 (2.52E-01) / 3.56E-01 (3.56E-01) eV/Ang\n",
      "    dipole      MAE (Best) / RMSE (Best):  1.20E-01 (1.20E-01) / 1.60E-01 (1.60E-01) eAng\n",
      "\n"
     ]
    },
    {
     "name": "stdout",
     "output_type": "stream",
     "text": [
      "Epoch    16 |##########################################| 100.0% Done - Epoch Time:  7.2 s, Loss:  3.3959   \r\n",
      "Epoch    17 |##########################################| 100.0% Done - Epoch Time:  7.5 s, Loss:  3.3165   \r\n",
      "Epoch    18 |##########################################| 100.0% Done - Epoch Time:  6.0 s, Loss:  3.2518   \r\n",
      "Epoch    19 |##########################################| 100.0% Done - Epoch Time:  5.9 s, Loss:  3.0774   \r\n",
      "Epoch    20 |##########################################| 100.0% Done - Epoch Time:  7.2 s, Loss:  3.2578   \r\n"
     ]
    },
    {
     "name": "stderr",
     "output_type": "stream",
     "text": [
      "INFO:asparagus.src.train.tester:INFO:\n",
      "Summary for test set:\n",
      "  Property Metrics    MAE,       RMSE\n",
      "   energy           3.07e-01,  3.54e-01 eV\n",
      "   forces           2.48e-01,  3.38e-01 eV/Ang\n",
      "   dipole           9.22e-02,  1.18e-01 eAng\n",
      "\n",
      "INFO:asparagus.src.train.trainer:INFO:\n",
      "Summary Epoch: 20/1000\n",
      "  Loss   train / valid:  3.26E+00 / 3.24E+00  Best Loss valid: 3.24E+00\n",
      "  Property Metrics (valid):\n",
      "    energy      MAE (Best) / RMSE (Best):  2.89E-01 (2.89E-01) / 3.47E-01 (3.47E-01) eV\n",
      "    forces      MAE (Best) / RMSE (Best):  2.49E-01 (2.49E-01) / 3.49E-01 (3.49E-01) eV/Ang\n",
      "    dipole      MAE (Best) / RMSE (Best):  1.06E-01 (1.06E-01) / 1.38E-01 (1.38E-01) eAng\n",
      "\n"
     ]
    },
    {
     "name": "stdout",
     "output_type": "stream",
     "text": [
      "Epoch    21 |##########################################| 100.0% Done - Epoch Time:  10.3 s, Loss:  3.0783   \r\n",
      "Epoch    22 |##########################################| 100.0% Done - Epoch Time:  7.5 s, Loss:  2.6408   \r\n",
      "Epoch    23 |##########################################| 100.0% Done - Epoch Time:  35.9 s, Loss:  2.4357   \r\n",
      "Epoch    24 |##########################################| 100.0% Done - Epoch Time:  73.5 s, Loss:  2.6202   \r\n",
      "Epoch    25 |##########################################| 100.0% Done - Epoch Time:  13.8 s, Loss:  2.4000   \r\n"
     ]
    },
    {
     "name": "stderr",
     "output_type": "stream",
     "text": [
      "INFO:asparagus.src.train.tester:INFO:\n",
      "Summary for test set:\n",
      "  Property Metrics    MAE,       RMSE\n",
      "   energy           1.88e-01,  2.52e-01 eV\n",
      "   forces           1.95e-01,  2.74e-01 eV/Ang\n",
      "   dipole           8.30e-02,  1.05e-01 eAng\n",
      "\n",
      "INFO:asparagus.src.train.trainer:INFO:\n",
      "Summary Epoch: 25/1000\n",
      "  Loss   train / valid:  2.40E+00 / 2.34E+00  Best Loss valid: 2.34E+00\n",
      "  Property Metrics (valid):\n",
      "    energy      MAE (Best) / RMSE (Best):  1.92E-01 (1.92E-01) / 2.53E-01 (2.53E-01) eV\n",
      "    forces      MAE (Best) / RMSE (Best):  2.07E-01 (2.07E-01) / 2.95E-01 (2.95E-01) eV/Ang\n",
      "    dipole      MAE (Best) / RMSE (Best):  9.32E-02 (9.32E-02) / 1.21E-01 (1.21E-01) eAng\n",
      "\n"
     ]
    },
    {
     "name": "stdout",
     "output_type": "stream",
     "text": [
      "Epoch    26 |##########################################| 100.0% Done - Epoch Time:  7.4 s, Loss:  2.5110   \r\n",
      "Epoch    27 |##########################################| 100.0% Done - Epoch Time:  8.0 s, Loss:  2.4049   \r\n",
      "Epoch    28 |##########################################| 100.0% Done - Epoch Time:  7.2 s, Loss:  2.3409   \r\n",
      "Epoch    29 |##########################################| 100.0% Done - Epoch Time:  6.0 s, Loss:  2.4111   \r\n",
      "Epoch    30 |##########################################| 100.0% Done - Epoch Time:  6.3 s, Loss:  2.0774   \r\n"
     ]
    },
    {
     "name": "stderr",
     "output_type": "stream",
     "text": [
      "INFO:asparagus.src.train.tester:INFO:\n",
      "Summary for test set:\n",
      "  Property Metrics    MAE,       RMSE\n",
      "   energy           2.81e-01,  3.34e-01 eV\n",
      "   forces           2.03e-01,  2.77e-01 eV/Ang\n",
      "   dipole           9.35e-02,  1.18e-01 eAng\n",
      "\n",
      "INFO:asparagus.src.train.trainer:INFO:\n",
      "Summary Epoch: 30/1000\n",
      "  Loss   train / valid:  2.08E+00 / 2.31E+00  Best Loss valid: 2.31E+00\n",
      "  Property Metrics (valid):\n",
      "    energy      MAE (Best) / RMSE (Best):  2.50E-01 (2.50E-01) / 3.13E-01 (3.13E-01) eV\n",
      "    forces      MAE (Best) / RMSE (Best):  2.12E-01 (2.12E-01) / 2.89E-01 (2.89E-01) eV/Ang\n",
      "    dipole      MAE (Best) / RMSE (Best):  9.74E-02 (9.74E-02) / 1.23E-01 (1.23E-01) eAng\n",
      "\n"
     ]
    },
    {
     "name": "stdout",
     "output_type": "stream",
     "text": [
      "Epoch    31 |##########################################| 100.0% Done - Epoch Time:  6.4 s, Loss:  2.1479   \r\n",
      "Epoch    32 |##########################################| 100.0% Done - Epoch Time:  7.8 s, Loss:  2.1686   \r\n",
      "Epoch    33 |##########################################| 100.0% Done - Epoch Time:  10.8 s, Loss:  2.0177   \r\n",
      "Epoch    34 |##########################################| 100.0% Done - Epoch Time:  8.1 s, Loss:  1.9994   \r\n",
      "Epoch    35 |##########################################| 100.0% Done - Epoch Time:  7.1 s, Loss:  2.0067   \r\n"
     ]
    },
    {
     "name": "stderr",
     "output_type": "stream",
     "text": [
      "INFO:asparagus.src.train.tester:INFO:\n",
      "Summary for test set:\n",
      "  Property Metrics    MAE,       RMSE\n",
      "   energy           1.59e-01,  1.90e-01 eV\n",
      "   forces           1.88e-01,  2.63e-01 eV/Ang\n",
      "   dipole           8.35e-02,  1.09e-01 eAng\n",
      "\n",
      "INFO:asparagus.src.train.trainer:INFO:\n",
      "Summary Epoch: 35/1000\n",
      "  Loss   train / valid:  2.01E+00 / 2.03E+00  Best Loss valid: 2.03E+00\n",
      "  Property Metrics (valid):\n",
      "    energy      MAE (Best) / RMSE (Best):  1.54E-01 (1.54E-01) / 1.88E-01 (1.88E-01) eV\n",
      "    forces      MAE (Best) / RMSE (Best):  1.98E-01 (1.98E-01) / 2.76E-01 (2.76E-01) eV/Ang\n",
      "    dipole      MAE (Best) / RMSE (Best):  8.41E-02 (8.41E-02) / 1.08E-01 (1.08E-01) eAng\n",
      "\n"
     ]
    },
    {
     "name": "stdout",
     "output_type": "stream",
     "text": [
      "Epoch    36 |##########################################| 100.0% Done - Epoch Time:  6.8 s, Loss:  1.9606   \r\n",
      "Epoch    37 |##########################################| 100.0% Done - Epoch Time:  6.8 s, Loss:  2.0098   \r\n",
      "Epoch    38 |##########################################| 100.0% Done - Epoch Time:  28.9 s, Loss:  1.8280   \r\n",
      "Epoch    39 |##########################################| 100.0% Done - Epoch Time:  80.8 s, Loss:  1.7728   \r\n",
      "Epoch    40 |##########################################| 100.0% Done - Epoch Time:  8.9 s, Loss:  1.7724   \r\n"
     ]
    },
    {
     "name": "stderr",
     "output_type": "stream",
     "text": [
      "INFO:asparagus.src.train.tester:INFO:\n",
      "Summary for test set:\n",
      "  Property Metrics    MAE,       RMSE\n",
      "   energy           3.57e-01,  3.97e-01 eV\n",
      "   forces           1.79e-01,  2.47e-01 eV/Ang\n",
      "   dipole           7.18e-02,  9.34e-02 eAng\n",
      "\n",
      "INFO:asparagus.src.train.trainer:INFO:\n",
      "Summary Epoch: 40/1000\n",
      "  Loss   train / valid:  1.77E+00 / 1.83E+00  Best Loss valid: 1.83E+00\n",
      "  Property Metrics (valid):\n",
      "    energy      MAE (Best) / RMSE (Best):  3.48E-01 (3.48E-01) / 3.83E-01 (3.83E-01) eV\n",
      "    forces      MAE (Best) / RMSE (Best):  1.86E-01 (1.86E-01) / 2.57E-01 (2.57E-01) eV/Ang\n",
      "    dipole      MAE (Best) / RMSE (Best):  7.59E-02 (7.59E-02) / 9.88E-02 (9.88E-02) eAng\n",
      "\n"
     ]
    },
    {
     "name": "stdout",
     "output_type": "stream",
     "text": [
      "Epoch    41 |##########################################| 100.0% Done - Epoch Time:  7.2 s, Loss:  1.8427   \r\n",
      "Epoch    42 |##########################################| 100.0% Done - Epoch Time:  7.1 s, Loss:  2.1667   \r\n",
      "Epoch    43 |##########################################| 100.0% Done - Epoch Time:  6.6 s, Loss:  2.0347   \r\n",
      "Epoch    44 |##########################################| 100.0% Done - Epoch Time:  6.5 s, Loss:  1.7050   \r\n",
      "Epoch    45 |##########################################| 100.0% Done - Epoch Time:  5.9 s, Loss:  1.5352   \r\n"
     ]
    },
    {
     "name": "stderr",
     "output_type": "stream",
     "text": [
      "INFO:asparagus.src.train.tester:INFO:\n",
      "Summary for test set:\n",
      "  Property Metrics    MAE,       RMSE\n",
      "   energy           9.40e-02,  1.32e-01 eV\n",
      "   forces           1.64e-01,  2.33e-01 eV/Ang\n",
      "   dipole           6.68e-02,  8.68e-02 eAng\n",
      "\n",
      "INFO:asparagus.src.train.trainer:INFO:\n",
      "Summary Epoch: 45/1000\n",
      "  Loss   train / valid:  1.54E+00 / 1.58E+00  Best Loss valid: 1.58E+00\n",
      "  Property Metrics (valid):\n",
      "    energy      MAE (Best) / RMSE (Best):  1.05E-01 (1.05E-01) / 1.47E-01 (1.47E-01) eV\n",
      "    forces      MAE (Best) / RMSE (Best):  1.71E-01 (1.71E-01) / 2.43E-01 (2.43E-01) eV/Ang\n",
      "    dipole      MAE (Best) / RMSE (Best):  7.05E-02 (7.05E-02) / 9.27E-02 (9.27E-02) eAng\n",
      "\n"
     ]
    },
    {
     "name": "stdout",
     "output_type": "stream",
     "text": [
      "Epoch    46 |##########################################| 100.0% Done - Epoch Time:  7.4 s, Loss:  1.4673   \r\n",
      "Epoch    47 |##########################################| 100.0% Done - Epoch Time:  13.5 s, Loss:  1.4528   \r\n",
      "Epoch    48 |##########################################| 100.0% Done - Epoch Time:  11.7 s, Loss:  1.4589   \r\n",
      "Epoch    49 |##########################################| 100.0% Done - Epoch Time:  7.3 s, Loss:  1.4729   \r\n",
      "Epoch    50 |##########################################| 100.0% Done - Epoch Time:  13.4 s, Loss:  1.4857   \r\n"
     ]
    },
    {
     "name": "stderr",
     "output_type": "stream",
     "text": [
      "INFO:asparagus.src.train.tester:INFO:\n",
      "Summary for test set:\n",
      "  Property Metrics    MAE,       RMSE\n",
      "   energy           1.92e-01,  2.25e-01 eV\n",
      "   forces           1.61e-01,  2.27e-01 eV/Ang\n",
      "   dipole           7.55e-02,  9.76e-02 eAng\n",
      "\n",
      "INFO:asparagus.src.train.trainer:INFO:\n",
      "Summary Epoch: 50/1000\n",
      "  Loss   train / valid:  1.49E+00 / 1.46E+00  Best Loss valid: 1.46E+00\n",
      "  Property Metrics (valid):\n",
      "    energy      MAE (Best) / RMSE (Best):  1.86E-01 (1.86E-01) / 2.25E-01 (2.25E-01) eV\n",
      "    forces      MAE (Best) / RMSE (Best):  1.65E-01 (1.65E-01) / 2.30E-01 (2.30E-01) eV/Ang\n",
      "    dipole      MAE (Best) / RMSE (Best):  7.43E-02 (7.43E-02) / 9.68E-02 (9.68E-02) eAng\n",
      "\n"
     ]
    },
    {
     "name": "stdout",
     "output_type": "stream",
     "text": [
      "Epoch    51 |##########################################| 100.0% Done - Epoch Time:  8.3 s, Loss:  1.4936   \r\n",
      "Epoch    52 |##########################################| 100.0% Done - Epoch Time:  8.2 s, Loss:  1.4674   \r\n",
      "Epoch    53 |##########################################| 100.0% Done - Epoch Time:  7.9 s, Loss:  1.4106   \r\n",
      "Epoch    54 |##########################################| 100.0% Done - Epoch Time:  30.6 s, Loss:  1.3280   \r\n",
      "Epoch    55 |##########################################| 100.0% Done - Epoch Time:  60.7 s, Loss:  1.3858   \r\n"
     ]
    },
    {
     "name": "stderr",
     "output_type": "stream",
     "text": [
      "INFO:asparagus.src.train.trainer:INFO:\n",
      "Summary Epoch: 55/1000\n",
      "  Loss   train / valid:  1.39E+00 / 1.52E+00  Best Loss valid: 1.46E+00\n",
      "  Property Metrics (valid):\n",
      "    energy      MAE (Best) / RMSE (Best):  2.11E-01 (1.86E-01) / 2.48E-01 (2.25E-01) eV\n",
      "    forces      MAE (Best) / RMSE (Best):  1.72E-01 (1.65E-01) / 2.36E-01 (2.30E-01) eV/Ang\n",
      "    dipole      MAE (Best) / RMSE (Best):  7.12E-02 (7.43E-02) / 9.28E-02 (9.68E-02) eAng\n",
      "\n"
     ]
    },
    {
     "name": "stdout",
     "output_type": "stream",
     "text": [
      "Epoch    56 |##########################################| 100.0% Done - Epoch Time:  8.7 s, Loss:  1.4737   \r\n",
      "Epoch    57 |##########################################| 100.0% Done - Epoch Time:  7.2 s, Loss:  1.5753   \r\n",
      "Epoch    58 |##########################################| 100.0% Done - Epoch Time:  7.5 s, Loss:  1.5682   \r\n",
      "Epoch    59 |##########################################| 100.0% Done - Epoch Time:  7.2 s, Loss:  1.3310   \r\n",
      "Epoch    60 |##########################################| 100.0% Done - Epoch Time:  6.3 s, Loss:  1.2338   \r\n"
     ]
    },
    {
     "name": "stderr",
     "output_type": "stream",
     "text": [
      "INFO:asparagus.src.train.tester:INFO:\n",
      "Summary for test set:\n",
      "  Property Metrics    MAE,       RMSE\n",
      "   energy           1.73e-01,  1.92e-01 eV\n",
      "   forces           1.52e-01,  2.15e-01 eV/Ang\n",
      "   dipole           7.16e-02,  9.19e-02 eAng\n",
      "\n",
      "INFO:asparagus.src.train.trainer:INFO:\n",
      "Summary Epoch: 60/1000\n",
      "  Loss   train / valid:  1.23E+00 / 1.27E+00  Best Loss valid: 1.27E+00\n",
      "  Property Metrics (valid):\n",
      "    energy      MAE (Best) / RMSE (Best):  1.71E-01 (1.71E-01) / 1.96E-01 (1.96E-01) eV\n",
      "    forces      MAE (Best) / RMSE (Best):  1.53E-01 (1.53E-01) / 2.13E-01 (2.13E-01) eV/Ang\n",
      "    dipole      MAE (Best) / RMSE (Best):  7.79E-02 (7.79E-02) / 9.93E-02 (9.93E-02) eAng\n",
      "\n"
     ]
    },
    {
     "name": "stdout",
     "output_type": "stream",
     "text": [
      "Epoch    61 |##########################################| 100.0% Done - Epoch Time:  5.7 s, Loss:  1.2190   \r\n",
      "Epoch    62 |##########################################| 100.0% Done - Epoch Time:  5.7 s, Loss:  1.2372   \r\n",
      "Epoch    63 |##########################################| 100.0% Done - Epoch Time:  6.4 s, Loss:  1.3916   \r\n",
      "Epoch    64 |##########################################| 100.0% Done - Epoch Time:  6.3 s, Loss:  1.2572   \r\n",
      "Epoch    65 |##########################################| 100.0% Done - Epoch Time:  18.1 s, Loss:  1.3084   \r\n"
     ]
    },
    {
     "name": "stderr",
     "output_type": "stream",
     "text": [
      "INFO:asparagus.src.train.trainer:INFO:\n",
      "Summary Epoch: 65/1000\n",
      "  Loss   train / valid:  1.31E+00 / 1.52E+00  Best Loss valid: 1.27E+00\n",
      "  Property Metrics (valid):\n",
      "    energy      MAE (Best) / RMSE (Best):  1.43E-01 (1.71E-01) / 1.76E-01 (1.96E-01) eV\n",
      "    forces      MAE (Best) / RMSE (Best):  1.69E-01 (1.53E-01) / 2.38E-01 (2.13E-01) eV/Ang\n",
      "    dipole      MAE (Best) / RMSE (Best):  6.32E-02 (7.79E-02) / 8.41E-02 (9.93E-02) eAng\n",
      "\n"
     ]
    },
    {
     "name": "stdout",
     "output_type": "stream",
     "text": [
      "Epoch    66 |##########################################| 100.0% Done - Epoch Time:  6.9 s, Loss:  1.2671   \r\n",
      "Epoch    67 |##########################################| 100.0% Done - Epoch Time:  30.2 s, Loss:  1.1505   \r\n",
      "Epoch    68 |##########################################| 100.0% Done - Epoch Time:  10.8 s, Loss:  1.0899   \r\n",
      "Epoch    69 |##########################################| 100.0% Done - Epoch Time:  38.1 s, Loss:  1.1177   \r\n",
      "Epoch    70 |##########################################| 100.0% Done - Epoch Time:  49.1 s, Loss:  1.0903   \r\n"
     ]
    },
    {
     "name": "stderr",
     "output_type": "stream",
     "text": [
      "INFO:asparagus.src.train.tester:INFO:\n",
      "Summary for test set:\n",
      "  Property Metrics    MAE,       RMSE\n",
      "   energy           1.44e-01,  1.68e-01 eV\n",
      "   forces           1.44e-01,  2.07e-01 eV/Ang\n",
      "   dipole           6.58e-02,  8.38e-02 eAng\n",
      "\n",
      "INFO:asparagus.src.train.trainer:INFO:\n",
      "Summary Epoch: 70/1000\n",
      "  Loss   train / valid:  1.09E+00 / 1.23E+00  Best Loss valid: 1.23E+00\n",
      "  Property Metrics (valid):\n",
      "    energy      MAE (Best) / RMSE (Best):  1.50E-01 (1.50E-01) / 1.81E-01 (1.81E-01) eV\n",
      "    forces      MAE (Best) / RMSE (Best):  1.48E-01 (1.48E-01) / 2.12E-01 (2.12E-01) eV/Ang\n",
      "    dipole      MAE (Best) / RMSE (Best):  7.07E-02 (7.07E-02) / 9.09E-02 (9.09E-02) eAng\n",
      "\n"
     ]
    },
    {
     "name": "stdout",
     "output_type": "stream",
     "text": [
      "Epoch    71 |##########################################| 100.0% Done - Epoch Time:  7.4 s, Loss:  1.0843   \r\n",
      "Epoch    72 |##########################################| 100.0% Done - Epoch Time:  7.0 s, Loss:  1.0570   \r\n",
      "Epoch    73 |##########################################| 100.0% Done - Epoch Time:  7.2 s, Loss:  1.0369   \r\n",
      "Epoch    74 |##########################################| 100.0% Done - Epoch Time:  6.8 s, Loss:  0.9816   \r\n",
      "Epoch    75 |##########################################| 100.0% Done - Epoch Time:  6.2 s, Loss:  0.9665   \r\n"
     ]
    },
    {
     "name": "stderr",
     "output_type": "stream",
     "text": [
      "INFO:asparagus.src.train.tester:INFO:\n",
      "Summary for test set:\n",
      "  Property Metrics    MAE,       RMSE\n",
      "   energy           9.46e-02,  1.28e-01 eV\n",
      "   forces           1.39e-01,  1.96e-01 eV/Ang\n",
      "   dipole           6.24e-02,  8.08e-02 eAng\n",
      "\n",
      "INFO:asparagus.src.train.trainer:INFO:\n",
      "Summary Epoch: 75/1000\n",
      "  Loss   train / valid:  9.67E-01 / 1.05E+00  Best Loss valid: 1.05E+00\n",
      "  Property Metrics (valid):\n",
      "    energy      MAE (Best) / RMSE (Best):  1.00E-01 (1.00E-01) / 1.36E-01 (1.36E-01) eV\n",
      "    forces      MAE (Best) / RMSE (Best):  1.40E-01 (1.40E-01) / 1.96E-01 (1.96E-01) eV/Ang\n",
      "    dipole      MAE (Best) / RMSE (Best):  6.18E-02 (6.18E-02) / 8.31E-02 (8.31E-02) eAng\n",
      "\n"
     ]
    },
    {
     "name": "stdout",
     "output_type": "stream",
     "text": [
      "Epoch    76 |##########################################| 100.0% Done - Epoch Time:  5.9 s, Loss:  1.0072   \r\n",
      "Epoch    77 |##########################################| 100.0% Done - Epoch Time:  5.9 s, Loss:  0.9705   \r\n",
      "Epoch    78 |##########################################| 100.0% Done - Epoch Time:  6.1 s, Loss:  0.9772   \r\n",
      "Epoch    79 |##########################################| 100.0% Done - Epoch Time:  5.6 s, Loss:  1.0289   \r\n",
      "Epoch    80 |##########################################| 100.0% Done - Epoch Time:  18.4 s, Loss:  1.2085   \r\n"
     ]
    },
    {
     "name": "stderr",
     "output_type": "stream",
     "text": [
      "INFO:asparagus.src.train.trainer:INFO:\n",
      "Summary Epoch: 80/1000\n",
      "  Loss   train / valid:  1.21E+00 / 1.44E+00  Best Loss valid: 1.05E+00\n",
      "  Property Metrics (valid):\n",
      "    energy      MAE (Best) / RMSE (Best):  1.70E-01 (1.00E-01) / 2.05E-01 (1.36E-01) eV\n",
      "    forces      MAE (Best) / RMSE (Best):  1.64E-01 (1.40E-01) / 2.31E-01 (1.96E-01) eV/Ang\n",
      "    dipole      MAE (Best) / RMSE (Best):  6.54E-02 (6.18E-02) / 8.58E-02 (8.31E-02) eAng\n",
      "\n"
     ]
    },
    {
     "name": "stdout",
     "output_type": "stream",
     "text": [
      "Epoch    81 |##########################################| 100.0% Done - Epoch Time:  9.3 s, Loss:  1.1269   \r\n",
      "Epoch    82 |##########################################| 100.0% Done - Epoch Time:  6.4 s, Loss:  0.9200   \r\n",
      "Epoch    83 |##########################################| 100.0% Done - Epoch Time:  30.1 s, Loss:  0.9252   \r\n",
      "Epoch    84 |##########################################| 100.0% Done - Epoch Time:  74.9 s, Loss:  0.9313   \r\n",
      "Epoch    85 |##########################################| 100.0% Done - Epoch Time:  7.7 s, Loss:  0.9671   \r\n"
     ]
    },
    {
     "name": "stderr",
     "output_type": "stream",
     "text": [
      "INFO:asparagus.src.train.tester:INFO:\n",
      "Summary for test set:\n",
      "  Property Metrics    MAE,       RMSE\n",
      "   energy           1.47e-01,  1.68e-01 eV\n",
      "   forces           1.36e-01,  1.96e-01 eV/Ang\n",
      "   dipole           6.77e-02,  8.66e-02 eAng\n",
      "\n",
      "INFO:asparagus.src.train.trainer:INFO:\n",
      "Summary Epoch: 85/1000\n",
      "  Loss   train / valid:  9.67E-01 / 1.05E+00  Best Loss valid: 1.05E+00\n",
      "  Property Metrics (valid):\n",
      "    energy      MAE (Best) / RMSE (Best):  1.47E-01 (1.47E-01) / 1.71E-01 (1.71E-01) eV\n",
      "    forces      MAE (Best) / RMSE (Best):  1.38E-01 (1.38E-01) / 1.94E-01 (1.94E-01) eV/Ang\n",
      "    dipole      MAE (Best) / RMSE (Best):  6.68E-02 (6.68E-02) / 8.75E-02 (8.75E-02) eAng\n",
      "\n"
     ]
    },
    {
     "name": "stdout",
     "output_type": "stream",
     "text": [
      "Epoch    86 |##########################################| 100.0% Done - Epoch Time:  7.2 s, Loss:  0.9474   \r\n",
      "Epoch    87 |##########################################| 100.0% Done - Epoch Time:  7.0 s, Loss:  0.9589   \r\n",
      "Epoch    88 |##########################################| 100.0% Done - Epoch Time:  7.0 s, Loss:  0.9354   \r\n",
      "Epoch    89 |##########################################| 100.0% Done - Epoch Time:  6.1 s, Loss:  0.9004   \r\n",
      "Epoch    90 |##########################################| 100.0% Done - Epoch Time:  6.2 s, Loss:  0.9362   \r\n"
     ]
    },
    {
     "name": "stderr",
     "output_type": "stream",
     "text": [
      "INFO:asparagus.src.train.tester:INFO:\n",
      "Summary for test set:\n",
      "  Property Metrics    MAE,       RMSE\n",
      "   energy           1.75e-01,  2.03e-01 eV\n",
      "   forces           1.26e-01,  1.80e-01 eV/Ang\n",
      "   dipole           6.09e-02,  7.83e-02 eAng\n",
      "\n",
      "INFO:asparagus.src.train.trainer:INFO:\n",
      "Summary Epoch: 90/1000\n",
      "  Loss   train / valid:  9.36E-01 / 9.42E-01  Best Loss valid: 9.42E-01\n",
      "  Property Metrics (valid):\n",
      "    energy      MAE (Best) / RMSE (Best):  1.80E-01 (1.80E-01) / 2.06E-01 (2.06E-01) eV\n",
      "    forces      MAE (Best) / RMSE (Best):  1.29E-01 (1.29E-01) / 1.83E-01 (1.83E-01) eV/Ang\n",
      "    dipole      MAE (Best) / RMSE (Best):  6.17E-02 (6.17E-02) / 8.24E-02 (8.24E-02) eAng\n",
      "\n"
     ]
    },
    {
     "name": "stdout",
     "output_type": "stream",
     "text": [
      "Epoch    91 |##########################################| 100.0% Done - Epoch Time:  6.3 s, Loss:  0.8790   \r\n",
      "Epoch    92 |##########################################| 100.0% Done - Epoch Time:  6.3 s, Loss:  0.9090   \r\n",
      "Epoch    93 |##########################################| 100.0% Done - Epoch Time:  6.0 s, Loss:  0.8881   \r\n",
      "Epoch    94 |##########################################| 100.0% Done - Epoch Time:  6.2 s, Loss:  0.8648   \r\n",
      "Epoch    95 |##########################################| 100.0% Done - Epoch Time:  94.4 s, Loss:  1.0504   \r\n"
     ]
    },
    {
     "name": "stderr",
     "output_type": "stream",
     "text": [
      "INFO:asparagus.src.train.trainer:INFO:\n",
      "Summary Epoch: 95/1000\n",
      "  Loss   train / valid:  1.05E+00 / 1.09E+00  Best Loss valid: 9.42E-01\n",
      "  Property Metrics (valid):\n",
      "    energy      MAE (Best) / RMSE (Best):  9.51E-02 (1.80E-01) / 1.28E-01 (2.06E-01) eV\n",
      "    forces      MAE (Best) / RMSE (Best):  1.45E-01 (1.29E-01) / 2.00E-01 (1.83E-01) eV/Ang\n",
      "    dipole      MAE (Best) / RMSE (Best):  6.34E-02 (6.17E-02) / 8.47E-02 (8.24E-02) eAng\n",
      "\n"
     ]
    },
    {
     "name": "stdout",
     "output_type": "stream",
     "text": [
      "Epoch    96 |##########################################| 100.0% Done - Epoch Time:  26.4 s, Loss:  1.0411   \r\n",
      "Epoch    97 |##########################################| 100.0% Done - Epoch Time:  8.3 s, Loss:  0.8916   \r\n",
      "Epoch    98 |##########################################| 100.0% Done - Epoch Time:  7.3 s, Loss:  0.8052   \r\n",
      "Epoch    99 |##########################################| 100.0% Done - Epoch Time:  7.6 s, Loss:  0.7982   \r\n",
      "Epoch   100 |##########################################| 100.0% Done - Epoch Time:  7.2 s, Loss:  0.8438   \r\n"
     ]
    },
    {
     "name": "stderr",
     "output_type": "stream",
     "text": [
      "INFO:asparagus.src.train.trainer:INFO:\n",
      "Summary Epoch: 100/1000\n",
      "  Loss   train / valid:  8.44E-01 / 9.97E-01  Best Loss valid: 9.42E-01\n",
      "  Property Metrics (valid):\n",
      "    energy      MAE (Best) / RMSE (Best):  1.36E-01 (1.80E-01) / 1.61E-01 (2.06E-01) eV\n",
      "    forces      MAE (Best) / RMSE (Best):  1.40E-01 (1.29E-01) / 1.91E-01 (1.83E-01) eV/Ang\n",
      "    dipole      MAE (Best) / RMSE (Best):  5.95E-02 (6.17E-02) / 7.99E-02 (8.24E-02) eAng\n",
      "\n"
     ]
    },
    {
     "name": "stdout",
     "output_type": "stream",
     "text": [
      "Epoch   101 |##########################################| 100.0% Done - Epoch Time:  5.9 s, Loss:  0.8312   \r\n",
      "Epoch   102 |##########################################| 100.0% Done - Epoch Time:  5.9 s, Loss:  0.7987   \r\n",
      "Epoch   103 |##########################################| 100.0% Done - Epoch Time:  5.6 s, Loss:  0.8769   \r\n",
      "Epoch   104 |##########################################| 100.0% Done - Epoch Time:  5.9 s, Loss:  0.8736   \r\n",
      "Epoch   105 |##########################################| 100.0% Done - Epoch Time:  6.1 s, Loss:  0.7841   \r\n"
     ]
    },
    {
     "name": "stderr",
     "output_type": "stream",
     "text": [
      "INFO:asparagus.src.train.tester:INFO:\n",
      "Summary for test set:\n",
      "  Property Metrics    MAE,       RMSE\n",
      "   energy           1.45e-01,  1.66e-01 eV\n",
      "   forces           1.16e-01,  1.69e-01 eV/Ang\n",
      "   dipole           5.90e-02,  7.69e-02 eAng\n",
      "\n",
      "INFO:asparagus.src.train.trainer:INFO:\n",
      "Summary Epoch: 105/1000\n",
      "  Loss   train / valid:  7.84E-01 / 8.22E-01  Best Loss valid: 8.22E-01\n",
      "  Property Metrics (valid):\n",
      "    energy      MAE (Best) / RMSE (Best):  1.38E-01 (1.38E-01) / 1.59E-01 (1.59E-01) eV\n",
      "    forces      MAE (Best) / RMSE (Best):  1.20E-01 (1.20E-01) / 1.71E-01 (1.71E-01) eV/Ang\n",
      "    dipole      MAE (Best) / RMSE (Best):  5.95E-02 (5.95E-02) / 8.01E-02 (8.01E-02) eAng\n",
      "\n"
     ]
    },
    {
     "name": "stdout",
     "output_type": "stream",
     "text": [
      "Epoch   106 |##########################################| 100.0% Done - Epoch Time:  18.4 s, Loss:  0.7363   \r\n",
      "Epoch   107 |##########################################| 100.0% Done - Epoch Time:  43.2 s, Loss:  0.7634   \r\n",
      "Epoch   108 |##########################################| 100.0% Done - Epoch Time:  71.5 s, Loss:  0.7524   \r\n",
      "Epoch   109 |##########################################| 100.0% Done - Epoch Time:  7.8 s, Loss:  0.7153   \r\n",
      "Epoch   110 |##########################################| 100.0% Done - Epoch Time:  7.1 s, Loss:  0.7186   \r\n"
     ]
    },
    {
     "name": "stderr",
     "output_type": "stream",
     "text": [
      "INFO:asparagus.src.train.trainer:INFO:\n",
      "Summary Epoch: 110/1000\n",
      "  Loss   train / valid:  7.19E-01 / 8.42E-01  Best Loss valid: 8.22E-01\n",
      "  Property Metrics (valid):\n",
      "    energy      MAE (Best) / RMSE (Best):  7.66E-02 (1.38E-01) / 9.69E-02 (1.59E-01) eV\n",
      "    forces      MAE (Best) / RMSE (Best):  1.23E-01 (1.20E-01) / 1.74E-01 (1.71E-01) eV/Ang\n",
      "    dipole      MAE (Best) / RMSE (Best):  5.96E-02 (5.95E-02) / 8.03E-02 (8.01E-02) eAng\n",
      "\n"
     ]
    },
    {
     "name": "stdout",
     "output_type": "stream",
     "text": [
      "Epoch   111 |##########################################| 100.0% Done - Epoch Time:  7.2 s, Loss:  0.7267   \r\n",
      "Epoch   112 |##########################################| 100.0% Done - Epoch Time:  7.1 s, Loss:  0.7498   \r\n",
      "Epoch   113 |##########################################| 100.0% Done - Epoch Time:  9.4 s, Loss:  0.7513   \r\n",
      "Epoch   114 |##########################################| 100.0% Done - Epoch Time:  6.3 s, Loss:  0.7153   \r\n",
      "Epoch   115 |##########################################| 100.0% Done - Epoch Time:  6.9 s, Loss:  0.7116   \r\n"
     ]
    },
    {
     "name": "stderr",
     "output_type": "stream",
     "text": [
      "INFO:asparagus.src.train.tester:INFO:\n",
      "Summary for test set:\n",
      "  Property Metrics    MAE,       RMSE\n",
      "   energy           1.28e-01,  1.41e-01 eV\n",
      "   forces           1.15e-01,  1.66e-01 eV/Ang\n",
      "   dipole           5.83e-02,  7.60e-02 eAng\n",
      "\n",
      "INFO:asparagus.src.train.trainer:INFO:\n",
      "Summary Epoch: 115/1000\n",
      "  Loss   train / valid:  7.12E-01 / 7.90E-01  Best Loss valid: 7.90E-01\n",
      "  Property Metrics (valid):\n",
      "    energy      MAE (Best) / RMSE (Best):  1.30E-01 (1.30E-01) / 1.45E-01 (1.45E-01) eV\n",
      "    forces      MAE (Best) / RMSE (Best):  1.19E-01 (1.19E-01) / 1.68E-01 (1.68E-01) eV/Ang\n",
      "    dipole      MAE (Best) / RMSE (Best):  5.93E-02 (5.93E-02) / 7.99E-02 (7.99E-02) eAng\n",
      "\n"
     ]
    },
    {
     "name": "stdout",
     "output_type": "stream",
     "text": [
      "Epoch   116 |##########################################| 100.0% Done - Epoch Time:  7.5 s, Loss:  0.7121   \r\n",
      "Epoch   117 |##########################################| 100.0% Done - Epoch Time:  7.3 s, Loss:  0.7366   \r\n",
      "Epoch   118 |##########################################| 100.0% Done - Epoch Time:  9.2 s, Loss:  0.7092   \r\n",
      "Epoch   119 |##########################################| 100.0% Done - Epoch Time:  9.6 s, Loss:  0.6913   \r\n",
      "Epoch   120 |##########################################| 100.0% Done - Epoch Time:  92.5 s, Loss:  0.7053   \r\n"
     ]
    },
    {
     "name": "stderr",
     "output_type": "stream",
     "text": [
      "INFO:asparagus.src.train.tester:INFO:\n",
      "Summary for test set:\n",
      "  Property Metrics    MAE,       RMSE\n",
      "   energy           6.43e-02,  8.23e-02 eV\n",
      "   forces           1.14e-01,  1.64e-01 eV/Ang\n",
      "   dipole           5.51e-02,  7.21e-02 eAng\n",
      "\n",
      "INFO:asparagus.src.train.trainer:INFO:\n",
      "Summary Epoch: 120/1000\n",
      "  Loss   train / valid:  7.05E-01 / 7.39E-01  Best Loss valid: 7.39E-01\n",
      "  Property Metrics (valid):\n",
      "    energy      MAE (Best) / RMSE (Best):  6.71E-02 (6.71E-02) / 8.81E-02 (8.81E-02) eV\n",
      "    forces      MAE (Best) / RMSE (Best):  1.15E-01 (1.15E-01) / 1.63E-01 (1.63E-01) eV/Ang\n",
      "    dipole      MAE (Best) / RMSE (Best):  5.76E-02 (5.76E-02) / 7.81E-02 (7.81E-02) eAng\n",
      "\n"
     ]
    },
    {
     "name": "stdout",
     "output_type": "stream",
     "text": [
      "Epoch   121 |##########################################| 100.0% Done - Epoch Time:  7.9 s, Loss:  0.6860   \r\n",
      "Epoch   122 |##########################################| 100.0% Done - Epoch Time:  8.0 s, Loss:  0.7104   \r\n",
      "Epoch   123 |##########################################| 100.0% Done - Epoch Time:  10.9 s, Loss:  0.7096   \r\n",
      "Epoch   124 |##########################################| 100.0% Done - Epoch Time:  6.9 s, Loss:  0.7062   \r\n",
      "Epoch   125 |##########################################| 100.0% Done - Epoch Time:  5.9 s, Loss:  0.7377   \r\n"
     ]
    },
    {
     "name": "stderr",
     "output_type": "stream",
     "text": [
      "INFO:asparagus.src.train.trainer:INFO:\n",
      "Summary Epoch: 125/1000\n",
      "  Loss   train / valid:  7.38E-01 / 8.57E-01  Best Loss valid: 7.39E-01\n",
      "  Property Metrics (valid):\n",
      "    energy      MAE (Best) / RMSE (Best):  8.68E-02 (6.71E-02) / 1.05E-01 (8.81E-02) eV\n",
      "    forces      MAE (Best) / RMSE (Best):  1.28E-01 (1.15E-01) / 1.76E-01 (1.63E-01) eV/Ang\n",
      "    dipole      MAE (Best) / RMSE (Best):  6.05E-02 (5.76E-02) / 8.09E-02 (7.81E-02) eAng\n",
      "\n"
     ]
    },
    {
     "name": "stdout",
     "output_type": "stream",
     "text": [
      "Epoch   126 |##########################################| 100.0% Done - Epoch Time:  5.7 s, Loss:  0.7705   \r\n",
      "Epoch   127 |##########################################| 100.0% Done - Epoch Time:  5.7 s, Loss:  0.7322   \r\n",
      "Epoch   128 |##########################################| 100.0% Done - Epoch Time:  5.8 s, Loss:  0.7226   \r\n",
      "Epoch   129 |##########################################| 100.0% Done - Epoch Time:  5.9 s, Loss:  0.6602   \r\n",
      "Epoch   130 |##########################################| 100.0% Done - Epoch Time:  6.0 s, Loss:  0.6590   \r\n"
     ]
    },
    {
     "name": "stderr",
     "output_type": "stream",
     "text": [
      "INFO:asparagus.src.train.trainer:INFO:\n",
      "Summary Epoch: 130/1000\n",
      "  Loss   train / valid:  6.59E-01 / 7.40E-01  Best Loss valid: 7.39E-01\n",
      "  Property Metrics (valid):\n",
      "    energy      MAE (Best) / RMSE (Best):  6.47E-02 (6.71E-02) / 8.71E-02 (8.81E-02) eV\n",
      "    forces      MAE (Best) / RMSE (Best):  1.16E-01 (1.15E-01) / 1.63E-01 (1.63E-01) eV/Ang\n",
      "    dipole      MAE (Best) / RMSE (Best):  5.83E-02 (5.76E-02) / 7.90E-02 (7.81E-02) eAng\n",
      "\n"
     ]
    },
    {
     "name": "stdout",
     "output_type": "stream",
     "text": [
      "Epoch   131 |##########################################| 100.0% Done - Epoch Time:  10.7 s, Loss:  0.7125   \r\n",
      "Epoch   132 |##########################################| 100.0% Done - Epoch Time:  11.5 s, Loss:  0.6927   \r\n",
      "Epoch   133 |##########################################| 100.0% Done - Epoch Time:  7.2 s, Loss:  0.6346   \r\n",
      "Epoch   134 |##########################################| 100.0% Done - Epoch Time:  83.5 s, Loss:  0.6302   \r\n",
      "Epoch   135 |##########################################| 100.0% Done - Epoch Time:  26.9 s, Loss:  0.6287   \r\n"
     ]
    },
    {
     "name": "stderr",
     "output_type": "stream",
     "text": [
      "INFO:asparagus.src.train.tester:INFO:\n",
      "Summary for test set:\n",
      "  Property Metrics    MAE,       RMSE\n",
      "   energy           9.35e-02,  1.09e-01 eV\n",
      "   forces           1.10e-01,  1.59e-01 eV/Ang\n",
      "   dipole           5.39e-02,  7.05e-02 eAng\n",
      "\n",
      "INFO:asparagus.src.train.trainer:INFO:\n",
      "Summary Epoch: 135/1000\n",
      "  Loss   train / valid:  6.29E-01 / 7.11E-01  Best Loss valid: 7.11E-01\n",
      "  Property Metrics (valid):\n",
      "    energy      MAE (Best) / RMSE (Best):  9.16E-02 (9.16E-02) / 1.13E-01 (1.13E-01) eV\n",
      "    forces      MAE (Best) / RMSE (Best):  1.13E-01 (1.13E-01) / 1.59E-01 (1.59E-01) eV/Ang\n",
      "    dipole      MAE (Best) / RMSE (Best):  5.82E-02 (5.82E-02) / 7.85E-02 (7.85E-02) eAng\n",
      "\n"
     ]
    },
    {
     "name": "stdout",
     "output_type": "stream",
     "text": [
      "Epoch   136 |##########################################| 100.0% Done - Epoch Time:  7.0 s, Loss:  0.6737   \r\n",
      "Epoch   137 |##########################################| 100.0% Done - Epoch Time:  7.1 s, Loss:  0.7014   \r\n",
      "Epoch   138 |##########################################| 100.0% Done - Epoch Time:  7.0 s, Loss:  0.6431   \r\n",
      "Epoch   139 |##########################################| 100.0% Done - Epoch Time:  6.8 s, Loss:  0.6282   \r\n",
      "Epoch   140 |##########################################| 100.0% Done - Epoch Time:  5.6 s, Loss:  0.6125   \r\n"
     ]
    },
    {
     "name": "stderr",
     "output_type": "stream",
     "text": [
      "INFO:asparagus.src.train.trainer:INFO:\n",
      "Summary Epoch: 140/1000\n",
      "  Loss   train / valid:  6.13E-01 / 8.72E-01  Best Loss valid: 7.11E-01\n",
      "  Property Metrics (valid):\n",
      "    energy      MAE (Best) / RMSE (Best):  6.68E-02 (9.16E-02) / 8.79E-02 (1.13E-01) eV\n",
      "    forces      MAE (Best) / RMSE (Best):  1.26E-01 (1.13E-01) / 1.78E-01 (1.59E-01) eV/Ang\n",
      "    dipole      MAE (Best) / RMSE (Best):  5.89E-02 (5.82E-02) / 7.99E-02 (7.85E-02) eAng\n",
      "\n"
     ]
    },
    {
     "name": "stdout",
     "output_type": "stream",
     "text": [
      "Epoch   141 |##########################################| 100.0% Done - Epoch Time:  6.1 s, Loss:  0.6327   \r\n",
      "Epoch   142 |##########################################| 100.0% Done - Epoch Time:  5.4 s, Loss:  0.6341   \r\n",
      "Epoch   143 |##########################################| 100.0% Done - Epoch Time:  5.7 s, Loss:  0.6541   \r\n",
      "Epoch   144 |##########################################| 100.0% Done - Epoch Time:  6.4 s, Loss:  0.5969   \r\n",
      "Epoch   145 |##########################################| 100.0% Done - Epoch Time:  5.5 s, Loss:  0.6063   \r\n"
     ]
    },
    {
     "name": "stderr",
     "output_type": "stream",
     "text": [
      "INFO:asparagus.src.train.tester:INFO:\n",
      "Summary for test set:\n",
      "  Property Metrics    MAE,       RMSE\n",
      "   energy           8.46e-02,  1.04e-01 eV\n",
      "   forces           1.07e-01,  1.54e-01 eV/Ang\n",
      "   dipole           5.68e-02,  7.49e-02 eAng\n",
      "\n",
      "INFO:asparagus.src.train.trainer:INFO:\n",
      "Summary Epoch: 145/1000\n",
      "  Loss   train / valid:  6.06E-01 / 6.75E-01  Best Loss valid: 6.75E-01\n",
      "  Property Metrics (valid):\n",
      "    energy      MAE (Best) / RMSE (Best):  7.99E-02 (7.99E-02) / 9.99E-02 (9.99E-02) eV\n",
      "    forces      MAE (Best) / RMSE (Best):  1.10E-01 (1.10E-01) / 1.55E-01 (1.55E-01) eV/Ang\n",
      "    dipole      MAE (Best) / RMSE (Best):  5.72E-02 (5.72E-02) / 7.74E-02 (7.74E-02) eAng\n",
      "\n"
     ]
    },
    {
     "name": "stdout",
     "output_type": "stream",
     "text": [
      "Epoch   146 |##########################################| 100.0% Done - Epoch Time:  5.7 s, Loss:  0.5875   \r\n",
      "Epoch   147 |##########################################| 100.0% Done - Epoch Time:  9.0 s, Loss:  0.5950   \r\n",
      "Epoch   148 |##########################################| 100.0% Done - Epoch Time:  7.7 s, Loss:  0.6001   \r\n",
      "Epoch   149 |##########################################| 100.0% Done - Epoch Time:  7.5 s, Loss:  0.6083   \r\n",
      "Epoch   150 |##########################################| 100.0% Done - Epoch Time:  9.8 s, Loss:  0.5932   \r\n"
     ]
    },
    {
     "name": "stderr",
     "output_type": "stream",
     "text": [
      "INFO:asparagus.src.train.trainer:INFO:\n",
      "Summary Epoch: 150/1000\n",
      "  Loss   train / valid:  5.93E-01 / 6.89E-01  Best Loss valid: 6.75E-01\n",
      "  Property Metrics (valid):\n",
      "    energy      MAE (Best) / RMSE (Best):  8.52E-02 (7.99E-02) / 1.15E-01 (9.99E-02) eV\n",
      "    forces      MAE (Best) / RMSE (Best):  1.11E-01 (1.10E-01) / 1.56E-01 (1.55E-01) eV/Ang\n",
      "    dipole      MAE (Best) / RMSE (Best):  5.63E-02 (5.72E-02) / 7.67E-02 (7.74E-02) eAng\n",
      "\n"
     ]
    },
    {
     "name": "stdout",
     "output_type": "stream",
     "text": [
      "Epoch   151 |##########################################| 100.0% Done - Epoch Time:  10.9 s, Loss:  0.5867   \r\n",
      "Epoch   152 |##########################################| 100.0% Done - Epoch Time:  8.3 s, Loss:  0.5851   \r\n",
      "Epoch   153 |##########################################| 100.0% Done - Epoch Time:  8.5 s, Loss:  0.5640   \r\n",
      "Epoch   154 |##########################################| 100.0% Done - Epoch Time:  8.0 s, Loss:  0.5749   \r\n",
      "Epoch   155 |##########################################| 100.0% Done - Epoch Time:  8.3 s, Loss:  0.5708   \r\n"
     ]
    },
    {
     "name": "stderr",
     "output_type": "stream",
     "text": [
      "INFO:asparagus.src.train.tester:INFO:\n",
      "Summary for test set:\n",
      "  Property Metrics    MAE,       RMSE\n",
      "   energy           7.75e-02,  9.13e-02 eV\n",
      "   forces           1.02e-01,  1.49e-01 eV/Ang\n",
      "   dipole           5.72e-02,  7.47e-02 eAng\n",
      "\n",
      "INFO:asparagus.src.train.trainer:INFO:\n",
      "Summary Epoch: 155/1000\n",
      "  Loss   train / valid:  5.71E-01 / 6.51E-01  Best Loss valid: 6.51E-01\n",
      "  Property Metrics (valid):\n",
      "    energy      MAE (Best) / RMSE (Best):  7.85E-02 (7.85E-02) / 9.48E-02 (9.48E-02) eV\n",
      "    forces      MAE (Best) / RMSE (Best):  1.07E-01 (1.07E-01) / 1.51E-01 (1.51E-01) eV/Ang\n",
      "    dipole      MAE (Best) / RMSE (Best):  5.74E-02 (5.74E-02) / 7.74E-02 (7.74E-02) eAng\n",
      "\n"
     ]
    },
    {
     "name": "stdout",
     "output_type": "stream",
     "text": [
      "Epoch   156 |##########################################| 100.0% Done - Epoch Time:  8.9 s, Loss:  0.5398   \r\n",
      "Epoch   157 |##########################################| 100.0% Done - Epoch Time:  8.7 s, Loss:  0.5725   \r\n",
      "Epoch   158 |##########################################| 100.0% Done - Epoch Time:  6.6 s, Loss:  0.5770   \r\n",
      "Epoch   159 |##########################################| 100.0% Done - Epoch Time:  7.5 s, Loss:  0.5600   \r\n",
      "Epoch   160 |##########################################| 100.0% Done - Epoch Time:  8.3 s, Loss:  0.5396   \r\n"
     ]
    },
    {
     "name": "stderr",
     "output_type": "stream",
     "text": [
      "INFO:asparagus.src.train.tester:INFO:\n",
      "Summary for test set:\n",
      "  Property Metrics    MAE,       RMSE\n",
      "   energy           6.61e-02,  8.54e-02 eV\n",
      "   forces           1.03e-01,  1.50e-01 eV/Ang\n",
      "   dipole           5.44e-02,  7.17e-02 eAng\n",
      "\n",
      "INFO:asparagus.src.train.trainer:INFO:\n",
      "Summary Epoch: 160/1000\n",
      "  Loss   train / valid:  5.40E-01 / 6.42E-01  Best Loss valid: 6.42E-01\n",
      "  Property Metrics (valid):\n",
      "    energy      MAE (Best) / RMSE (Best):  7.02E-02 (7.02E-02) / 9.19E-02 (9.19E-02) eV\n",
      "    forces      MAE (Best) / RMSE (Best):  1.05E-01 (1.05E-01) / 1.51E-01 (1.51E-01) eV/Ang\n",
      "    dipole      MAE (Best) / RMSE (Best):  5.43E-02 (5.43E-02) / 7.38E-02 (7.38E-02) eAng\n",
      "\n"
     ]
    },
    {
     "name": "stdout",
     "output_type": "stream",
     "text": [
      "Epoch   161 |##########################################| 100.0% Done - Epoch Time:  8.6 s, Loss:  0.5272   \r\n",
      "Epoch   162 |##########################################| 100.0% Done - Epoch Time:  9.5 s, Loss:  0.5380   \r\n",
      "Epoch   163 |##########################################| 100.0% Done - Epoch Time:  8.6 s, Loss:  0.5403   \r\n",
      "Epoch   164 |##########################################| 100.0% Done - Epoch Time:  9.6 s, Loss:  0.5359   \r\n",
      "Epoch   165 |##########################################| 100.0% Done - Epoch Time:  8.9 s, Loss:  0.5525   \r\n"
     ]
    },
    {
     "name": "stderr",
     "output_type": "stream",
     "text": [
      "INFO:asparagus.src.train.trainer:INFO:\n",
      "Summary Epoch: 165/1000\n",
      "  Loss   train / valid:  5.52E-01 / 7.38E-01  Best Loss valid: 6.42E-01\n",
      "  Property Metrics (valid):\n",
      "    energy      MAE (Best) / RMSE (Best):  6.58E-02 (7.02E-02) / 8.59E-02 (9.19E-02) eV\n",
      "    forces      MAE (Best) / RMSE (Best):  1.15E-01 (1.05E-01) / 1.63E-01 (1.51E-01) eV/Ang\n",
      "    dipole      MAE (Best) / RMSE (Best):  5.57E-02 (5.43E-02) / 7.59E-02 (7.38E-02) eAng\n",
      "\n"
     ]
    },
    {
     "name": "stdout",
     "output_type": "stream",
     "text": [
      "Epoch   166 |##########################################| 100.0% Done - Epoch Time:  9.7 s, Loss:  0.5598   \r\n",
      "Epoch   167 |##########################################| 100.0% Done - Epoch Time:  10.4 s, Loss:  0.5367   \r\n",
      "Epoch   168 |##########################################| 100.0% Done - Epoch Time:  8.1 s, Loss:  0.5442   \r\n",
      "Epoch   169 |##########################################| 100.0% Done - Epoch Time:  8.5 s, Loss:  0.5153   \r\n",
      "Epoch   170 |##########################################| 100.0% Done - Epoch Time:  8.4 s, Loss:  0.5820   \r\n"
     ]
    },
    {
     "name": "stderr",
     "output_type": "stream",
     "text": [
      "INFO:asparagus.src.train.trainer:INFO:\n",
      "Summary Epoch: 170/1000\n",
      "  Loss   train / valid:  5.82E-01 / 6.85E-01  Best Loss valid: 6.42E-01\n",
      "  Property Metrics (valid):\n",
      "    energy      MAE (Best) / RMSE (Best):  1.31E-01 (7.02E-02) / 1.67E-01 (9.19E-02) eV\n",
      "    forces      MAE (Best) / RMSE (Best):  1.10E-01 (1.05E-01) / 1.55E-01 (1.51E-01) eV/Ang\n",
      "    dipole      MAE (Best) / RMSE (Best):  5.54E-02 (5.43E-02) / 7.53E-02 (7.38E-02) eAng\n",
      "\n"
     ]
    },
    {
     "name": "stdout",
     "output_type": "stream",
     "text": [
      "Epoch   171 |##########################################| 100.0% Done - Epoch Time:  10.4 s, Loss:  0.5635   \r\n",
      "Epoch   172 |##########################################| 100.0% Done - Epoch Time:  11.3 s, Loss:  0.5381   \r\n",
      "Epoch   173 |##########################################| 100.0% Done - Epoch Time:  6.2 s, Loss:  0.5461   \r\n",
      "Epoch   174 |##########################################| 100.0% Done - Epoch Time:  5.9 s, Loss:  0.5177   \r\n",
      "Epoch   175 |##########################################| 100.0% Done - Epoch Time:  5.7 s, Loss:  0.5113   \r\n"
     ]
    },
    {
     "name": "stderr",
     "output_type": "stream",
     "text": [
      "INFO:asparagus.src.train.trainer:INFO:\n",
      "Summary Epoch: 175/1000\n",
      "  Loss   train / valid:  5.11E-01 / 6.54E-01  Best Loss valid: 6.42E-01\n",
      "  Property Metrics (valid):\n",
      "    energy      MAE (Best) / RMSE (Best):  1.03E-01 (7.02E-02) / 1.25E-01 (9.19E-02) eV\n",
      "    forces      MAE (Best) / RMSE (Best):  1.10E-01 (1.05E-01) / 1.52E-01 (1.51E-01) eV/Ang\n",
      "    dipole      MAE (Best) / RMSE (Best):  5.41E-02 (5.43E-02) / 7.40E-02 (7.38E-02) eAng\n",
      "\n"
     ]
    },
    {
     "name": "stdout",
     "output_type": "stream",
     "text": [
      "Epoch   176 |##########################################| 100.0% Done - Epoch Time:  7.0 s, Loss:  0.5437   \r\n",
      "Epoch   177 |##########################################| 100.0% Done - Epoch Time:  7.1 s, Loss:  0.5528   \r\n",
      "Epoch   178 |##########################################| 100.0% Done - Epoch Time:  7.1 s, Loss:  0.5205   \r\n",
      "Epoch   179 |##########################################| 100.0% Done - Epoch Time:  6.9 s, Loss:  0.5399   \r\n",
      "Epoch   180 |##########################################| 100.0% Done - Epoch Time:  6.2 s, Loss:  0.5397   \r\n"
     ]
    },
    {
     "name": "stderr",
     "output_type": "stream",
     "text": [
      "INFO:asparagus.src.train.trainer:INFO:\n",
      "Summary Epoch: 180/1000\n",
      "  Loss   train / valid:  5.40E-01 / 6.74E-01  Best Loss valid: 6.42E-01\n",
      "  Property Metrics (valid):\n",
      "    energy      MAE (Best) / RMSE (Best):  7.60E-02 (7.02E-02) / 9.54E-02 (9.19E-02) eV\n",
      "    forces      MAE (Best) / RMSE (Best):  1.11E-01 (1.05E-01) / 1.56E-01 (1.51E-01) eV/Ang\n",
      "    dipole      MAE (Best) / RMSE (Best):  5.26E-02 (5.43E-02) / 7.23E-02 (7.38E-02) eAng\n",
      "\n"
     ]
    },
    {
     "name": "stdout",
     "output_type": "stream",
     "text": [
      "Epoch   181 |##########################################| 100.0% Done - Epoch Time:  5.8 s, Loss:  0.5358   \r\n",
      "Epoch   182 |##########################################| 100.0% Done - Epoch Time:  5.7 s, Loss:  0.5285   \r\n",
      "Epoch   183 |##########################################| 100.0% Done - Epoch Time:  5.5 s, Loss:  0.5116   \r\n",
      "Epoch   184 |##########################################| 100.0% Done - Epoch Time:  5.8 s, Loss:  0.5018   \r\n",
      "Epoch   185 |##########################################| 100.0% Done - Epoch Time:  5.9 s, Loss:  0.5072   \r\n"
     ]
    },
    {
     "name": "stderr",
     "output_type": "stream",
     "text": [
      "INFO:asparagus.src.train.tester:INFO:\n",
      "Summary for test set:\n",
      "  Property Metrics    MAE,       RMSE\n",
      "   energy           1.42e-01,  1.58e-01 eV\n",
      "   forces           1.04e-01,  1.48e-01 eV/Ang\n",
      "   dipole           5.81e-02,  7.45e-02 eAng\n",
      "\n",
      "INFO:asparagus.src.train.trainer:INFO:\n",
      "Summary Epoch: 185/1000\n",
      "  Loss   train / valid:  5.07E-01 / 6.18E-01  Best Loss valid: 6.18E-01\n",
      "  Property Metrics (valid):\n",
      "    energy      MAE (Best) / RMSE (Best):  1.44E-01 (1.44E-01) / 1.61E-01 (1.61E-01) eV\n",
      "    forces      MAE (Best) / RMSE (Best):  1.04E-01 (1.04E-01) / 1.46E-01 (1.46E-01) eV/Ang\n",
      "    dipole      MAE (Best) / RMSE (Best):  5.84E-02 (5.84E-02) / 7.62E-02 (7.62E-02) eAng\n",
      "\n"
     ]
    },
    {
     "name": "stdout",
     "output_type": "stream",
     "text": [
      "Epoch   186 |##########################################| 100.0% Done - Epoch Time:  6.1 s, Loss:  0.5096   \r\n",
      "Epoch   187 |##########################################| 100.0% Done - Epoch Time:  5.6 s, Loss:  0.4915   \r\n",
      "Epoch   188 |##########################################| 100.0% Done - Epoch Time:  5.5 s, Loss:  0.4900   \r\n",
      "Epoch   189 |##########################################| 100.0% Done - Epoch Time:  6.0 s, Loss:  0.5022   \r\n",
      "Epoch   190 |##########################################| 100.0% Done - Epoch Time:  8.9 s, Loss:  0.5772   \r\n"
     ]
    },
    {
     "name": "stderr",
     "output_type": "stream",
     "text": [
      "INFO:asparagus.src.train.trainer:INFO:\n",
      "Summary Epoch: 190/1000\n",
      "  Loss   train / valid:  5.77E-01 / 6.82E-01  Best Loss valid: 6.18E-01\n",
      "  Property Metrics (valid):\n",
      "    energy      MAE (Best) / RMSE (Best):  6.38E-02 (1.44E-01) / 8.28E-02 (1.61E-01) eV\n",
      "    forces      MAE (Best) / RMSE (Best):  1.11E-01 (1.04E-01) / 1.56E-01 (1.46E-01) eV/Ang\n",
      "    dipole      MAE (Best) / RMSE (Best):  5.48E-02 (5.84E-02) / 7.33E-02 (7.62E-02) eAng\n",
      "\n"
     ]
    },
    {
     "name": "stdout",
     "output_type": "stream",
     "text": [
      "Epoch   191 |##########################################| 100.0% Done - Epoch Time:  10.8 s, Loss:  0.5234   \r\n",
      "Epoch   192 |##########################################| 100.0% Done - Epoch Time:  6.9 s, Loss:  0.5029   \r\n",
      "Epoch   193 |##########################################| 100.0% Done - Epoch Time:  7.5 s, Loss:  0.4899   \r\n",
      "Epoch   194 |##########################################| 100.0% Done - Epoch Time:  6.9 s, Loss:  0.4938   \r\n",
      "Epoch   195 |##########################################| 100.0% Done - Epoch Time:  6.7 s, Loss:  0.4926   \r\n"
     ]
    },
    {
     "name": "stderr",
     "output_type": "stream",
     "text": [
      "INFO:asparagus.src.train.tester:INFO:\n",
      "Summary for test set:\n",
      "  Property Metrics    MAE,       RMSE\n",
      "   energy           5.50e-02,  7.17e-02 eV\n",
      "   forces           9.95e-02,  1.45e-01 eV/Ang\n",
      "   dipole           5.25e-02,  7.03e-02 eAng\n",
      "\n",
      "INFO:asparagus.src.train.trainer:INFO:\n",
      "Summary Epoch: 195/1000\n",
      "  Loss   train / valid:  4.93E-01 / 5.69E-01  Best Loss valid: 5.69E-01\n",
      "  Property Metrics (valid):\n",
      "    energy      MAE (Best) / RMSE (Best):  5.87E-02 (5.87E-02) / 7.51E-02 (7.51E-02) eV\n",
      "    forces      MAE (Best) / RMSE (Best):  1.00E-01 (1.00E-01) / 1.42E-01 (1.42E-01) eV/Ang\n",
      "    dipole      MAE (Best) / RMSE (Best):  5.26E-02 (5.26E-02) / 7.19E-02 (7.19E-02) eAng\n",
      "\n"
     ]
    },
    {
     "name": "stdout",
     "output_type": "stream",
     "text": [
      "Epoch   196 |##########################################| 100.0% Done - Epoch Time:  10.8 s, Loss:  0.4767   \r\n",
      "Epoch   197 |##########################################| 100.0% Done - Epoch Time:  9.9 s, Loss:  0.4507   \r\n",
      "Epoch   198 |##########################################| 100.0% Done - Epoch Time:  8.5 s, Loss:  0.4592   \r\n",
      "Epoch   199 |##########################################| 100.0% Done - Epoch Time:  8.5 s, Loss:  0.4659   \r\n",
      "Epoch   200 |##########################################| 100.0% Done - Epoch Time:  8.2 s, Loss:  0.4828   \r\n"
     ]
    },
    {
     "name": "stderr",
     "output_type": "stream",
     "text": [
      "INFO:asparagus.src.train.trainer:INFO:\n",
      "Summary Epoch: 200/1000\n",
      "  Loss   train / valid:  4.83E-01 / 6.84E-01  Best Loss valid: 5.69E-01\n",
      "  Property Metrics (valid):\n",
      "    energy      MAE (Best) / RMSE (Best):  6.61E-02 (5.87E-02) / 8.40E-02 (7.51E-02) eV\n",
      "    forces      MAE (Best) / RMSE (Best):  1.14E-01 (1.00E-01) / 1.57E-01 (1.42E-01) eV/Ang\n",
      "    dipole      MAE (Best) / RMSE (Best):  5.36E-02 (5.26E-02) / 7.14E-02 (7.19E-02) eAng\n",
      "\n"
     ]
    },
    {
     "name": "stdout",
     "output_type": "stream",
     "text": [
      "Epoch   201 |##########################################| 100.0% Done - Epoch Time:  6.3 s, Loss:  0.4990   \r\n",
      "Epoch   202 |##########################################| 100.0% Done - Epoch Time:  7.9 s, Loss:  0.4560   \r\n",
      "Epoch   203 |##########################################| 100.0% Done - Epoch Time:  8.6 s, Loss:  0.4679   \r\n",
      "Epoch   204 |##########################################| 100.0% Done - Epoch Time:  9.6 s, Loss:  0.4420   \r\n",
      "Epoch   205 |##########################################| 100.0% Done - Epoch Time:  9.0 s, Loss:  0.4555   \r\n"
     ]
    },
    {
     "name": "stderr",
     "output_type": "stream",
     "text": [
      "INFO:asparagus.src.train.trainer:INFO:\n",
      "Summary Epoch: 205/1000\n",
      "  Loss   train / valid:  4.56E-01 / 5.82E-01  Best Loss valid: 5.69E-01\n",
      "  Property Metrics (valid):\n",
      "    energy      MAE (Best) / RMSE (Best):  8.01E-02 (5.87E-02) / 9.59E-02 (7.51E-02) eV\n",
      "    forces      MAE (Best) / RMSE (Best):  1.01E-01 (1.00E-01) / 1.43E-01 (1.42E-01) eV/Ang\n",
      "    dipole      MAE (Best) / RMSE (Best):  5.44E-02 (5.26E-02) / 7.16E-02 (7.19E-02) eAng\n",
      "\n"
     ]
    },
    {
     "name": "stdout",
     "output_type": "stream",
     "text": [
      "Epoch   206 |##########################################| 100.0% Done - Epoch Time:  11.6 s, Loss:  0.4596   \r\n",
      "Epoch   207 |##########################################| 100.0% Done - Epoch Time:  8.6 s, Loss:  0.4512   \r\n",
      "Epoch   208 |##########################################| 100.0% Done - Epoch Time:  8.8 s, Loss:  0.4586   \r\n",
      "Epoch   209 |##########################################| 100.0% Done - Epoch Time:  8.4 s, Loss:  0.4881   \r\n",
      "Epoch   210 |##########################################| 100.0% Done - Epoch Time:  9.2 s, Loss:  0.4825   \r\n"
     ]
    },
    {
     "name": "stderr",
     "output_type": "stream",
     "text": [
      "INFO:asparagus.src.train.trainer:INFO:\n",
      "Summary Epoch: 210/1000\n",
      "  Loss   train / valid:  4.83E-01 / 5.98E-01  Best Loss valid: 5.69E-01\n",
      "  Property Metrics (valid):\n",
      "    energy      MAE (Best) / RMSE (Best):  4.95E-02 (5.87E-02) / 6.40E-02 (7.51E-02) eV\n",
      "    forces      MAE (Best) / RMSE (Best):  1.04E-01 (1.00E-01) / 1.46E-01 (1.42E-01) eV/Ang\n",
      "    dipole      MAE (Best) / RMSE (Best):  5.46E-02 (5.26E-02) / 7.21E-02 (7.19E-02) eAng\n",
      "\n"
     ]
    },
    {
     "name": "stdout",
     "output_type": "stream",
     "text": [
      "Epoch   211 |##########################################| 100.0% Done - Epoch Time:  7.7 s, Loss:  0.4660   \r\n",
      "Epoch   212 |##########################################| 100.0% Done - Epoch Time:  8.7 s, Loss:  0.4271   \r\n",
      "Epoch   213 |##########################################| 100.0% Done - Epoch Time:  20.9 s, Loss:  0.4226   \r\n",
      "Epoch   214 |##########################################| 100.0% Done - Epoch Time:  6.7 s, Loss:  0.4619   \r\n",
      "Epoch   215 |##########################################| 100.0% Done - Epoch Time:  6.2 s, Loss:  0.4754   \r\n"
     ]
    },
    {
     "name": "stderr",
     "output_type": "stream",
     "text": [
      "INFO:asparagus.src.train.tester:INFO:\n",
      "Summary for test set:\n",
      "  Property Metrics    MAE,       RMSE\n",
      "   energy           5.83e-02,  7.60e-02 eV\n",
      "   forces           9.69e-02,  1.41e-01 eV/Ang\n",
      "   dipole           5.36e-02,  6.97e-02 eAng\n",
      "\n",
      "INFO:asparagus.src.train.trainer:INFO:\n",
      "Summary Epoch: 215/1000\n",
      "  Loss   train / valid:  4.75E-01 / 5.64E-01  Best Loss valid: 5.64E-01\n",
      "  Property Metrics (valid):\n",
      "    energy      MAE (Best) / RMSE (Best):  5.53E-02 (5.53E-02) / 7.85E-02 (7.85E-02) eV\n",
      "    forces      MAE (Best) / RMSE (Best):  9.96E-02 (9.96E-02) / 1.41E-01 (1.41E-01) eV/Ang\n",
      "    dipole      MAE (Best) / RMSE (Best):  5.32E-02 (5.32E-02) / 7.06E-02 (7.06E-02) eAng\n",
      "\n"
     ]
    },
    {
     "name": "stdout",
     "output_type": "stream",
     "text": [
      "Epoch   216 |##########################################| 100.0% Done - Epoch Time:  5.9 s, Loss:  0.4355   \r\n",
      "Epoch   217 |##########################################| 100.0% Done - Epoch Time:  7.4 s, Loss:  0.4559   \r\n",
      "Epoch   218 |##########################################| 100.0% Done - Epoch Time:  7.4 s, Loss:  0.4368   \r\n",
      "Epoch   219 |##########################################| 100.0% Done - Epoch Time:  7.4 s, Loss:  0.4308   \r\n",
      "Epoch   220 |##########################################| 100.0% Done - Epoch Time:  7.5 s, Loss:  0.4324   \r\n"
     ]
    },
    {
     "name": "stderr",
     "output_type": "stream",
     "text": [
      "INFO:asparagus.src.train.tester:INFO:\n",
      "Summary for test set:\n",
      "  Property Metrics    MAE,       RMSE\n",
      "   energy           7.29e-02,  8.80e-02 eV\n",
      "   forces           9.10e-02,  1.33e-01 eV/Ang\n",
      "   dipole           4.88e-02,  6.45e-02 eAng\n",
      "\n",
      "INFO:asparagus.src.train.trainer:INFO:\n",
      "Summary Epoch: 220/1000\n",
      "  Loss   train / valid:  4.32E-01 / 4.91E-01  Best Loss valid: 4.91E-01\n",
      "  Property Metrics (valid):\n",
      "    energy      MAE (Best) / RMSE (Best):  7.37E-02 (7.37E-02) / 8.99E-02 (8.99E-02) eV\n",
      "    forces      MAE (Best) / RMSE (Best):  9.20E-02 (9.20E-02) / 1.31E-01 (1.31E-01) eV/Ang\n",
      "    dipole      MAE (Best) / RMSE (Best):  5.01E-02 (5.01E-02) / 6.82E-02 (6.82E-02) eAng\n",
      "\n"
     ]
    },
    {
     "name": "stdout",
     "output_type": "stream",
     "text": [
      "Epoch   221 |##########################################| 100.0% Done - Epoch Time:  5.7 s, Loss:  0.4126   \r\n",
      "Epoch   222 |##########################################| 100.0% Done - Epoch Time:  5.8 s, Loss:  0.4322   \r\n",
      "Epoch   223 |##########################################| 100.0% Done - Epoch Time:  7.4 s, Loss:  0.4465   \r\n",
      "Epoch   224 |##########################################| 100.0% Done - Epoch Time:  5.7 s, Loss:  0.4284   \r\n",
      "Epoch   225 |##########################################| 100.0% Done - Epoch Time:  5.8 s, Loss:  0.4412   \r\n"
     ]
    },
    {
     "name": "stderr",
     "output_type": "stream",
     "text": [
      "INFO:asparagus.src.train.trainer:INFO:\n",
      "Summary Epoch: 225/1000\n",
      "  Loss   train / valid:  4.41E-01 / 5.14E-01  Best Loss valid: 4.91E-01\n",
      "  Property Metrics (valid):\n",
      "    energy      MAE (Best) / RMSE (Best):  6.25E-02 (7.37E-02) / 8.12E-02 (8.99E-02) eV\n",
      "    forces      MAE (Best) / RMSE (Best):  9.49E-02 (9.20E-02) / 1.34E-01 (1.31E-01) eV/Ang\n",
      "    dipole      MAE (Best) / RMSE (Best):  5.33E-02 (5.01E-02) / 7.13E-02 (6.82E-02) eAng\n",
      "\n"
     ]
    },
    {
     "name": "stdout",
     "output_type": "stream",
     "text": [
      "Epoch   226 |##########################################| 100.0% Done - Epoch Time:  6.7 s, Loss:  0.4164   \r\n",
      "Epoch   227 |##########################################| 100.0% Done - Epoch Time:  5.9 s, Loss:  0.4186   \r\n",
      "Epoch   228 |##########################################| 100.0% Done - Epoch Time:  5.8 s, Loss:  0.4078   \r\n",
      "Epoch   229 |##########################################| 100.0% Done - Epoch Time:  6.0 s, Loss:  0.4090   \r\n",
      "Epoch   230 |##########################################| 100.0% Done - Epoch Time:  7.2 s, Loss:  0.4028   \r\n"
     ]
    },
    {
     "name": "stderr",
     "output_type": "stream",
     "text": [
      "INFO:asparagus.src.train.trainer:INFO:\n",
      "Summary Epoch: 230/1000\n",
      "  Loss   train / valid:  4.03E-01 / 5.19E-01  Best Loss valid: 4.91E-01\n",
      "  Property Metrics (valid):\n",
      "    energy      MAE (Best) / RMSE (Best):  4.81E-02 (7.37E-02) / 6.59E-02 (8.99E-02) eV\n",
      "    forces      MAE (Best) / RMSE (Best):  9.62E-02 (9.20E-02) / 1.36E-01 (1.31E-01) eV/Ang\n",
      "    dipole      MAE (Best) / RMSE (Best):  5.01E-02 (5.01E-02) / 6.78E-02 (6.82E-02) eAng\n",
      "\n"
     ]
    },
    {
     "name": "stdout",
     "output_type": "stream",
     "text": [
      "Epoch   231 |##########################################| 100.0% Done - Epoch Time:  7.5 s, Loss:  0.4228   \r\n",
      "Epoch   232 |##########################################| 100.0% Done - Epoch Time:  7.4 s, Loss:  0.3946   \r\n",
      "Epoch   233 |##########################################| 100.0% Done - Epoch Time:  7.5 s, Loss:  0.4125   \r\n",
      "Epoch   234 |##########################################| 100.0% Done - Epoch Time:  7.4 s, Loss:  0.4133   \r\n",
      "Epoch   235 |##########################################| 100.0% Done - Epoch Time:  6.7 s, Loss:  0.3990   \r\n"
     ]
    },
    {
     "name": "stderr",
     "output_type": "stream",
     "text": [
      "INFO:asparagus.src.train.trainer:INFO:\n",
      "Summary Epoch: 235/1000\n",
      "  Loss   train / valid:  3.99E-01 / 5.22E-01  Best Loss valid: 4.91E-01\n",
      "  Property Metrics (valid):\n",
      "    energy      MAE (Best) / RMSE (Best):  6.73E-02 (7.37E-02) / 8.71E-02 (8.99E-02) eV\n",
      "    forces      MAE (Best) / RMSE (Best):  9.72E-02 (9.20E-02) / 1.36E-01 (1.31E-01) eV/Ang\n",
      "    dipole      MAE (Best) / RMSE (Best):  5.18E-02 (5.01E-02) / 6.82E-02 (6.82E-02) eAng\n",
      "\n"
     ]
    },
    {
     "name": "stdout",
     "output_type": "stream",
     "text": [
      "Epoch   236 |##########################################| 100.0% Done - Epoch Time:  6.9 s, Loss:  0.3985   \r\n",
      "Epoch   237 |##########################################| 100.0% Done - Epoch Time:  6.7 s, Loss:  0.4053   \r\n",
      "Epoch   238 |##########################################| 100.0% Done - Epoch Time:  7.1 s, Loss:  0.4109   \r\n",
      "Epoch   239 |##########################################| 100.0% Done - Epoch Time:  9.3 s, Loss:  0.4188   \r\n",
      "Epoch   240 |##########################################| 100.0% Done - Epoch Time:  8.9 s, Loss:  0.4171   \r\n"
     ]
    },
    {
     "name": "stderr",
     "output_type": "stream",
     "text": [
      "INFO:asparagus.src.train.trainer:INFO:\n",
      "Summary Epoch: 240/1000\n",
      "  Loss   train / valid:  4.17E-01 / 5.18E-01  Best Loss valid: 4.91E-01\n",
      "  Property Metrics (valid):\n",
      "    energy      MAE (Best) / RMSE (Best):  4.46E-02 (7.37E-02) / 6.49E-02 (8.99E-02) eV\n",
      "    forces      MAE (Best) / RMSE (Best):  9.57E-02 (9.20E-02) / 1.35E-01 (1.31E-01) eV/Ang\n",
      "    dipole      MAE (Best) / RMSE (Best):  5.16E-02 (5.01E-02) / 6.85E-02 (6.82E-02) eAng\n",
      "\n"
     ]
    },
    {
     "name": "stdout",
     "output_type": "stream",
     "text": [
      "Epoch   241 |##########################################| 100.0% Done - Epoch Time:  8.4 s, Loss:  0.3920   \r\n",
      "Epoch   242 |##########################################| 100.0% Done - Epoch Time:  8.5 s, Loss:  0.4155   \r\n",
      "Epoch   243 |##########################################| 100.0% Done - Epoch Time:  8.5 s, Loss:  0.3821   \r\n",
      "Epoch   244 |##########################################| 100.0% Done - Epoch Time:  7.6 s, Loss:  0.3813   \r\n",
      "Epoch   245 |##########################################| 100.0% Done - Epoch Time:  6.4 s, Loss:  0.3922   \r\n"
     ]
    },
    {
     "name": "stderr",
     "output_type": "stream",
     "text": [
      "INFO:asparagus.src.train.trainer:INFO:\n",
      "Summary Epoch: 245/1000\n",
      "  Loss   train / valid:  3.92E-01 / 4.97E-01  Best Loss valid: 4.91E-01\n",
      "  Property Metrics (valid):\n",
      "    energy      MAE (Best) / RMSE (Best):  9.55E-02 (7.37E-02) / 1.18E-01 (8.99E-02) eV\n",
      "    forces      MAE (Best) / RMSE (Best):  9.38E-02 (9.20E-02) / 1.32E-01 (1.31E-01) eV/Ang\n",
      "    dipole      MAE (Best) / RMSE (Best):  4.99E-02 (5.01E-02) / 6.75E-02 (6.82E-02) eAng\n",
      "\n"
     ]
    },
    {
     "name": "stdout",
     "output_type": "stream",
     "text": [
      "Epoch   246 |##########################################| 100.0% Done - Epoch Time:  8.1 s, Loss:  0.4194   \r\n",
      "Epoch   247 |##########################################| 100.0% Done - Epoch Time:  9.3 s, Loss:  0.4230   \r\n",
      "Epoch   248 |##########################################| 100.0% Done - Epoch Time:  9.1 s, Loss:  0.4309   \r\n",
      "Epoch   249 |##########################################| 100.0% Done - Epoch Time:  9.3 s, Loss:  0.3994   \r\n",
      "Epoch   250 |##########################################| 100.0% Done - Epoch Time:  10.1 s, Loss:  0.3770   \r\n"
     ]
    },
    {
     "name": "stderr",
     "output_type": "stream",
     "text": [
      "INFO:asparagus.src.train.tester:INFO:\n",
      "Summary for test set:\n",
      "  Property Metrics    MAE,       RMSE\n",
      "   energy           4.97e-02,  6.86e-02 eV\n",
      "   forces           8.63e-02,  1.27e-01 eV/Ang\n",
      "   dipole           4.81e-02,  6.34e-02 eAng\n",
      "\n",
      "INFO:asparagus.src.train.trainer:INFO:\n",
      "Summary Epoch: 250/1000\n",
      "  Loss   train / valid:  3.77E-01 / 4.56E-01  Best Loss valid: 4.56E-01\n",
      "  Property Metrics (valid):\n",
      "    energy      MAE (Best) / RMSE (Best):  4.76E-02 (4.76E-02) / 6.36E-02 (6.36E-02) eV\n",
      "    forces      MAE (Best) / RMSE (Best):  8.84E-02 (8.84E-02) / 1.27E-01 (1.27E-01) eV/Ang\n",
      "    dipole      MAE (Best) / RMSE (Best):  4.80E-02 (4.80E-02) / 6.52E-02 (6.52E-02) eAng\n",
      "\n"
     ]
    },
    {
     "name": "stdout",
     "output_type": "stream",
     "text": [
      "Epoch   251 |##########################################| 100.0% Done - Epoch Time:  8.9 s, Loss:  0.3687   \r\n",
      "Epoch   252 |##########################################| 100.0% Done - Epoch Time:  8.3 s, Loss:  0.3702   \r\n",
      "Epoch   253 |##########################################| 100.0% Done - Epoch Time:  8.7 s, Loss:  0.3943   \r\n",
      "Epoch   254 |##########################################| 100.0% Done - Epoch Time:  8.7 s, Loss:  0.3841   \r\n",
      "Epoch   255 |##########################################| 100.0% Done - Epoch Time:  8.4 s, Loss:  0.3873   \r\n"
     ]
    },
    {
     "name": "stderr",
     "output_type": "stream",
     "text": [
      "INFO:asparagus.src.train.trainer:INFO:\n",
      "Summary Epoch: 255/1000\n",
      "  Loss   train / valid:  3.87E-01 / 5.56E-01  Best Loss valid: 4.56E-01\n",
      "  Property Metrics (valid):\n",
      "    energy      MAE (Best) / RMSE (Best):  7.43E-02 (4.76E-02) / 9.19E-02 (6.36E-02) eV\n",
      "    forces      MAE (Best) / RMSE (Best):  9.85E-02 (8.84E-02) / 1.41E-01 (1.27E-01) eV/Ang\n",
      "    dipole      MAE (Best) / RMSE (Best):  5.12E-02 (4.80E-02) / 6.84E-02 (6.52E-02) eAng\n",
      "\n"
     ]
    },
    {
     "name": "stdout",
     "output_type": "stream",
     "text": [
      "Epoch   256 |##########################################| 100.0% Done - Epoch Time:  8.1 s, Loss:  0.4258   \r\n",
      "Epoch   257 |##########################################| 100.0% Done - Epoch Time:  8.9 s, Loss:  0.4240   \r\n",
      "Epoch   258 |##########################################| 100.0% Done - Epoch Time:  8.0 s, Loss:  0.3939   \r\n",
      "Epoch   259 |##########################################| 100.0% Done - Epoch Time:  13.1 s, Loss:  0.3989   \r\n",
      "Epoch   260 |##########################################| 100.0% Done - Epoch Time:  5.8 s, Loss:  0.3722   \r\n"
     ]
    },
    {
     "name": "stderr",
     "output_type": "stream",
     "text": [
      "INFO:asparagus.src.train.trainer:INFO:\n",
      "Summary Epoch: 260/1000\n",
      "  Loss   train / valid:  3.72E-01 / 4.67E-01  Best Loss valid: 4.56E-01\n",
      "  Property Metrics (valid):\n",
      "    energy      MAE (Best) / RMSE (Best):  7.83E-02 (4.76E-02) / 9.57E-02 (6.36E-02) eV\n",
      "    forces      MAE (Best) / RMSE (Best):  8.98E-02 (8.84E-02) / 1.28E-01 (1.27E-01) eV/Ang\n",
      "    dipole      MAE (Best) / RMSE (Best):  4.70E-02 (4.80E-02) / 6.41E-02 (6.52E-02) eAng\n",
      "\n"
     ]
    },
    {
     "name": "stdout",
     "output_type": "stream",
     "text": [
      "Epoch   261 |##########################################| 100.0% Done - Epoch Time:  5.9 s, Loss:  0.3714   \r\n",
      "Epoch   262 |##########################################| 100.0% Done - Epoch Time:  5.8 s, Loss:  0.3960   \r\n",
      "Epoch   263 |##########################################| 100.0% Done - Epoch Time:  6.2 s, Loss:  0.3951   \r\n",
      "Epoch   264 |##########################################| 100.0% Done - Epoch Time:  7.5 s, Loss:  0.3690   \r\n",
      "Epoch   265 |##########################################| 100.0% Done - Epoch Time:  7.1 s, Loss:  0.3803   \r\n"
     ]
    },
    {
     "name": "stderr",
     "output_type": "stream",
     "text": [
      "INFO:asparagus.src.train.trainer:INFO:\n",
      "Summary Epoch: 265/1000\n",
      "  Loss   train / valid:  3.80E-01 / 4.99E-01  Best Loss valid: 4.56E-01\n",
      "  Property Metrics (valid):\n",
      "    energy      MAE (Best) / RMSE (Best):  5.34E-02 (4.76E-02) / 6.75E-02 (6.36E-02) eV\n",
      "    forces      MAE (Best) / RMSE (Best):  9.29E-02 (8.84E-02) / 1.33E-01 (1.27E-01) eV/Ang\n",
      "    dipole      MAE (Best) / RMSE (Best):  4.93E-02 (4.80E-02) / 6.61E-02 (6.52E-02) eAng\n",
      "\n"
     ]
    },
    {
     "name": "stdout",
     "output_type": "stream",
     "text": [
      "Epoch   266 |##########################################| 100.0% Done - Epoch Time:  7.1 s, Loss:  0.3684   \r\n",
      "Epoch   267 |##########################################| 100.0% Done - Epoch Time:  6.8 s, Loss:  0.3999   \r\n",
      "Epoch   268 |##########################################| 100.0% Done - Epoch Time:  5.7 s, Loss:  0.3646   \r\n",
      "Epoch   269 |##########################################| 100.0% Done - Epoch Time:  5.8 s, Loss:  0.3643   \r\n",
      "Epoch   270 |##########################################| 100.0% Done - Epoch Time:  5.7 s, Loss:  0.3712   \r\n"
     ]
    },
    {
     "name": "stderr",
     "output_type": "stream",
     "text": [
      "INFO:asparagus.src.train.trainer:INFO:\n",
      "Summary Epoch: 270/1000\n",
      "  Loss   train / valid:  3.71E-01 / 4.78E-01  Best Loss valid: 4.56E-01\n",
      "  Property Metrics (valid):\n",
      "    energy      MAE (Best) / RMSE (Best):  6.81E-02 (4.76E-02) / 8.71E-02 (6.36E-02) eV\n",
      "    forces      MAE (Best) / RMSE (Best):  9.36E-02 (8.84E-02) / 1.30E-01 (1.27E-01) eV/Ang\n",
      "    dipole      MAE (Best) / RMSE (Best):  4.71E-02 (4.80E-02) / 6.34E-02 (6.52E-02) eAng\n",
      "\n"
     ]
    },
    {
     "name": "stdout",
     "output_type": "stream",
     "text": [
      "Epoch   271 |##########################################| 100.0% Done - Epoch Time:  5.8 s, Loss:  0.3812   \r\n",
      "Epoch   272 |##########################################| 100.0% Done - Epoch Time:  5.8 s, Loss:  0.3633   \r\n",
      "Epoch   273 |##########################################| 100.0% Done - Epoch Time:  5.8 s, Loss:  0.3501   \r\n",
      "Epoch   274 |##########################################| 100.0% Done - Epoch Time:  5.8 s, Loss:  0.3559   \r\n",
      "Epoch   275 |##########################################| 100.0% Done - Epoch Time:  5.9 s, Loss:  0.3556   \r\n"
     ]
    },
    {
     "name": "stderr",
     "output_type": "stream",
     "text": [
      "INFO:asparagus.src.train.trainer:INFO:\n",
      "Summary Epoch: 275/1000\n",
      "  Loss   train / valid:  3.56E-01 / 4.58E-01  Best Loss valid: 4.56E-01\n",
      "  Property Metrics (valid):\n",
      "    energy      MAE (Best) / RMSE (Best):  9.48E-02 (4.76E-02) / 1.19E-01 (6.36E-02) eV\n",
      "    forces      MAE (Best) / RMSE (Best):  9.02E-02 (8.84E-02) / 1.27E-01 (1.27E-01) eV/Ang\n",
      "    dipole      MAE (Best) / RMSE (Best):  4.65E-02 (4.80E-02) / 6.30E-02 (6.52E-02) eAng\n",
      "\n"
     ]
    },
    {
     "name": "stdout",
     "output_type": "stream",
     "text": [
      "Epoch   276 |##########################################| 100.0% Done - Epoch Time:  6.0 s, Loss:  0.3688   \r\n",
      "Epoch   277 |##########################################| 100.0% Done - Epoch Time:  7.3 s, Loss:  0.3568   \r\n",
      "Epoch   278 |##########################################| 100.0% Done - Epoch Time:  7.8 s, Loss:  0.3623   \r\n",
      "Epoch   279 |##########################################| 100.0% Done - Epoch Time:  7.2 s, Loss:  0.3442   \r\n",
      "Epoch   280 |##########################################| 100.0% Done - Epoch Time:  7.6 s, Loss:  0.3489   \r\n"
     ]
    },
    {
     "name": "stderr",
     "output_type": "stream",
     "text": [
      "INFO:asparagus.src.train.trainer:INFO:\n",
      "Summary Epoch: 280/1000\n",
      "  Loss   train / valid:  3.49E-01 / 4.91E-01  Best Loss valid: 4.56E-01\n",
      "  Property Metrics (valid):\n",
      "    energy      MAE (Best) / RMSE (Best):  4.54E-02 (4.76E-02) / 5.84E-02 (6.36E-02) eV\n",
      "    forces      MAE (Best) / RMSE (Best):  9.38E-02 (8.84E-02) / 1.33E-01 (1.27E-01) eV/Ang\n",
      "    dipole      MAE (Best) / RMSE (Best):  4.64E-02 (4.80E-02) / 6.32E-02 (6.52E-02) eAng\n",
      "\n"
     ]
    },
    {
     "name": "stdout",
     "output_type": "stream",
     "text": [
      "Epoch   281 |##########################################| 100.0% Done - Epoch Time:  6.9 s, Loss:  0.3834   \r\n",
      "Epoch   282 |##########################################| 100.0% Done - Epoch Time:  6.7 s, Loss:  0.3964   \r\n",
      "Epoch   283 |##########################################| 100.0% Done - Epoch Time:  6.8 s, Loss:  0.3852   \r\n",
      "Epoch   284 |##########################################| 100.0% Done - Epoch Time:  6.5 s, Loss:  0.3784   \r\n",
      "Epoch   285 |##########################################| 100.0% Done - Epoch Time:  6.7 s, Loss:  0.3633   \r\n"
     ]
    },
    {
     "name": "stderr",
     "output_type": "stream",
     "text": [
      "INFO:asparagus.src.train.trainer:INFO:\n",
      "Summary Epoch: 285/1000\n",
      "  Loss   train / valid:  3.63E-01 / 4.67E-01  Best Loss valid: 4.56E-01\n",
      "  Property Metrics (valid):\n",
      "    energy      MAE (Best) / RMSE (Best):  6.61E-02 (4.76E-02) / 8.21E-02 (6.36E-02) eV\n",
      "    forces      MAE (Best) / RMSE (Best):  9.11E-02 (8.84E-02) / 1.29E-01 (1.27E-01) eV/Ang\n",
      "    dipole      MAE (Best) / RMSE (Best):  4.65E-02 (4.80E-02) / 6.32E-02 (6.52E-02) eAng\n",
      "\n"
     ]
    },
    {
     "name": "stdout",
     "output_type": "stream",
     "text": [
      "Epoch   286 |##########################################| 100.0% Done - Epoch Time:  8.4 s, Loss:  0.3644   \r\n",
      "Epoch   287 |##########################################| 100.0% Done - Epoch Time:  9.2 s, Loss:  0.3416   \r\n",
      "Epoch   288 |##########################################| 100.0% Done - Epoch Time:  8.4 s, Loss:  0.3339   \r\n",
      "Epoch   289 |##########################################| 100.0% Done - Epoch Time:  8.3 s, Loss:  0.3293   \r\n",
      "Epoch   290 |##########################################| 100.0% Done - Epoch Time:  11.0 s, Loss:  0.3206   \r\n"
     ]
    },
    {
     "name": "stderr",
     "output_type": "stream",
     "text": [
      "INFO:asparagus.src.train.tester:INFO:\n",
      "Summary for test set:\n",
      "  Property Metrics    MAE,       RMSE\n",
      "   energy           4.49e-02,  5.94e-02 eV\n",
      "   forces           8.54e-02,  1.25e-01 eV/Ang\n",
      "   dipole           4.61e-02,  6.08e-02 eAng\n",
      "\n",
      "INFO:asparagus.src.train.trainer:INFO:\n",
      "Summary Epoch: 290/1000\n",
      "  Loss   train / valid:  3.21E-01 / 4.52E-01  Best Loss valid: 4.52E-01\n",
      "  Property Metrics (valid):\n",
      "    energy      MAE (Best) / RMSE (Best):  5.22E-02 (5.22E-02) / 7.13E-02 (7.13E-02) eV\n",
      "    forces      MAE (Best) / RMSE (Best):  8.87E-02 (8.87E-02) / 1.27E-01 (1.27E-01) eV/Ang\n",
      "    dipole      MAE (Best) / RMSE (Best):  4.57E-02 (4.57E-02) / 6.20E-02 (6.20E-02) eAng\n",
      "\n"
     ]
    },
    {
     "name": "stdout",
     "output_type": "stream",
     "text": [
      "Epoch   291 |##########################################| 100.0% Done - Epoch Time:  6.9 s, Loss:  0.3192   \r\n",
      "Epoch   292 |##########################################| 100.0% Done - Epoch Time:  7.3 s, Loss:  0.3363   \r\n",
      "Epoch   293 |##########################################| 100.0% Done - Epoch Time:  8.2 s, Loss:  0.3332   \r\n",
      "Epoch   294 |##########################################| 100.0% Done - Epoch Time:  8.5 s, Loss:  0.3384   \r\n",
      "Epoch   295 |##########################################| 100.0% Done - Epoch Time:  8.0 s, Loss:  0.3429   \r\n"
     ]
    },
    {
     "name": "stderr",
     "output_type": "stream",
     "text": [
      "INFO:asparagus.src.train.trainer:INFO:\n",
      "Summary Epoch: 295/1000\n",
      "  Loss   train / valid:  3.43E-01 / 4.80E-01  Best Loss valid: 4.52E-01\n",
      "  Property Metrics (valid):\n",
      "    energy      MAE (Best) / RMSE (Best):  8.08E-02 (5.22E-02) / 9.81E-02 (7.13E-02) eV\n",
      "    forces      MAE (Best) / RMSE (Best):  9.19E-02 (8.87E-02) / 1.31E-01 (1.27E-01) eV/Ang\n",
      "    dipole      MAE (Best) / RMSE (Best):  4.58E-02 (4.57E-02) / 6.19E-02 (6.20E-02) eAng\n",
      "\n"
     ]
    },
    {
     "name": "stdout",
     "output_type": "stream",
     "text": [
      "Epoch   296 |##########################################| 100.0% Done - Epoch Time:  9.0 s, Loss:  0.3354   \r\n",
      "Epoch   297 |##########################################| 100.0% Done - Epoch Time:  9.2 s, Loss:  0.3493   \r\n",
      "Epoch   298 |##########################################| 100.0% Done - Epoch Time:  9.0 s, Loss:  0.3380   \r\n",
      "Epoch   299 |##########################################| 100.0% Done - Epoch Time:  8.8 s, Loss:  0.3302   \r\n",
      "Epoch   300 |##########################################| 100.0% Done - Epoch Time:  9.9 s, Loss:  0.3222   \r\n"
     ]
    },
    {
     "name": "stderr",
     "output_type": "stream",
     "text": [
      "INFO:asparagus.src.train.tester:INFO:\n",
      "Summary for test set:\n",
      "  Property Metrics    MAE,       RMSE\n",
      "   energy           6.84e-02,  8.27e-02 eV\n",
      "   forces           8.14e-02,  1.21e-01 eV/Ang\n",
      "   dipole           4.71e-02,  6.22e-02 eAng\n",
      "\n",
      "INFO:asparagus.src.train.trainer:INFO:\n",
      "Summary Epoch: 300/1000\n",
      "  Loss   train / valid:  3.22E-01 / 4.25E-01  Best Loss valid: 4.25E-01\n",
      "  Property Metrics (valid):\n",
      "    energy      MAE (Best) / RMSE (Best):  6.72E-02 (6.72E-02) / 8.18E-02 (8.18E-02) eV\n",
      "    forces      MAE (Best) / RMSE (Best):  8.47E-02 (8.47E-02) / 1.22E-01 (1.22E-01) eV/Ang\n",
      "    dipole      MAE (Best) / RMSE (Best):  4.66E-02 (4.66E-02) / 6.32E-02 (6.32E-02) eAng\n",
      "\n"
     ]
    },
    {
     "name": "stdout",
     "output_type": "stream",
     "text": [
      "Epoch   301 |##########################################| 100.0% Done - Epoch Time:  8.2 s, Loss:  0.3308   \r\n",
      "Epoch   302 |##########################################| 100.0% Done - Epoch Time:  8.6 s, Loss:  0.3301   \r\n",
      "Epoch   303 |##########################################| 100.0% Done - Epoch Time:  8.1 s, Loss:  0.3491   \r\n",
      "Epoch   304 |##########################################| 100.0% Done - Epoch Time:  7.5 s, Loss:  0.3326   \r\n",
      "Epoch   305 |##########################################| 100.0% Done - Epoch Time:  8.3 s, Loss:  0.3399   \r\n"
     ]
    },
    {
     "name": "stderr",
     "output_type": "stream",
     "text": [
      "INFO:asparagus.src.train.tester:INFO:\n",
      "Summary for test set:\n",
      "  Property Metrics    MAE,       RMSE\n",
      "   energy           4.01e-02,  5.65e-02 eV\n",
      "   forces           8.14e-02,  1.21e-01 eV/Ang\n",
      "   dipole           4.45e-02,  5.91e-02 eAng\n",
      "\n",
      "INFO:asparagus.src.train.trainer:INFO:\n",
      "Summary Epoch: 305/1000\n",
      "  Loss   train / valid:  3.40E-01 / 4.08E-01  Best Loss valid: 4.08E-01\n",
      "  Property Metrics (valid):\n",
      "    energy      MAE (Best) / RMSE (Best):  4.17E-02 (4.17E-02) / 5.66E-02 (5.66E-02) eV\n",
      "    forces      MAE (Best) / RMSE (Best):  8.32E-02 (8.32E-02) / 1.20E-01 (1.20E-01) eV/Ang\n",
      "    dipole      MAE (Best) / RMSE (Best):  4.43E-02 (4.43E-02) / 6.08E-02 (6.08E-02) eAng\n",
      "\n"
     ]
    },
    {
     "name": "stdout",
     "output_type": "stream",
     "text": [
      "Epoch   306 |##########################################| 100.0% Done - Epoch Time:  8.1 s, Loss:  0.3238   \r\n",
      "Epoch   307 |##########################################| 100.0% Done - Epoch Time:  10.8 s, Loss:  0.3618   \r\n",
      "Epoch   308 |##########################################| 100.0% Done - Epoch Time:  5.8 s, Loss:  0.3341   \r\n",
      "Epoch   309 |##########################################| 100.0% Done - Epoch Time:  5.6 s, Loss:  0.3162   \r\n",
      "Epoch   310 |##########################################| 100.0% Done - Epoch Time:  5.7 s, Loss:  0.3379   \r\n"
     ]
    },
    {
     "name": "stderr",
     "output_type": "stream",
     "text": [
      "INFO:asparagus.src.train.trainer:INFO:\n",
      "Summary Epoch: 310/1000\n",
      "  Loss   train / valid:  3.38E-01 / 4.32E-01  Best Loss valid: 4.08E-01\n",
      "  Property Metrics (valid):\n",
      "    energy      MAE (Best) / RMSE (Best):  4.59E-02 (4.17E-02) / 5.93E-02 (5.66E-02) eV\n",
      "    forces      MAE (Best) / RMSE (Best):  8.86E-02 (8.32E-02) / 1.24E-01 (1.20E-01) eV/Ang\n",
      "    dipole      MAE (Best) / RMSE (Best):  4.45E-02 (4.43E-02) / 6.01E-02 (6.08E-02) eAng\n",
      "\n"
     ]
    },
    {
     "name": "stdout",
     "output_type": "stream",
     "text": [
      "Epoch   311 |##########################################| 100.0% Done - Epoch Time:  5.7 s, Loss:  0.3221   \r\n",
      "Epoch   312 |##########################################| 100.0% Done - Epoch Time:  6.0 s, Loss:  0.3088   \r\n",
      "Epoch   313 |##########################################| 100.0% Done - Epoch Time:  7.0 s, Loss:  0.3100   \r\n",
      "Epoch   314 |##########################################| 100.0% Done - Epoch Time:  7.0 s, Loss:  0.3370   \r\n",
      "Epoch   315 |##########################################| 100.0% Done - Epoch Time:  7.1 s, Loss:  0.3422   \r\n"
     ]
    },
    {
     "name": "stderr",
     "output_type": "stream",
     "text": [
      "INFO:asparagus.src.train.trainer:INFO:\n",
      "Summary Epoch: 315/1000\n",
      "  Loss   train / valid:  3.42E-01 / 4.62E-01  Best Loss valid: 4.08E-01\n",
      "  Property Metrics (valid):\n",
      "    energy      MAE (Best) / RMSE (Best):  7.76E-02 (4.17E-02) / 8.96E-02 (5.66E-02) eV\n",
      "    forces      MAE (Best) / RMSE (Best):  8.98E-02 (8.32E-02) / 1.28E-01 (1.20E-01) eV/Ang\n",
      "    dipole      MAE (Best) / RMSE (Best):  4.48E-02 (4.43E-02) / 6.08E-02 (6.08E-02) eAng\n",
      "\n"
     ]
    },
    {
     "name": "stdout",
     "output_type": "stream",
     "text": [
      "Epoch   316 |##########################################| 100.0% Done - Epoch Time:  7.1 s, Loss:  0.3310   \r\n",
      "Epoch   317 |##########################################| 100.0% Done - Epoch Time:  5.8 s, Loss:  0.3244   \r\n",
      "Epoch   318 |##########################################| 100.0% Done - Epoch Time:  5.7 s, Loss:  0.3317   \r\n",
      "Epoch   319 |##########################################| 100.0% Done - Epoch Time:  5.9 s, Loss:  0.3150   \r\n",
      "Epoch   320 |##########################################| 100.0% Done - Epoch Time:  5.6 s, Loss:  0.3272   \r\n"
     ]
    },
    {
     "name": "stderr",
     "output_type": "stream",
     "text": [
      "INFO:asparagus.src.train.trainer:INFO:\n",
      "Summary Epoch: 320/1000\n",
      "  Loss   train / valid:  3.27E-01 / 4.16E-01  Best Loss valid: 4.08E-01\n",
      "  Property Metrics (valid):\n",
      "    energy      MAE (Best) / RMSE (Best):  4.24E-02 (4.17E-02) / 5.52E-02 (5.66E-02) eV\n",
      "    forces      MAE (Best) / RMSE (Best):  8.47E-02 (8.32E-02) / 1.22E-01 (1.20E-01) eV/Ang\n",
      "    dipole      MAE (Best) / RMSE (Best):  4.44E-02 (4.43E-02) / 5.98E-02 (6.08E-02) eAng\n",
      "\n"
     ]
    },
    {
     "name": "stdout",
     "output_type": "stream",
     "text": [
      "Epoch   321 |##########################################| 100.0% Done - Epoch Time:  6.1 s, Loss:  0.3299   \r\n",
      "Epoch   322 |##########################################| 100.0% Done - Epoch Time:  5.7 s, Loss:  0.3263   \r\n",
      "Epoch   323 |##########################################| 100.0% Done - Epoch Time:  6.0 s, Loss:  0.3078   \r\n",
      "Epoch   324 |##########################################| 100.0% Done - Epoch Time:  5.8 s, Loss:  0.2997   \r\n",
      "Epoch   325 |##########################################| 100.0% Done - Epoch Time:  5.6 s, Loss:  0.2985   \r\n"
     ]
    },
    {
     "name": "stderr",
     "output_type": "stream",
     "text": [
      "INFO:asparagus.src.train.trainer:INFO:\n",
      "Summary Epoch: 325/1000\n",
      "  Loss   train / valid:  2.99E-01 / 4.12E-01  Best Loss valid: 4.08E-01\n",
      "  Property Metrics (valid):\n",
      "    energy      MAE (Best) / RMSE (Best):  5.69E-02 (4.17E-02) / 7.09E-02 (5.66E-02) eV\n",
      "    forces      MAE (Best) / RMSE (Best):  8.55E-02 (8.32E-02) / 1.21E-01 (1.20E-01) eV/Ang\n",
      "    dipole      MAE (Best) / RMSE (Best):  4.38E-02 (4.43E-02) / 5.97E-02 (6.08E-02) eAng\n",
      "\n"
     ]
    },
    {
     "name": "stdout",
     "output_type": "stream",
     "text": [
      "Epoch   326 |##########################################| 100.0% Done - Epoch Time:  5.9 s, Loss:  0.3018   \r\n",
      "Epoch   327 |##########################################| 100.0% Done - Epoch Time:  7.3 s, Loss:  0.3024   \r\n",
      "Epoch   328 |##########################################| 100.0% Done - Epoch Time:  7.6 s, Loss:  0.3050   \r\n",
      "Epoch   329 |##########################################| 100.0% Done - Epoch Time:  7.1 s, Loss:  0.3120   \r\n",
      "Epoch   330 |##########################################| 100.0% Done - Epoch Time:  7.0 s, Loss:  0.3296   \r\n"
     ]
    },
    {
     "name": "stderr",
     "output_type": "stream",
     "text": [
      "INFO:asparagus.src.train.trainer:INFO:\n",
      "Summary Epoch: 330/1000\n",
      "  Loss   train / valid:  3.30E-01 / 4.44E-01  Best Loss valid: 4.08E-01\n",
      "  Property Metrics (valid):\n",
      "    energy      MAE (Best) / RMSE (Best):  6.99E-02 (4.17E-02) / 8.27E-02 (5.66E-02) eV\n",
      "    forces      MAE (Best) / RMSE (Best):  8.82E-02 (8.32E-02) / 1.25E-01 (1.20E-01) eV/Ang\n",
      "    dipole      MAE (Best) / RMSE (Best):  4.66E-02 (4.43E-02) / 6.26E-02 (6.08E-02) eAng\n",
      "\n"
     ]
    },
    {
     "name": "stdout",
     "output_type": "stream",
     "text": [
      "Epoch   331 |##########################################| 100.0% Done - Epoch Time:  6.9 s, Loss:  0.3140   \r\n",
      "Epoch   332 |##########################################| 100.0% Done - Epoch Time:  6.9 s, Loss:  0.3233   \r\n",
      "Epoch   333 |##########################################| 100.0% Done - Epoch Time:  6.7 s, Loss:  0.3370   \r\n",
      "Epoch   334 |##########################################| 100.0% Done - Epoch Time:  6.5 s, Loss:  0.3219   \r\n",
      "Epoch   335 |##########################################| 100.0% Done - Epoch Time:  6.6 s, Loss:  0.2995   \r\n"
     ]
    },
    {
     "name": "stderr",
     "output_type": "stream",
     "text": [
      "INFO:asparagus.src.train.trainer:INFO:\n",
      "Summary Epoch: 335/1000\n",
      "  Loss   train / valid:  3.00E-01 / 4.12E-01  Best Loss valid: 4.08E-01\n",
      "  Property Metrics (valid):\n",
      "    energy      MAE (Best) / RMSE (Best):  4.32E-02 (4.17E-02) / 5.40E-02 (5.66E-02) eV\n",
      "    forces      MAE (Best) / RMSE (Best):  8.31E-02 (8.32E-02) / 1.21E-01 (1.20E-01) eV/Ang\n",
      "    dipole      MAE (Best) / RMSE (Best):  4.57E-02 (4.43E-02) / 6.16E-02 (6.08E-02) eAng\n",
      "\n"
     ]
    },
    {
     "name": "stdout",
     "output_type": "stream",
     "text": [
      "Epoch   336 |##########################################| 100.0% Done - Epoch Time:  8.3 s, Loss:  0.2935   \r\n",
      "Epoch   337 |##########################################| 100.0% Done - Epoch Time:  8.8 s, Loss:  0.2922   \r\n",
      "Epoch   338 |##########################################| 100.0% Done - Epoch Time:  9.0 s, Loss:  0.2947   \r\n",
      "Epoch   339 |##########################################| 100.0% Done - Epoch Time:  8.0 s, Loss:  0.2929   \r\n",
      "Epoch   340 |##########################################| 100.0% Done - Epoch Time:  7.9 s, Loss:  0.2980   \r\n"
     ]
    },
    {
     "name": "stderr",
     "output_type": "stream",
     "text": [
      "INFO:asparagus.src.train.trainer:INFO:\n",
      "Summary Epoch: 340/1000\n",
      "  Loss   train / valid:  2.98E-01 / 4.31E-01  Best Loss valid: 4.08E-01\n",
      "  Property Metrics (valid):\n",
      "    energy      MAE (Best) / RMSE (Best):  3.88E-02 (4.17E-02) / 5.31E-02 (5.66E-02) eV\n",
      "    forces      MAE (Best) / RMSE (Best):  8.62E-02 (8.32E-02) / 1.24E-01 (1.20E-01) eV/Ang\n",
      "    dipole      MAE (Best) / RMSE (Best):  4.41E-02 (4.43E-02) / 5.94E-02 (6.08E-02) eAng\n",
      "\n"
     ]
    },
    {
     "name": "stdout",
     "output_type": "stream",
     "text": [
      "Epoch   341 |##########################################| 100.0% Done - Epoch Time:  8.2 s, Loss:  0.2961   \r\n",
      "Epoch   342 |##########################################| 100.0% Done - Epoch Time:  6.8 s, Loss:  0.2868   \r\n",
      "Epoch   343 |##########################################| 100.0% Done - Epoch Time:  6.2 s, Loss:  0.2866   \r\n",
      "Epoch   344 |##########################################| 100.0% Done - Epoch Time:  7.6 s, Loss:  0.2896   \r\n",
      "Epoch   345 |##########################################| 100.0% Done - Epoch Time:  8.6 s, Loss:  0.2927   \r\n"
     ]
    },
    {
     "name": "stderr",
     "output_type": "stream",
     "text": [
      "INFO:asparagus.src.train.tester:INFO:\n",
      "Summary for test set:\n",
      "  Property Metrics    MAE,       RMSE\n",
      "   energy           3.67e-02,  5.18e-02 eV\n",
      "   forces           8.25e-02,  1.21e-01 eV/Ang\n",
      "   dipole           4.44e-02,  5.83e-02 eAng\n",
      "\n",
      "INFO:asparagus.src.train.trainer:INFO:\n",
      "Summary Epoch: 345/1000\n",
      "  Loss   train / valid:  2.93E-01 / 4.02E-01  Best Loss valid: 4.02E-01\n",
      "  Property Metrics (valid):\n",
      "    energy      MAE (Best) / RMSE (Best):  3.70E-02 (3.70E-02) / 5.17E-02 (5.17E-02) eV\n",
      "    forces      MAE (Best) / RMSE (Best):  8.46E-02 (8.46E-02) / 1.20E-01 (1.20E-01) eV/Ang\n",
      "    dipole      MAE (Best) / RMSE (Best):  4.26E-02 (4.26E-02) / 5.76E-02 (5.76E-02) eAng\n",
      "\n"
     ]
    },
    {
     "name": "stdout",
     "output_type": "stream",
     "text": [
      "Epoch   346 |##########################################| 100.0% Done - Epoch Time:  8.6 s, Loss:  0.2827   \r\n",
      "Epoch   347 |##########################################| 100.0% Done - Epoch Time:  8.2 s, Loss:  0.2761   \r\n",
      "Epoch   348 |##########################################| 100.0% Done - Epoch Time:  8.5 s, Loss:  0.2931   \r\n",
      "Epoch   349 |##########################################| 100.0% Done - Epoch Time:  8.6 s, Loss:  0.2956   \r\n",
      "Epoch   350 |##########################################| 100.0% Done - Epoch Time:  11.1 s, Loss:  0.2841   \r\n"
     ]
    },
    {
     "name": "stderr",
     "output_type": "stream",
     "text": [
      "INFO:asparagus.src.train.tester:INFO:\n",
      "Summary for test set:\n",
      "  Property Metrics    MAE,       RMSE\n",
      "   energy           4.47e-02,  5.70e-02 eV\n",
      "   forces           8.09e-02,  1.19e-01 eV/Ang\n",
      "   dipole           4.38e-02,  5.74e-02 eAng\n",
      "\n",
      "INFO:asparagus.src.train.trainer:INFO:\n",
      "Summary Epoch: 350/1000\n",
      "  Loss   train / valid:  2.84E-01 / 4.01E-01  Best Loss valid: 4.01E-01\n",
      "  Property Metrics (valid):\n",
      "    energy      MAE (Best) / RMSE (Best):  4.71E-02 (4.71E-02) / 6.09E-02 (6.09E-02) eV\n",
      "    forces      MAE (Best) / RMSE (Best):  8.40E-02 (8.40E-02) / 1.20E-01 (1.20E-01) eV/Ang\n",
      "    dipole      MAE (Best) / RMSE (Best):  4.17E-02 (4.17E-02) / 5.65E-02 (5.65E-02) eAng\n",
      "\n"
     ]
    },
    {
     "name": "stdout",
     "output_type": "stream",
     "text": [
      "Epoch   351 |##########################################| 100.0% Done - Epoch Time:  8.4 s, Loss:  0.2898   \r\n",
      "Epoch   352 |##########################################| 100.0% Done - Epoch Time:  8.2 s, Loss:  0.3003   \r\n",
      "Epoch   353 |##########################################| 100.0% Done - Epoch Time:  8.8 s, Loss:  0.2932   \r\n",
      "Epoch   354 |##########################################| 100.0% Done - Epoch Time:  8.5 s, Loss:  0.2879   \r\n",
      "Epoch   355 |##########################################| 100.0% Done - Epoch Time:  8.3 s, Loss:  0.2866   \r\n"
     ]
    },
    {
     "name": "stderr",
     "output_type": "stream",
     "text": [
      "INFO:asparagus.src.train.trainer:INFO:\n",
      "Summary Epoch: 355/1000\n",
      "  Loss   train / valid:  2.87E-01 / 4.30E-01  Best Loss valid: 4.01E-01\n",
      "  Property Metrics (valid):\n",
      "    energy      MAE (Best) / RMSE (Best):  6.50E-02 (4.71E-02) / 8.53E-02 (6.09E-02) eV\n",
      "    forces      MAE (Best) / RMSE (Best):  8.79E-02 (8.40E-02) / 1.24E-01 (1.20E-01) eV/Ang\n",
      "    dipole      MAE (Best) / RMSE (Best):  4.30E-02 (4.17E-02) / 5.81E-02 (5.65E-02) eAng\n",
      "\n"
     ]
    },
    {
     "name": "stdout",
     "output_type": "stream",
     "text": [
      "Epoch   356 |##########################################| 100.0% Done - Epoch Time:  8.1 s, Loss:  0.2858   \r\n",
      "Epoch   357 |##########################################| 100.0% Done - Epoch Time:  8.1 s, Loss:  0.2916   \r\n",
      "Epoch   358 |##########################################| 100.0% Done - Epoch Time:  7.7 s, Loss:  0.2849   \r\n",
      "Epoch   359 |##########################################| 100.0% Done - Epoch Time:  11.0 s, Loss:  0.2837   \r\n",
      "Epoch   360 |##########################################| 100.0% Done - Epoch Time:  6.0 s, Loss:  0.2818   \r\n"
     ]
    },
    {
     "name": "stderr",
     "output_type": "stream",
     "text": [
      "INFO:asparagus.src.train.trainer:INFO:\n",
      "Summary Epoch: 360/1000\n",
      "  Loss   train / valid:  2.82E-01 / 4.02E-01  Best Loss valid: 4.01E-01\n",
      "  Property Metrics (valid):\n",
      "    energy      MAE (Best) / RMSE (Best):  4.50E-02 (4.71E-02) / 5.80E-02 (6.09E-02) eV\n",
      "    forces      MAE (Best) / RMSE (Best):  8.35E-02 (8.40E-02) / 1.20E-01 (1.20E-01) eV/Ang\n",
      "    dipole      MAE (Best) / RMSE (Best):  4.18E-02 (4.17E-02) / 5.68E-02 (5.65E-02) eAng\n",
      "\n"
     ]
    },
    {
     "name": "stdout",
     "output_type": "stream",
     "text": [
      "Epoch   361 |##########################################| 100.0% Done - Epoch Time:  5.8 s, Loss:  0.2833   \r\n",
      "Epoch   362 |##########################################| 100.0% Done - Epoch Time:  6.1 s, Loss:  0.2962   \r\n",
      "Epoch   363 |##########################################| 100.0% Done - Epoch Time:  5.8 s, Loss:  0.2936   \r\n",
      "Epoch   364 |##########################################| 100.0% Done - Epoch Time:  6.6 s, Loss:  0.2689   \r\n",
      "Epoch   365 |##########################################| 100.0% Done - Epoch Time:  9.8 s, Loss:  0.2713   \r\n"
     ]
    },
    {
     "name": "stderr",
     "output_type": "stream",
     "text": [
      "INFO:asparagus.src.train.tester:INFO:\n",
      "Summary for test set:\n",
      "  Property Metrics    MAE,       RMSE\n",
      "   energy           4.65e-02,  6.04e-02 eV\n",
      "   forces           7.77e-02,  1.15e-01 eV/Ang\n",
      "   dipole           4.16e-02,  5.51e-02 eAng\n",
      "\n",
      "INFO:asparagus.src.train.trainer:INFO:\n",
      "Summary Epoch: 365/1000\n",
      "  Loss   train / valid:  2.71E-01 / 3.85E-01  Best Loss valid: 3.85E-01\n",
      "  Property Metrics (valid):\n",
      "    energy      MAE (Best) / RMSE (Best):  4.84E-02 (4.84E-02) / 6.20E-02 (6.20E-02) eV\n",
      "    forces      MAE (Best) / RMSE (Best):  8.17E-02 (8.17E-02) / 1.17E-01 (1.17E-01) eV/Ang\n",
      "    dipole      MAE (Best) / RMSE (Best):  4.12E-02 (4.12E-02) / 5.58E-02 (5.58E-02) eAng\n",
      "\n"
     ]
    },
    {
     "name": "stdout",
     "output_type": "stream",
     "text": [
      "Epoch   366 |##########################################| 100.0% Done - Epoch Time:  7.3 s, Loss:  0.2680   \r\n",
      "Epoch   367 |##########################################| 100.0% Done - Epoch Time:  7.0 s, Loss:  0.2829   \r\n",
      "Epoch   368 |##########################################| 100.0% Done - Epoch Time:  6.2 s, Loss:  0.2687   \r\n",
      "Epoch   369 |##########################################| 100.0% Done - Epoch Time:  5.8 s, Loss:  0.2559   \r\n",
      "Epoch   370 |##########################################| 100.0% Done - Epoch Time:  5.8 s, Loss:  0.2588   \r\n"
     ]
    },
    {
     "name": "stderr",
     "output_type": "stream",
     "text": [
      "INFO:asparagus.src.train.trainer:INFO:\n",
      "Summary Epoch: 370/1000\n",
      "  Loss   train / valid:  2.59E-01 / 4.02E-01  Best Loss valid: 3.85E-01\n",
      "  Property Metrics (valid):\n",
      "    energy      MAE (Best) / RMSE (Best):  3.45E-02 (4.84E-02) / 4.88E-02 (6.20E-02) eV\n",
      "    forces      MAE (Best) / RMSE (Best):  8.41E-02 (8.17E-02) / 1.20E-01 (1.17E-01) eV/Ang\n",
      "    dipole      MAE (Best) / RMSE (Best):  4.08E-02 (4.12E-02) / 5.60E-02 (5.58E-02) eAng\n",
      "\n"
     ]
    },
    {
     "name": "stdout",
     "output_type": "stream",
     "text": [
      "Epoch   371 |##########################################| 100.0% Done - Epoch Time:  5.8 s, Loss:  0.2863   \r\n",
      "Epoch   372 |##########################################| 100.0% Done - Epoch Time:  6.0 s, Loss:  0.2735   \r\n",
      "Epoch   373 |##########################################| 100.0% Done - Epoch Time:  6.0 s, Loss:  0.2713   \r\n",
      "Epoch   374 |##########################################| 100.0% Done - Epoch Time:  5.8 s, Loss:  0.2688   \r\n",
      "Epoch   375 |##########################################| 100.0% Done - Epoch Time:  8.1 s, Loss:  0.2791   \r\n"
     ]
    },
    {
     "name": "stderr",
     "output_type": "stream",
     "text": [
      "INFO:asparagus.src.train.tester:INFO:\n",
      "Summary for test set:\n",
      "  Property Metrics    MAE,       RMSE\n",
      "   energy           6.01e-02,  7.08e-02 eV\n",
      "   forces           7.88e-02,  1.16e-01 eV/Ang\n",
      "   dipole           4.27e-02,  5.59e-02 eAng\n",
      "\n",
      "INFO:asparagus.src.train.trainer:INFO:\n",
      "Summary Epoch: 375/1000\n",
      "  Loss   train / valid:  2.79E-01 / 3.81E-01  Best Loss valid: 3.81E-01\n",
      "  Property Metrics (valid):\n",
      "    energy      MAE (Best) / RMSE (Best):  6.15E-02 (6.15E-02) / 7.28E-02 (7.28E-02) eV\n",
      "    forces      MAE (Best) / RMSE (Best):  8.26E-02 (8.26E-02) / 1.17E-01 (1.17E-01) eV/Ang\n",
      "    dipole      MAE (Best) / RMSE (Best):  4.01E-02 (4.01E-02) / 5.47E-02 (5.47E-02) eAng\n",
      "\n"
     ]
    },
    {
     "name": "stdout",
     "output_type": "stream",
     "text": [
      "Epoch   376 |##########################################| 100.0% Done - Epoch Time:  7.6 s, Loss:  0.2835   \r\n",
      "Epoch   377 |##########################################| 100.0% Done - Epoch Time:  7.7 s, Loss:  0.2764   \r\n",
      "Epoch   378 |##########################################| 100.0% Done - Epoch Time:  8.1 s, Loss:  0.2725   \r\n",
      "Epoch   379 |##########################################| 100.0% Done - Epoch Time:  7.0 s, Loss:  0.2568   \r\n",
      "Epoch   380 |##########################################| 100.0% Done - Epoch Time:  84.2 s, Loss:  0.2639   \r\n"
     ]
    },
    {
     "name": "stderr",
     "output_type": "stream",
     "text": [
      "INFO:asparagus.src.train.trainer:INFO:\n",
      "Summary Epoch: 380/1000\n",
      "  Loss   train / valid:  2.64E-01 / 3.86E-01  Best Loss valid: 3.81E-01\n",
      "  Property Metrics (valid):\n",
      "    energy      MAE (Best) / RMSE (Best):  7.29E-02 (6.15E-02) / 8.30E-02 (7.28E-02) eV\n",
      "    forces      MAE (Best) / RMSE (Best):  8.25E-02 (8.26E-02) / 1.18E-01 (1.17E-01) eV/Ang\n",
      "    dipole      MAE (Best) / RMSE (Best):  3.98E-02 (4.01E-02) / 5.42E-02 (5.47E-02) eAng\n",
      "\n"
     ]
    },
    {
     "name": "stdout",
     "output_type": "stream",
     "text": [
      "Epoch   381 |##########################################| 100.0% Done - Epoch Time:  23.7 s, Loss:  0.2670   \r\n",
      "Epoch   382 |##########################################| 100.0% Done - Epoch Time:  7.2 s, Loss:  0.2785   \r\n",
      "Epoch   383 |##########################################| 100.0% Done - Epoch Time:  7.4 s, Loss:  0.2719   \r\n",
      "Epoch   384 |##########################################| 100.0% Done - Epoch Time:  7.5 s, Loss:  0.2660   \r\n",
      "Epoch   385 |##########################################| 100.0% Done - Epoch Time:  7.0 s, Loss:  0.2803   \r\n"
     ]
    },
    {
     "name": "stderr",
     "output_type": "stream",
     "text": [
      "INFO:asparagus.src.train.trainer:INFO:\n",
      "Summary Epoch: 385/1000\n",
      "  Loss   train / valid:  2.80E-01 / 4.11E-01  Best Loss valid: 3.81E-01\n",
      "  Property Metrics (valid):\n",
      "    energy      MAE (Best) / RMSE (Best):  4.41E-02 (6.15E-02) / 5.66E-02 (7.28E-02) eV\n",
      "    forces      MAE (Best) / RMSE (Best):  8.59E-02 (8.26E-02) / 1.22E-01 (1.17E-01) eV/Ang\n",
      "    dipole      MAE (Best) / RMSE (Best):  4.05E-02 (4.01E-02) / 5.55E-02 (5.47E-02) eAng\n",
      "\n"
     ]
    },
    {
     "name": "stdout",
     "output_type": "stream",
     "text": [
      "Epoch   386 |##########################################| 100.0% Done - Epoch Time:  5.8 s, Loss:  0.2803   \r\n",
      "Epoch   387 |##########################################| 100.0% Done - Epoch Time:  5.9 s, Loss:  0.2701   \r\n",
      "Epoch   388 |##########################################| 100.0% Done - Epoch Time:  5.8 s, Loss:  0.2749   \r\n",
      "Epoch   389 |##########################################| 100.0% Done - Epoch Time:  5.8 s, Loss:  0.2634   \r\n",
      "Epoch   390 |##########################################| 100.0% Done - Epoch Time:  6.1 s, Loss:  0.2640   \r\n"
     ]
    },
    {
     "name": "stderr",
     "output_type": "stream",
     "text": [
      "INFO:asparagus.src.train.trainer:INFO:\n",
      "Summary Epoch: 390/1000\n",
      "  Loss   train / valid:  2.64E-01 / 3.92E-01  Best Loss valid: 3.81E-01\n",
      "  Property Metrics (valid):\n",
      "    energy      MAE (Best) / RMSE (Best):  4.19E-02 (6.15E-02) / 5.51E-02 (7.28E-02) eV\n",
      "    forces      MAE (Best) / RMSE (Best):  8.32E-02 (8.26E-02) / 1.19E-01 (1.17E-01) eV/Ang\n",
      "    dipole      MAE (Best) / RMSE (Best):  4.11E-02 (4.01E-02) / 5.56E-02 (5.47E-02) eAng\n",
      "\n"
     ]
    },
    {
     "name": "stdout",
     "output_type": "stream",
     "text": [
      "Epoch   391 |##########################################| 100.0% Done - Epoch Time:  6.2 s, Loss:  0.2642   \r\n",
      "Epoch   392 |##########################################| 100.0% Done - Epoch Time:  7.0 s, Loss:  0.2707   \r\n",
      "Epoch   393 |##########################################| 100.0% Done - Epoch Time:  10.5 s, Loss:  0.2946   \r\n",
      "Epoch   394 |##########################################| 100.0% Done - Epoch Time:  9.7 s, Loss:  0.2566   \r\n",
      "Epoch   395 |##########################################| 100.0% Done - Epoch Time:  13.6 s, Loss:  0.2662   \r\n"
     ]
    },
    {
     "name": "stderr",
     "output_type": "stream",
     "text": [
      "INFO:asparagus.src.train.trainer:INFO:\n",
      "Summary Epoch: 395/1000\n",
      "  Loss   train / valid:  2.66E-01 / 3.88E-01  Best Loss valid: 3.81E-01\n",
      "  Property Metrics (valid):\n",
      "    energy      MAE (Best) / RMSE (Best):  8.58E-02 (6.15E-02) / 9.70E-02 (7.28E-02) eV\n",
      "    forces      MAE (Best) / RMSE (Best):  8.35E-02 (8.26E-02) / 1.17E-01 (1.17E-01) eV/Ang\n",
      "    dipole      MAE (Best) / RMSE (Best):  4.20E-02 (4.01E-02) / 5.68E-02 (5.47E-02) eAng\n",
      "\n"
     ]
    },
    {
     "name": "stdout",
     "output_type": "stream",
     "text": [
      "Epoch   396 |##########################################| 100.0% Done - Epoch Time:  8.8 s, Loss:  0.2647   \r\n",
      "Epoch   397 |##########################################| 100.0% Done - Epoch Time:  8.4 s, Loss:  0.2534   \r\n",
      "Epoch   398 |##########################################| 100.0% Done - Epoch Time:  8.2 s, Loss:  0.2620   \r\n",
      "Epoch   399 |##########################################| 100.0% Done - Epoch Time:  13.8 s, Loss:  0.2645   \r\n",
      "Epoch   400 |##########################################| 100.0% Done - Epoch Time:  77.4 s, Loss:  0.2546   \r\n"
     ]
    },
    {
     "name": "stderr",
     "output_type": "stream",
     "text": [
      "INFO:asparagus.src.train.tester:INFO:\n",
      "Summary for test set:\n",
      "  Property Metrics    MAE,       RMSE\n",
      "   energy           5.62e-02,  6.60e-02 eV\n",
      "   forces           7.75e-02,  1.14e-01 eV/Ang\n",
      "   dipole           4.09e-02,  5.42e-02 eAng\n",
      "\n",
      "INFO:asparagus.src.train.trainer:INFO:\n",
      "Summary Epoch: 400/1000\n",
      "  Loss   train / valid:  2.55E-01 / 3.72E-01  Best Loss valid: 3.72E-01\n",
      "  Property Metrics (valid):\n",
      "    energy      MAE (Best) / RMSE (Best):  5.71E-02 (5.71E-02) / 6.61E-02 (6.61E-02) eV\n",
      "    forces      MAE (Best) / RMSE (Best):  8.06E-02 (8.06E-02) / 1.15E-01 (1.15E-01) eV/Ang\n",
      "    dipole      MAE (Best) / RMSE (Best):  4.08E-02 (4.08E-02) / 5.53E-02 (5.53E-02) eAng\n",
      "\n"
     ]
    },
    {
     "name": "stdout",
     "output_type": "stream",
     "text": [
      "Epoch   401 |##########################################| 100.0% Done - Epoch Time:  7.4 s, Loss:  0.2495   \r\n",
      "Epoch   402 |##########################################| 100.0% Done - Epoch Time:  7.3 s, Loss:  0.2558   \r\n",
      "Epoch   403 |##########################################| 100.0% Done - Epoch Time:  7.3 s, Loss:  0.2531   \r\n",
      "Epoch   404 |##########################################| 100.0% Done - Epoch Time:  7.2 s, Loss:  0.2461   \r\n",
      "Epoch   405 |##########################################| 100.0% Done - Epoch Time:  5.7 s, Loss:  0.2501   \r\n"
     ]
    },
    {
     "name": "stderr",
     "output_type": "stream",
     "text": [
      "INFO:asparagus.src.train.tester:INFO:\n",
      "Summary for test set:\n",
      "  Property Metrics    MAE,       RMSE\n",
      "   energy           3.68e-02,  4.76e-02 eV\n",
      "   forces           7.42e-02,  1.11e-01 eV/Ang\n",
      "   dipole           4.22e-02,  5.51e-02 eAng\n",
      "\n",
      "INFO:asparagus.src.train.trainer:INFO:\n",
      "Summary Epoch: 405/1000\n",
      "  Loss   train / valid:  2.50E-01 / 3.56E-01  Best Loss valid: 3.56E-01\n",
      "  Property Metrics (valid):\n",
      "    energy      MAE (Best) / RMSE (Best):  3.69E-02 (3.69E-02) / 4.80E-02 (4.80E-02) eV\n",
      "    forces      MAE (Best) / RMSE (Best):  7.77E-02 (7.77E-02) / 1.13E-01 (1.13E-01) eV/Ang\n",
      "    dipole      MAE (Best) / RMSE (Best):  3.98E-02 (3.98E-02) / 5.40E-02 (5.40E-02) eAng\n",
      "\n"
     ]
    },
    {
     "name": "stdout",
     "output_type": "stream",
     "text": [
      "Epoch   406 |##########################################| 100.0% Done - Epoch Time:  5.9 s, Loss:  0.2493   \r\n",
      "Epoch   407 |##########################################| 100.0% Done - Epoch Time:  5.7 s, Loss:  0.2447   \r\n",
      "Epoch   408 |##########################################| 100.0% Done - Epoch Time:  7.1 s, Loss:  0.2461   \r\n",
      "Epoch   409 |##########################################| 100.0% Done - Epoch Time:  6.0 s, Loss:  0.2475   \r\n",
      "Epoch   410 |##########################################| 100.0% Done - Epoch Time:  17.5 s, Loss:  0.2481   \r\n"
     ]
    },
    {
     "name": "stderr",
     "output_type": "stream",
     "text": [
      "INFO:asparagus.src.train.tester:INFO:\n",
      "Summary for test set:\n",
      "  Property Metrics    MAE,       RMSE\n",
      "   energy           3.03e-02,  4.05e-02 eV\n",
      "   forces           7.44e-02,  1.11e-01 eV/Ang\n",
      "   dipole           4.01e-02,  5.28e-02 eAng\n",
      "\n",
      "INFO:asparagus.src.train.trainer:INFO:\n",
      "Summary Epoch: 410/1000\n",
      "  Loss   train / valid:  2.48E-01 / 3.55E-01  Best Loss valid: 3.55E-01\n",
      "  Property Metrics (valid):\n",
      "    energy      MAE (Best) / RMSE (Best):  3.25E-02 (3.25E-02) / 4.44E-02 (4.44E-02) eV\n",
      "    forces      MAE (Best) / RMSE (Best):  7.81E-02 (7.81E-02) / 1.13E-01 (1.13E-01) eV/Ang\n",
      "    dipole      MAE (Best) / RMSE (Best):  3.90E-02 (3.90E-02) / 5.33E-02 (5.33E-02) eAng\n",
      "\n"
     ]
    },
    {
     "name": "stdout",
     "output_type": "stream",
     "text": [
      "Epoch   411 |##########################################| 100.0% Done - Epoch Time:  31.5 s, Loss:  0.2421   \r\n",
      "Epoch   412 |##########################################| 100.0% Done - Epoch Time:  8.7 s, Loss:  0.2628   \r\n",
      "Epoch   413 |##########################################| 100.0% Done - Epoch Time:  8.0 s, Loss:  0.2468   \r\n",
      "Epoch   414 |##########################################| 100.0% Done - Epoch Time:  75.5 s, Loss:  0.2426   \r\n",
      "Epoch   415 |##########################################| 100.0% Done - Epoch Time:  8.2 s, Loss:  0.2412   \r\n"
     ]
    },
    {
     "name": "stderr",
     "output_type": "stream",
     "text": [
      "INFO:asparagus.src.train.trainer:INFO:\n",
      "Summary Epoch: 415/1000\n",
      "  Loss   train / valid:  2.41E-01 / 3.58E-01  Best Loss valid: 3.55E-01\n",
      "  Property Metrics (valid):\n",
      "    energy      MAE (Best) / RMSE (Best):  5.04E-02 (3.25E-02) / 6.58E-02 (4.44E-02) eV\n",
      "    forces      MAE (Best) / RMSE (Best):  7.89E-02 (7.81E-02) / 1.13E-01 (1.13E-01) eV/Ang\n",
      "    dipole      MAE (Best) / RMSE (Best):  3.89E-02 (3.90E-02) / 5.31E-02 (5.33E-02) eAng\n",
      "\n"
     ]
    },
    {
     "name": "stdout",
     "output_type": "stream",
     "text": [
      "Epoch   416 |##########################################| 100.0% Done - Epoch Time:  7.6 s, Loss:  0.2442   \r\n",
      "Epoch   417 |##########################################| 100.0% Done - Epoch Time:  7.1 s, Loss:  0.2408   \r\n",
      "Epoch   418 |##########################################| 100.0% Done - Epoch Time:  7.1 s, Loss:  0.2362   \r\n",
      "Epoch   419 |##########################################| 100.0% Done - Epoch Time:  6.2 s, Loss:  0.2458   \r\n",
      "Epoch   420 |##########################################| 100.0% Done - Epoch Time:  7.6 s, Loss:  0.2397   \r\n"
     ]
    },
    {
     "name": "stderr",
     "output_type": "stream",
     "text": [
      "INFO:asparagus.src.train.trainer:INFO:\n",
      "Summary Epoch: 420/1000\n",
      "  Loss   train / valid:  2.40E-01 / 3.62E-01  Best Loss valid: 3.55E-01\n",
      "  Property Metrics (valid):\n",
      "    energy      MAE (Best) / RMSE (Best):  4.00E-02 (3.25E-02) / 5.23E-02 (4.44E-02) eV\n",
      "    forces      MAE (Best) / RMSE (Best):  7.97E-02 (7.81E-02) / 1.14E-01 (1.13E-01) eV/Ang\n",
      "    dipole      MAE (Best) / RMSE (Best):  3.94E-02 (3.90E-02) / 5.39E-02 (5.33E-02) eAng\n",
      "\n"
     ]
    },
    {
     "name": "stdout",
     "output_type": "stream",
     "text": [
      "Epoch   421 |##########################################| 100.0% Done - Epoch Time:  5.8 s, Loss:  0.2913   \r\n",
      "Epoch   422 |##########################################| 100.0% Done - Epoch Time:  5.7 s, Loss:  0.2731   \r\n",
      "Epoch   423 |##########################################| 100.0% Done - Epoch Time:  6.2 s, Loss:  0.2575   \r\n",
      "Epoch   424 |##########################################| 100.0% Done - Epoch Time:  6.7 s, Loss:  0.2537   \r\n",
      "Epoch   425 |##########################################| 100.0% Done - Epoch Time:  6.0 s, Loss:  0.2387   \r\n"
     ]
    },
    {
     "name": "stderr",
     "output_type": "stream",
     "text": [
      "INFO:asparagus.src.train.trainer:INFO:\n",
      "Summary Epoch: 425/1000\n",
      "  Loss   train / valid:  2.39E-01 / 3.59E-01  Best Loss valid: 3.55E-01\n",
      "  Property Metrics (valid):\n",
      "    energy      MAE (Best) / RMSE (Best):  4.18E-02 (3.25E-02) / 5.55E-02 (4.44E-02) eV\n",
      "    forces      MAE (Best) / RMSE (Best):  7.87E-02 (7.81E-02) / 1.13E-01 (1.13E-01) eV/Ang\n",
      "    dipole      MAE (Best) / RMSE (Best):  3.91E-02 (3.90E-02) / 5.37E-02 (5.33E-02) eAng\n",
      "\n"
     ]
    },
    {
     "name": "stdout",
     "output_type": "stream",
     "text": [
      "Epoch   426 |##########################################| 100.0% Done - Epoch Time:  5.6 s, Loss:  0.2362   \r\n",
      "Epoch   427 |##########################################| 100.0% Done - Epoch Time:  6.1 s, Loss:  0.2376   \r\n",
      "Epoch   428 |##########################################| 100.0% Done - Epoch Time:  53.3 s, Loss:  0.2413   \r\n",
      "Epoch   429 |##########################################| 100.0% Done - Epoch Time:  10.9 s, Loss:  0.2567   \r\n",
      "Epoch   430 |##########################################| 100.0% Done - Epoch Time:  9.9 s, Loss:  0.2718   \r\n"
     ]
    },
    {
     "name": "stderr",
     "output_type": "stream",
     "text": [
      "INFO:asparagus.src.train.trainer:INFO:\n",
      "Summary Epoch: 430/1000\n",
      "  Loss   train / valid:  2.72E-01 / 3.71E-01  Best Loss valid: 3.55E-01\n",
      "  Property Metrics (valid):\n",
      "    energy      MAE (Best) / RMSE (Best):  1.03E-01 (3.25E-02) / 1.10E-01 (4.44E-02) eV\n",
      "    forces      MAE (Best) / RMSE (Best):  8.05E-02 (7.81E-02) / 1.15E-01 (1.13E-01) eV/Ang\n",
      "    dipole      MAE (Best) / RMSE (Best):  3.86E-02 (3.90E-02) / 5.24E-02 (5.33E-02) eAng\n",
      "\n"
     ]
    },
    {
     "name": "stdout",
     "output_type": "stream",
     "text": [
      "Epoch   431 |##########################################| 100.0% Done - Epoch Time:  10.1 s, Loss:  0.2387   \r\n",
      "Epoch   432 |##########################################| 100.0% Done - Epoch Time:  9.0 s, Loss:  0.2358   \r\n",
      "Epoch   433 |##########################################| 100.0% Done - Epoch Time:  9.5 s, Loss:  0.2515   \r\n",
      "Epoch   434 |##########################################| 100.0% Done - Epoch Time:  9.1 s, Loss:  0.2540   \r\n",
      "Epoch   435 |##########################################| 100.0% Done - Epoch Time:  8.9 s, Loss:  0.2457   \r\n"
     ]
    },
    {
     "name": "stderr",
     "output_type": "stream",
     "text": [
      "INFO:asparagus.src.train.trainer:INFO:\n",
      "Summary Epoch: 435/1000\n",
      "  Loss   train / valid:  2.46E-01 / 3.67E-01  Best Loss valid: 3.55E-01\n",
      "  Property Metrics (valid):\n",
      "    energy      MAE (Best) / RMSE (Best):  5.00E-02 (3.25E-02) / 6.09E-02 (4.44E-02) eV\n",
      "    forces      MAE (Best) / RMSE (Best):  8.01E-02 (7.81E-02) / 1.15E-01 (1.13E-01) eV/Ang\n",
      "    dipole      MAE (Best) / RMSE (Best):  3.86E-02 (3.90E-02) / 5.25E-02 (5.33E-02) eAng\n",
      "\n"
     ]
    },
    {
     "name": "stdout",
     "output_type": "stream",
     "text": [
      "Epoch   436 |##########################################| 100.0% Done - Epoch Time:  8.9 s, Loss:  0.2358   \r\n",
      "Epoch   437 |##########################################| 100.0% Done - Epoch Time:  8.9 s, Loss:  0.2419   \r\n",
      "Epoch   438 |##########################################| 100.0% Done - Epoch Time:  8.4 s, Loss:  0.2481   \r\n",
      "Epoch   439 |##########################################| 100.0% Done - Epoch Time:  9.1 s, Loss:  0.2386   \r\n",
      "Epoch   440 |##########################################| 100.0% Done - Epoch Time:  8.2 s, Loss:  0.2296   \r\n"
     ]
    },
    {
     "name": "stderr",
     "output_type": "stream",
     "text": [
      "INFO:asparagus.src.train.tester:INFO:\n",
      "Summary for test set:\n",
      "  Property Metrics    MAE,       RMSE\n",
      "   energy           3.65e-02,  4.75e-02 eV\n",
      "   forces           7.49e-02,  1.10e-01 eV/Ang\n",
      "   dipole           3.96e-02,  5.20e-02 eAng\n",
      "\n",
      "INFO:asparagus.src.train.trainer:INFO:\n",
      "Summary Epoch: 440/1000\n",
      "  Loss   train / valid:  2.30E-01 / 3.51E-01  Best Loss valid: 3.51E-01\n",
      "  Property Metrics (valid):\n",
      "    energy      MAE (Best) / RMSE (Best):  3.63E-02 (3.63E-02) / 5.04E-02 (5.04E-02) eV\n",
      "    forces      MAE (Best) / RMSE (Best):  7.80E-02 (7.80E-02) / 1.12E-01 (1.12E-01) eV/Ang\n",
      "    dipole      MAE (Best) / RMSE (Best):  3.90E-02 (3.90E-02) / 5.30E-02 (5.30E-02) eAng\n",
      "\n"
     ]
    },
    {
     "name": "stdout",
     "output_type": "stream",
     "text": [
      "Epoch   441 |##########################################| 100.0% Done - Epoch Time:  11.1 s, Loss:  0.2313   \r\n",
      "Epoch   442 |##########################################| 100.0% Done - Epoch Time:  6.0 s, Loss:  0.2288   \r\n",
      "Epoch   443 |##########################################| 100.0% Done - Epoch Time:  5.9 s, Loss:  0.2313   \r\n",
      "Epoch   444 |##########################################| 100.0% Done - Epoch Time:  5.8 s, Loss:  0.2409   \r\n",
      "Epoch   445 |##########################################| 100.0% Done - Epoch Time:  6.0 s, Loss:  0.2457   \r\n"
     ]
    },
    {
     "name": "stderr",
     "output_type": "stream",
     "text": [
      "INFO:asparagus.src.train.trainer:INFO:\n",
      "Summary Epoch: 445/1000\n",
      "  Loss   train / valid:  2.46E-01 / 4.37E-01  Best Loss valid: 3.51E-01\n",
      "  Property Metrics (valid):\n",
      "    energy      MAE (Best) / RMSE (Best):  7.63E-02 (3.63E-02) / 9.15E-02 (5.04E-02) eV\n",
      "    forces      MAE (Best) / RMSE (Best):  8.85E-02 (7.80E-02) / 1.26E-01 (1.12E-01) eV/Ang\n",
      "    dipole      MAE (Best) / RMSE (Best):  4.10E-02 (3.90E-02) / 5.55E-02 (5.30E-02) eAng\n",
      "\n"
     ]
    },
    {
     "name": "stdout",
     "output_type": "stream",
     "text": [
      "Epoch   446 |##########################################| 100.0% Done - Epoch Time:  7.2 s, Loss:  0.2659   \r\n",
      "Epoch   447 |##########################################| 100.0% Done - Epoch Time:  7.1 s, Loss:  0.2491   \r\n",
      "Epoch   448 |##########################################| 100.0% Done - Epoch Time:  7.5 s, Loss:  0.2331   \r\n",
      "Epoch   449 |##########################################| 100.0% Done - Epoch Time:  6.9 s, Loss:  0.2358   \r\n",
      "Epoch   450 |##########################################| 100.0% Done - Epoch Time:  5.7 s, Loss:  0.2307   \r\n"
     ]
    },
    {
     "name": "stderr",
     "output_type": "stream",
     "text": [
      "INFO:asparagus.src.train.tester:INFO:\n",
      "Summary for test set:\n",
      "  Property Metrics    MAE,       RMSE\n",
      "   energy           3.69e-02,  4.75e-02 eV\n",
      "   forces           7.21e-02,  1.07e-01 eV/Ang\n",
      "   dipole           3.94e-02,  5.22e-02 eAng\n",
      "\n",
      "INFO:asparagus.src.train.trainer:INFO:\n",
      "Summary Epoch: 450/1000\n",
      "  Loss   train / valid:  2.31E-01 / 3.35E-01  Best Loss valid: 3.35E-01\n",
      "  Property Metrics (valid):\n",
      "    energy      MAE (Best) / RMSE (Best):  3.76E-02 (3.76E-02) / 5.19E-02 (5.19E-02) eV\n",
      "    forces      MAE (Best) / RMSE (Best):  7.57E-02 (7.57E-02) / 1.09E-01 (1.09E-01) eV/Ang\n",
      "    dipole      MAE (Best) / RMSE (Best):  3.82E-02 (3.82E-02) / 5.25E-02 (5.25E-02) eAng\n",
      "\n"
     ]
    },
    {
     "name": "stdout",
     "output_type": "stream",
     "text": [
      "Epoch   451 |##########################################| 100.0% Done - Epoch Time:  5.9 s, Loss:  0.2260   \r\n",
      "Epoch   452 |##########################################| 100.0% Done - Epoch Time:  6.2 s, Loss:  0.2262   \r\n",
      "Epoch   453 |##########################################| 100.0% Done - Epoch Time:  5.9 s, Loss:  0.2311   \r\n",
      "Epoch   454 |##########################################| 100.0% Done - Epoch Time:  5.9 s, Loss:  0.2237   \r\n",
      "Epoch   455 |##########################################| 100.0% Done - Epoch Time:  6.0 s, Loss:  0.2258   \r\n"
     ]
    },
    {
     "name": "stderr",
     "output_type": "stream",
     "text": [
      "INFO:asparagus.src.train.trainer:INFO:\n",
      "Summary Epoch: 455/1000\n",
      "  Loss   train / valid:  2.26E-01 / 3.41E-01  Best Loss valid: 3.35E-01\n",
      "  Property Metrics (valid):\n",
      "    energy      MAE (Best) / RMSE (Best):  3.56E-02 (3.76E-02) / 4.76E-02 (5.19E-02) eV\n",
      "    forces      MAE (Best) / RMSE (Best):  7.79E-02 (7.57E-02) / 1.11E-01 (1.09E-01) eV/Ang\n",
      "    dipole      MAE (Best) / RMSE (Best):  3.76E-02 (3.82E-02) / 5.15E-02 (5.25E-02) eAng\n",
      "\n"
     ]
    },
    {
     "name": "stdout",
     "output_type": "stream",
     "text": [
      "Epoch   456 |##########################################| 100.0% Done - Epoch Time:  6.0 s, Loss:  0.2225   \r\n",
      "Epoch   457 |##########################################| 100.0% Done - Epoch Time:  6.1 s, Loss:  0.2278   \r\n",
      "Epoch   458 |##########################################| 100.0% Done - Epoch Time:  6.1 s, Loss:  0.2672   \r\n",
      "Epoch   459 |##########################################| 100.0% Done - Epoch Time:  15.1 s, Loss:  0.2830   \r\n",
      "Epoch   460 |##########################################| 100.0% Done - Epoch Time:  24.4 s, Loss:  0.2559   \r\n"
     ]
    },
    {
     "name": "stderr",
     "output_type": "stream",
     "text": [
      "INFO:asparagus.src.train.trainer:INFO:\n",
      "Summary Epoch: 460/1000\n",
      "  Loss   train / valid:  2.56E-01 / 4.20E-01  Best Loss valid: 3.35E-01\n",
      "  Property Metrics (valid):\n",
      "    energy      MAE (Best) / RMSE (Best):  6.58E-02 (3.76E-02) / 8.66E-02 (5.19E-02) eV\n",
      "    forces      MAE (Best) / RMSE (Best):  8.91E-02 (7.57E-02) / 1.23E-01 (1.09E-01) eV/Ang\n",
      "    dipole      MAE (Best) / RMSE (Best):  4.13E-02 (3.82E-02) / 5.60E-02 (5.25E-02) eAng\n",
      "\n"
     ]
    },
    {
     "name": "stdout",
     "output_type": "stream",
     "text": [
      "Epoch   461 |##########################################| 100.0% Done - Epoch Time:  54.9 s, Loss:  0.2508   \r\n",
      "Epoch   462 |##########################################| 100.0% Done - Epoch Time:  34.6 s, Loss:  0.2463   \r\n",
      "Epoch   463 |##########################################| 100.0% Done - Epoch Time:  8.7 s, Loss:  0.2480   \r\n",
      "Epoch   464 |##########################################| 100.0% Done - Epoch Time:  7.3 s, Loss:  0.2258   \r\n",
      "Epoch   465 |##########################################| 100.0% Done - Epoch Time:  7.4 s, Loss:  0.2216   \r\n"
     ]
    },
    {
     "name": "stderr",
     "output_type": "stream",
     "text": [
      "INFO:asparagus.src.train.trainer:INFO:\n",
      "Summary Epoch: 465/1000\n",
      "  Loss   train / valid:  2.22E-01 / 3.41E-01  Best Loss valid: 3.35E-01\n",
      "  Property Metrics (valid):\n",
      "    energy      MAE (Best) / RMSE (Best):  7.38E-02 (3.76E-02) / 8.28E-02 (5.19E-02) eV\n",
      "    forces      MAE (Best) / RMSE (Best):  7.69E-02 (7.57E-02) / 1.11E-01 (1.09E-01) eV/Ang\n",
      "    dipole      MAE (Best) / RMSE (Best):  3.71E-02 (3.82E-02) / 5.05E-02 (5.25E-02) eAng\n",
      "\n"
     ]
    },
    {
     "name": "stdout",
     "output_type": "stream",
     "text": [
      "Epoch   466 |##########################################| 100.0% Done - Epoch Time:  7.4 s, Loss:  0.2234   \r\n",
      "Epoch   467 |##########################################| 100.0% Done - Epoch Time:  6.0 s, Loss:  0.2233   \r\n",
      "Epoch   468 |##########################################| 100.0% Done - Epoch Time:  5.9 s, Loss:  0.2157   \r\n",
      "Epoch   469 |##########################################| 100.0% Done - Epoch Time:  5.9 s, Loss:  0.2150   \r\n",
      "Epoch   470 |##########################################| 100.0% Done - Epoch Time:  5.9 s, Loss:  0.2147   \r\n"
     ]
    },
    {
     "name": "stderr",
     "output_type": "stream",
     "text": [
      "INFO:asparagus.src.train.tester:INFO:\n",
      "Summary for test set:\n",
      "  Property Metrics    MAE,       RMSE\n",
      "   energy           4.73e-02,  5.85e-02 eV\n",
      "   forces           7.23e-02,  1.07e-01 eV/Ang\n",
      "   dipole           3.84e-02,  5.09e-02 eAng\n",
      "\n",
      "INFO:asparagus.src.train.trainer:INFO:\n",
      "Summary Epoch: 470/1000\n",
      "  Loss   train / valid:  2.15E-01 / 3.30E-01  Best Loss valid: 3.30E-01\n",
      "  Property Metrics (valid):\n",
      "    energy      MAE (Best) / RMSE (Best):  4.93E-02 (4.93E-02) / 6.06E-02 (6.06E-02) eV\n",
      "    forces      MAE (Best) / RMSE (Best):  7.51E-02 (7.51E-02) / 1.09E-01 (1.09E-01) eV/Ang\n",
      "    dipole      MAE (Best) / RMSE (Best):  3.70E-02 (3.70E-02) / 5.09E-02 (5.09E-02) eAng\n",
      "\n"
     ]
    },
    {
     "name": "stdout",
     "output_type": "stream",
     "text": [
      "Epoch   471 |##########################################| 100.0% Done - Epoch Time:  6.4 s, Loss:  0.2148   \r\n",
      "Epoch   472 |##########################################| 100.0% Done - Epoch Time:  6.1 s, Loss:  0.2249   \r\n",
      "Epoch   473 |##########################################| 100.0% Done - Epoch Time:  6.2 s, Loss:  0.2309   \r\n",
      "Epoch   474 |##########################################| 100.0% Done - Epoch Time:  7.4 s, Loss:  0.2797   \r\n",
      "Epoch   475 |##########################################| 100.0% Done - Epoch Time:  7.6 s, Loss:  0.2497   \r\n"
     ]
    },
    {
     "name": "stderr",
     "output_type": "stream",
     "text": [
      "INFO:asparagus.src.train.trainer:INFO:\n",
      "Summary Epoch: 475/1000\n",
      "  Loss   train / valid:  2.50E-01 / 3.49E-01  Best Loss valid: 3.30E-01\n",
      "  Property Metrics (valid):\n",
      "    energy      MAE (Best) / RMSE (Best):  5.37E-02 (4.93E-02) / 6.63E-02 (6.06E-02) eV\n",
      "    forces      MAE (Best) / RMSE (Best):  7.85E-02 (7.51E-02) / 1.12E-01 (1.09E-01) eV/Ang\n",
      "    dipole      MAE (Best) / RMSE (Best):  3.78E-02 (3.70E-02) / 5.19E-02 (5.09E-02) eAng\n",
      "\n"
     ]
    },
    {
     "name": "stdout",
     "output_type": "stream",
     "text": [
      "Epoch   476 |##########################################| 100.0% Done - Epoch Time:  8.1 s, Loss:  0.2271   \r\n",
      "Epoch   477 |##########################################| 100.0% Done - Epoch Time:  8.7 s, Loss:  0.2222   \r\n",
      "Epoch   478 |##########################################| 100.0% Done - Epoch Time:  28.4 s, Loss:  0.2249   \r\n",
      "Epoch   479 |##########################################| 100.0% Done - Epoch Time:  9.3 s, Loss:  0.2268   \r\n",
      "Epoch   480 |##########################################| 100.0% Done - Epoch Time:  8.9 s, Loss:  0.2201   \r\n"
     ]
    },
    {
     "name": "stderr",
     "output_type": "stream",
     "text": [
      "INFO:asparagus.src.train.trainer:INFO:\n",
      "Summary Epoch: 480/1000\n",
      "  Loss   train / valid:  2.20E-01 / 3.42E-01  Best Loss valid: 3.30E-01\n",
      "  Property Metrics (valid):\n",
      "    energy      MAE (Best) / RMSE (Best):  5.64E-02 (4.93E-02) / 6.73E-02 (6.06E-02) eV\n",
      "    forces      MAE (Best) / RMSE (Best):  7.66E-02 (7.51E-02) / 1.10E-01 (1.09E-01) eV/Ang\n",
      "    dipole      MAE (Best) / RMSE (Best):  3.91E-02 (3.70E-02) / 5.29E-02 (5.09E-02) eAng\n",
      "\n"
     ]
    },
    {
     "name": "stdout",
     "output_type": "stream",
     "text": [
      "Epoch   481 |##########################################| 100.0% Done - Epoch Time:  6.4 s, Loss:  0.2197   \r\n",
      "Epoch   482 |##########################################| 100.0% Done - Epoch Time:  8.0 s, Loss:  0.2218   \r\n",
      "Epoch   483 |##########################################| 100.0% Done - Epoch Time:  9.2 s, Loss:  0.2222   \r\n",
      "Epoch   484 |##########################################| 100.0% Done - Epoch Time:  10.2 s, Loss:  0.2141   \r\n",
      "Epoch   485 |##########################################| 100.0% Done - Epoch Time:  9.7 s, Loss:  0.2120   \r\n"
     ]
    },
    {
     "name": "stderr",
     "output_type": "stream",
     "text": [
      "INFO:asparagus.src.train.tester:INFO:\n",
      "Summary for test set:\n",
      "  Property Metrics    MAE,       RMSE\n",
      "   energy           3.99e-02,  5.25e-02 eV\n",
      "   forces           7.17e-02,  1.07e-01 eV/Ang\n",
      "   dipole           4.08e-02,  5.33e-02 eAng\n",
      "\n",
      "INFO:asparagus.src.train.trainer:INFO:\n",
      "Summary Epoch: 485/1000\n",
      "  Loss   train / valid:  2.12E-01 / 3.30E-01  Best Loss valid: 3.30E-01\n",
      "  Property Metrics (valid):\n",
      "    energy      MAE (Best) / RMSE (Best):  3.94E-02 (3.94E-02) / 5.28E-02 (5.28E-02) eV\n",
      "    forces      MAE (Best) / RMSE (Best):  7.46E-02 (7.46E-02) / 1.08E-01 (1.08E-01) eV/Ang\n",
      "    dipole      MAE (Best) / RMSE (Best):  3.93E-02 (3.93E-02) / 5.37E-02 (5.37E-02) eAng\n",
      "\n"
     ]
    },
    {
     "name": "stdout",
     "output_type": "stream",
     "text": [
      "Epoch   486 |##########################################| 100.0% Done - Epoch Time:  9.2 s, Loss:  0.2112   \r\n",
      "Epoch   487 |##########################################| 100.0% Done - Epoch Time:  9.7 s, Loss:  0.2129   \r\n",
      "Epoch   488 |##########################################| 100.0% Done - Epoch Time:  8.7 s, Loss:  0.2128   \r\n",
      "Epoch   489 |##########################################| 100.0% Done - Epoch Time:  8.4 s, Loss:  0.2273   \r\n",
      "Epoch   490 |##########################################| 100.0% Done - Epoch Time:  8.8 s, Loss:  0.2152   \r\n"
     ]
    },
    {
     "name": "stderr",
     "output_type": "stream",
     "text": [
      "INFO:asparagus.src.train.trainer:INFO:\n",
      "Summary Epoch: 490/1000\n",
      "  Loss   train / valid:  2.15E-01 / 3.40E-01  Best Loss valid: 3.30E-01\n",
      "  Property Metrics (valid):\n",
      "    energy      MAE (Best) / RMSE (Best):  4.10E-02 (3.94E-02) / 5.12E-02 (5.28E-02) eV\n",
      "    forces      MAE (Best) / RMSE (Best):  7.71E-02 (7.46E-02) / 1.11E-01 (1.08E-01) eV/Ang\n",
      "    dipole      MAE (Best) / RMSE (Best):  3.70E-02 (3.93E-02) / 5.09E-02 (5.37E-02) eAng\n",
      "\n"
     ]
    },
    {
     "name": "stdout",
     "output_type": "stream",
     "text": [
      "Epoch   491 |##########################################| 100.0% Done - Epoch Time:  8.6 s, Loss:  0.2160   \r\n",
      "Epoch   492 |##########################################| 100.0% Done - Epoch Time:  8.7 s, Loss:  0.2253   \r\n",
      "Epoch   493 |##########################################| 100.0% Done - Epoch Time:  9.5 s, Loss:  0.2133   \r\n",
      "Epoch   494 |##########################################| 100.0% Done - Epoch Time:  8.6 s, Loss:  0.2169   \r\n",
      "Epoch   495 |##########################################| 100.0% Done - Epoch Time:  11.0 s, Loss:  0.2068   \r\n"
     ]
    },
    {
     "name": "stderr",
     "output_type": "stream",
     "text": [
      "INFO:asparagus.src.train.trainer:INFO:\n",
      "Summary Epoch: 495/1000\n",
      "  Loss   train / valid:  2.07E-01 / 3.31E-01  Best Loss valid: 3.30E-01\n",
      "  Property Metrics (valid):\n",
      "    energy      MAE (Best) / RMSE (Best):  4.60E-02 (3.94E-02) / 5.62E-02 (5.28E-02) eV\n",
      "    forces      MAE (Best) / RMSE (Best):  7.52E-02 (7.46E-02) / 1.09E-01 (1.08E-01) eV/Ang\n",
      "    dipole      MAE (Best) / RMSE (Best):  3.87E-02 (3.93E-02) / 5.26E-02 (5.37E-02) eAng\n",
      "\n"
     ]
    },
    {
     "name": "stdout",
     "output_type": "stream",
     "text": [
      "Epoch   496 |##########################################| 100.0% Done - Epoch Time:  6.5 s, Loss:  0.2122   \r\n",
      "Epoch   497 |##########################################| 100.0% Done - Epoch Time:  6.0 s, Loss:  0.2033   \r\n",
      "Epoch   498 |##########################################| 100.0% Done - Epoch Time:  6.0 s, Loss:  0.2088   \r\n",
      "Epoch   499 |##########################################| 100.0% Done - Epoch Time:  6.9 s, Loss:  0.2057   \r\n",
      "Epoch   500 |##########################################| 100.0% Done - Epoch Time:  7.2 s, Loss:  0.2110   \r\n"
     ]
    },
    {
     "name": "stderr",
     "output_type": "stream",
     "text": [
      "INFO:asparagus.src.train.tester:INFO:\n",
      "Summary for test set:\n",
      "  Property Metrics    MAE,       RMSE\n",
      "   energy           3.08e-02,  3.88e-02 eV\n",
      "   forces           7.20e-02,  1.07e-01 eV/Ang\n",
      "   dipole           3.82e-02,  4.99e-02 eAng\n",
      "\n",
      "INFO:asparagus.src.train.trainer:INFO:\n",
      "Summary Epoch: 500/1000\n",
      "  Loss   train / valid:  2.11E-01 / 3.26E-01  Best Loss valid: 3.26E-01\n",
      "  Property Metrics (valid):\n",
      "    energy      MAE (Best) / RMSE (Best):  3.21E-02 (3.21E-02) / 4.25E-02 (4.25E-02) eV\n",
      "    forces      MAE (Best) / RMSE (Best):  7.51E-02 (7.51E-02) / 1.08E-01 (1.08E-01) eV/Ang\n",
      "    dipole      MAE (Best) / RMSE (Best):  3.60E-02 (3.60E-02) / 4.97E-02 (4.97E-02) eAng\n",
      "\n"
     ]
    },
    {
     "name": "stdout",
     "output_type": "stream",
     "text": [
      "Epoch   501 |##########################################| 100.0% Done - Epoch Time:  7.5 s, Loss:  0.2030   \r\n",
      "Epoch   502 |##########################################| 100.0% Done - Epoch Time:  7.2 s, Loss:  0.2096   \r\n",
      "Epoch   503 |##########################################| 100.0% Done - Epoch Time:  6.0 s, Loss:  0.2223   \r\n",
      "Epoch   504 |##########################################| 100.0% Done - Epoch Time:  5.8 s, Loss:  0.2053   \r\n",
      "Epoch   505 |##########################################| 100.0% Done - Epoch Time:  5.9 s, Loss:  0.2047   \r\n"
     ]
    },
    {
     "name": "stderr",
     "output_type": "stream",
     "text": [
      "INFO:asparagus.src.train.tester:INFO:\n",
      "Summary for test set:\n",
      "  Property Metrics    MAE,       RMSE\n",
      "   energy           3.22e-02,  4.40e-02 eV\n",
      "   forces           7.13e-02,  1.06e-01 eV/Ang\n",
      "   dipole           3.71e-02,  4.91e-02 eAng\n",
      "\n",
      "INFO:asparagus.src.train.trainer:INFO:\n",
      "Summary Epoch: 505/1000\n",
      "  Loss   train / valid:  2.05E-01 / 3.12E-01  Best Loss valid: 3.12E-01\n",
      "  Property Metrics (valid):\n",
      "    energy      MAE (Best) / RMSE (Best):  3.23E-02 (3.23E-02) / 4.50E-02 (4.50E-02) eV\n",
      "    forces      MAE (Best) / RMSE (Best):  7.26E-02 (7.26E-02) / 1.06E-01 (1.06E-01) eV/Ang\n",
      "    dipole      MAE (Best) / RMSE (Best):  3.67E-02 (3.67E-02) / 5.06E-02 (5.06E-02) eAng\n",
      "\n"
     ]
    },
    {
     "name": "stdout",
     "output_type": "stream",
     "text": [
      "Epoch   506 |##########################################| 100.0% Done - Epoch Time:  6.4 s, Loss:  0.1969   \r\n",
      "Epoch   507 |##########################################| 100.0% Done - Epoch Time:  5.9 s, Loss:  0.2034   \r\n",
      "Epoch   508 |##########################################| 100.0% Done - Epoch Time:  6.1 s, Loss:  0.2117   \r\n",
      "Epoch   509 |##########################################| 100.0% Done - Epoch Time:  6.1 s, Loss:  0.2042   \r\n",
      "Epoch   510 |##########################################| 100.0% Done - Epoch Time:  6.0 s, Loss:  0.2000   \r\n"
     ]
    },
    {
     "name": "stderr",
     "output_type": "stream",
     "text": [
      "INFO:asparagus.src.train.trainer:INFO:\n",
      "Summary Epoch: 510/1000\n",
      "  Loss   train / valid:  2.00E-01 / 3.39E-01  Best Loss valid: 3.12E-01\n",
      "  Property Metrics (valid):\n",
      "    energy      MAE (Best) / RMSE (Best):  4.48E-02 (3.23E-02) / 5.86E-02 (4.50E-02) eV\n",
      "    forces      MAE (Best) / RMSE (Best):  7.83E-02 (7.26E-02) / 1.10E-01 (1.06E-01) eV/Ang\n",
      "    dipole      MAE (Best) / RMSE (Best):  3.67E-02 (3.67E-02) / 5.09E-02 (5.06E-02) eAng\n",
      "\n"
     ]
    },
    {
     "name": "stdout",
     "output_type": "stream",
     "text": [
      "Epoch   511 |##########################################| 100.0% Done - Epoch Time:  10.4 s, Loss:  0.2169   \r\n",
      "Epoch   512 |##########################################| 100.0% Done - Epoch Time:  11.3 s, Loss:  0.2143   \r\n",
      "Epoch   513 |##########################################| 100.0% Done - Epoch Time:  10.6 s, Loss:  0.2139   \r\n",
      "Epoch   514 |##########################################| 100.0% Done - Epoch Time:  7.0 s, Loss:  0.2250   \r\n",
      "Epoch   515 |##########################################| 100.0% Done - Epoch Time:  7.0 s, Loss:  0.2418   \r\n"
     ]
    },
    {
     "name": "stderr",
     "output_type": "stream",
     "text": [
      "INFO:asparagus.src.train.trainer:INFO:\n",
      "Summary Epoch: 515/1000\n",
      "  Loss   train / valid:  2.42E-01 / 3.29E-01  Best Loss valid: 3.12E-01\n",
      "  Property Metrics (valid):\n",
      "    energy      MAE (Best) / RMSE (Best):  4.85E-02 (3.23E-02) / 5.99E-02 (4.50E-02) eV\n",
      "    forces      MAE (Best) / RMSE (Best):  7.60E-02 (7.26E-02) / 1.08E-01 (1.06E-01) eV/Ang\n",
      "    dipole      MAE (Best) / RMSE (Best):  3.78E-02 (3.67E-02) / 5.13E-02 (5.06E-02) eAng\n",
      "\n"
     ]
    },
    {
     "name": "stdout",
     "output_type": "stream",
     "text": [
      "Epoch   516 |##########################################| 100.0% Done - Epoch Time:  7.6 s, Loss:  0.2363   \r\n",
      "Epoch   517 |##########################################| 100.0% Done - Epoch Time:  9.1 s, Loss:  0.2406   \r\n",
      "Epoch   518 |##########################################| 100.0% Done - Epoch Time:  9.6 s, Loss:  0.2071   \r\n",
      "Epoch   519 |##########################################| 100.0% Done - Epoch Time:  11.8 s, Loss:  0.2025   \r\n",
      "Epoch   520 |##########################################| 100.0% Done - Epoch Time:  10.7 s, Loss:  0.1969   \r\n"
     ]
    },
    {
     "name": "stderr",
     "output_type": "stream",
     "text": [
      "INFO:asparagus.src.train.trainer:INFO:\n",
      "Summary Epoch: 520/1000\n",
      "  Loss   train / valid:  1.97E-01 / 3.19E-01  Best Loss valid: 3.12E-01\n",
      "  Property Metrics (valid):\n",
      "    energy      MAE (Best) / RMSE (Best):  4.23E-02 (3.23E-02) / 5.29E-02 (4.50E-02) eV\n",
      "    forces      MAE (Best) / RMSE (Best):  7.40E-02 (7.26E-02) / 1.07E-01 (1.06E-01) eV/Ang\n",
      "    dipole      MAE (Best) / RMSE (Best):  3.71E-02 (3.67E-02) / 5.05E-02 (5.06E-02) eAng\n",
      "\n"
     ]
    },
    {
     "name": "stdout",
     "output_type": "stream",
     "text": [
      "Epoch   521 |##########################################| 100.0% Done - Epoch Time:  6.7 s, Loss:  0.1966   \r\n",
      "Epoch   522 |##########################################| 100.0% Done - Epoch Time:  9.6 s, Loss:  0.2027   \r\n",
      "Epoch   523 |##########################################| 100.0% Done - Epoch Time:  13.5 s, Loss:  0.2346   \r\n",
      "Epoch   524 |##########################################| 100.0% Done - Epoch Time:  9.9 s, Loss:  0.2468   \r\n",
      "Epoch   525 |##########################################| 100.0% Done - Epoch Time:  10.7 s, Loss:  0.2237   \r\n"
     ]
    },
    {
     "name": "stderr",
     "output_type": "stream",
     "text": [
      "INFO:asparagus.src.train.trainer:INFO:\n",
      "Summary Epoch: 525/1000\n",
      "  Loss   train / valid:  2.24E-01 / 3.33E-01  Best Loss valid: 3.12E-01\n",
      "  Property Metrics (valid):\n",
      "    energy      MAE (Best) / RMSE (Best):  5.11E-02 (3.23E-02) / 6.34E-02 (4.50E-02) eV\n",
      "    forces      MAE (Best) / RMSE (Best):  7.70E-02 (7.26E-02) / 1.10E-01 (1.06E-01) eV/Ang\n",
      "    dipole      MAE (Best) / RMSE (Best):  3.66E-02 (3.67E-02) / 4.96E-02 (5.06E-02) eAng\n",
      "\n"
     ]
    },
    {
     "name": "stdout",
     "output_type": "stream",
     "text": [
      "Epoch   526 |##########################################| 100.0% Done - Epoch Time:  11.2 s, Loss:  0.2174   \r\n",
      "Epoch   527 |##########################################| 100.0% Done - Epoch Time:  9.7 s, Loss:  0.2018   \r\n",
      "Epoch   528 |##########################################| 100.0% Done - Epoch Time:  11.2 s, Loss:  0.2024   \r\n",
      "Epoch   529 |##########################################| 100.0% Done - Epoch Time:  20.4 s, Loss:  0.2072   \r\n",
      "Epoch   530 |##########################################| 100.0% Done - Epoch Time:  11.9 s, Loss:  0.2179   \r\n"
     ]
    },
    {
     "name": "stderr",
     "output_type": "stream",
     "text": [
      "INFO:asparagus.src.train.trainer:INFO:\n",
      "Summary Epoch: 530/1000\n",
      "  Loss   train / valid:  2.18E-01 / 3.27E-01  Best Loss valid: 3.12E-01\n",
      "  Property Metrics (valid):\n",
      "    energy      MAE (Best) / RMSE (Best):  3.86E-02 (3.23E-02) / 5.00E-02 (4.50E-02) eV\n",
      "    forces      MAE (Best) / RMSE (Best):  7.58E-02 (7.26E-02) / 1.09E-01 (1.06E-01) eV/Ang\n",
      "    dipole      MAE (Best) / RMSE (Best):  3.55E-02 (3.67E-02) / 4.92E-02 (5.06E-02) eAng\n",
      "\n"
     ]
    },
    {
     "name": "stdout",
     "output_type": "stream",
     "text": [
      "Epoch   531 |##########################################| 100.0% Done - Epoch Time:  6.3 s, Loss:  0.2055   \r\n",
      "Epoch   532 |##########################################| 100.0% Done - Epoch Time:  5.9 s, Loss:  0.2067   \r\n",
      "Epoch   533 |##########################################| 100.0% Done - Epoch Time:  6.2 s, Loss:  0.2052   \r\n",
      "Epoch   534 |##########################################| 100.0% Done - Epoch Time:  7.6 s, Loss:  0.1975   \r\n",
      "Epoch   535 |##########################################| 100.0% Done - Epoch Time:  14.0 s, Loss:  0.2071   \r\n"
     ]
    },
    {
     "name": "stderr",
     "output_type": "stream",
     "text": [
      "INFO:asparagus.src.train.trainer:INFO:\n",
      "Summary Epoch: 535/1000\n",
      "  Loss   train / valid:  2.07E-01 / 3.33E-01  Best Loss valid: 3.12E-01\n",
      "  Property Metrics (valid):\n",
      "    energy      MAE (Best) / RMSE (Best):  5.46E-02 (3.23E-02) / 6.40E-02 (4.50E-02) eV\n",
      "    forces      MAE (Best) / RMSE (Best):  7.65E-02 (7.26E-02) / 1.10E-01 (1.06E-01) eV/Ang\n",
      "    dipole      MAE (Best) / RMSE (Best):  3.57E-02 (3.67E-02) / 4.95E-02 (5.06E-02) eAng\n",
      "\n"
     ]
    },
    {
     "name": "stdout",
     "output_type": "stream",
     "text": [
      "Epoch   536 |##########################################| 100.0% Done - Epoch Time:  7.0 s, Loss:  0.1950   \r\n",
      "Epoch   537 |##########################################| 100.0% Done - Epoch Time:  5.9 s, Loss:  0.1949   \r\n",
      "Epoch   538 |##########################################| 100.0% Done - Epoch Time:  6.1 s, Loss:  0.2034   \r\n",
      "Epoch   539 |##########################################| 100.0% Done - Epoch Time:  5.7 s, Loss:  0.1905   \r\n",
      "Epoch   540 |##########################################| 100.0% Done - Epoch Time:  5.8 s, Loss:  0.1934   \r\n"
     ]
    },
    {
     "name": "stderr",
     "output_type": "stream",
     "text": [
      "INFO:asparagus.src.train.tester:INFO:\n",
      "Summary for test set:\n",
      "  Property Metrics    MAE,       RMSE\n",
      "   energy           5.63e-02,  6.40e-02 eV\n",
      "   forces           7.01e-02,  1.05e-01 eV/Ang\n",
      "   dipole           3.72e-02,  4.90e-02 eAng\n",
      "\n",
      "INFO:asparagus.src.train.trainer:INFO:\n",
      "Summary Epoch: 540/1000\n",
      "  Loss   train / valid:  1.93E-01 / 3.09E-01  Best Loss valid: 3.09E-01\n",
      "  Property Metrics (valid):\n",
      "    energy      MAE (Best) / RMSE (Best):  5.81E-02 (5.81E-02) / 6.73E-02 (6.73E-02) eV\n",
      "    forces      MAE (Best) / RMSE (Best):  7.27E-02 (7.27E-02) / 1.05E-01 (1.05E-01) eV/Ang\n",
      "    dipole      MAE (Best) / RMSE (Best):  3.56E-02 (3.56E-02) / 4.91E-02 (4.91E-02) eAng\n",
      "\n"
     ]
    },
    {
     "name": "stdout",
     "output_type": "stream",
     "text": [
      "Epoch   541 |##########################################| 100.0% Done - Epoch Time:  6.1 s, Loss:  0.1921   \r\n",
      "Epoch   542 |##########################################| 100.0% Done - Epoch Time:  7.2 s, Loss:  0.1941   \r\n",
      "Epoch   543 |##########################################| 100.0% Done - Epoch Time:  5.8 s, Loss:  0.1898   \r\n",
      "Epoch   544 |##########################################| 100.0% Done - Epoch Time:  5.8 s, Loss:  0.1985   \r\n",
      "Epoch   545 |##########################################| 100.0% Done - Epoch Time:  6.2 s, Loss:  0.2005   \r\n"
     ]
    },
    {
     "name": "stderr",
     "output_type": "stream",
     "text": [
      "INFO:asparagus.src.train.trainer:INFO:\n",
      "Summary Epoch: 545/1000\n",
      "  Loss   train / valid:  2.01E-01 / 3.27E-01  Best Loss valid: 3.09E-01\n",
      "  Property Metrics (valid):\n",
      "    energy      MAE (Best) / RMSE (Best):  4.69E-02 (5.81E-02) / 5.38E-02 (6.73E-02) eV\n",
      "    forces      MAE (Best) / RMSE (Best):  7.57E-02 (7.27E-02) / 1.09E-01 (1.05E-01) eV/Ang\n",
      "    dipole      MAE (Best) / RMSE (Best):  3.52E-02 (3.56E-02) / 4.88E-02 (4.91E-02) eAng\n",
      "\n"
     ]
    },
    {
     "name": "stdout",
     "output_type": "stream",
     "text": [
      "Epoch   546 |##########################################| 100.0% Done - Epoch Time:  10.4 s, Loss:  0.2012   \r\n",
      "Epoch   547 |##########################################| 100.0% Done - Epoch Time:  7.7 s, Loss:  0.1919   \r\n",
      "Epoch   548 |##########################################| 100.0% Done - Epoch Time:  8.5 s, Loss:  0.1872   \r\n",
      "Epoch   549 |##########################################| 100.0% Done - Epoch Time:  7.5 s, Loss:  0.1885   \r\n",
      "Epoch   550 |##########################################| 100.0% Done - Epoch Time:  7.2 s, Loss:  0.1928   \r\n"
     ]
    },
    {
     "name": "stderr",
     "output_type": "stream",
     "text": [
      "INFO:asparagus.src.train.trainer:INFO:\n",
      "Summary Epoch: 550/1000\n",
      "  Loss   train / valid:  1.93E-01 / 3.19E-01  Best Loss valid: 3.09E-01\n",
      "  Property Metrics (valid):\n",
      "    energy      MAE (Best) / RMSE (Best):  2.95E-02 (5.81E-02) / 4.23E-02 (6.73E-02) eV\n",
      "    forces      MAE (Best) / RMSE (Best):  7.41E-02 (7.27E-02) / 1.07E-01 (1.05E-01) eV/Ang\n",
      "    dipole      MAE (Best) / RMSE (Best):  3.64E-02 (3.56E-02) / 5.00E-02 (4.91E-02) eAng\n",
      "\n"
     ]
    },
    {
     "name": "stdout",
     "output_type": "stream",
     "text": [
      "Epoch   551 |##########################################| 100.0% Done - Epoch Time:  6.8 s, Loss:  0.1893   \r\n",
      "Epoch   552 |##########################################| 100.0% Done - Epoch Time:  6.9 s, Loss:  0.1822   \r\n",
      "Epoch   553 |##########################################| 100.0% Done - Epoch Time:  9.7 s, Loss:  0.1840   \r\n",
      "Epoch   554 |##########################################| 100.0% Done - Epoch Time:  8.7 s, Loss:  0.1931   \r\n",
      "Epoch   555 |##########################################| 100.0% Done - Epoch Time:  9.3 s, Loss:  0.2003   \r\n"
     ]
    },
    {
     "name": "stderr",
     "output_type": "stream",
     "text": [
      "INFO:asparagus.src.train.trainer:INFO:\n",
      "Summary Epoch: 555/1000\n",
      "  Loss   train / valid:  2.00E-01 / 3.42E-01  Best Loss valid: 3.09E-01\n",
      "  Property Metrics (valid):\n",
      "    energy      MAE (Best) / RMSE (Best):  4.15E-02 (5.81E-02) / 5.35E-02 (6.73E-02) eV\n",
      "    forces      MAE (Best) / RMSE (Best):  7.73E-02 (7.27E-02) / 1.11E-01 (1.05E-01) eV/Ang\n",
      "    dipole      MAE (Best) / RMSE (Best):  3.73E-02 (3.56E-02) / 5.10E-02 (4.91E-02) eAng\n",
      "\n"
     ]
    },
    {
     "name": "stdout",
     "output_type": "stream",
     "text": [
      "Epoch   556 |##########################################| 100.0% Done - Epoch Time:  9.0 s, Loss:  0.2110   \r\n",
      "Epoch   557 |##########################################| 100.0% Done - Epoch Time:  9.1 s, Loss:  0.2011   \r\n",
      "Epoch   558 |##########################################| 100.0% Done - Epoch Time:  7.0 s, Loss:  0.1937   \r\n",
      "Epoch   559 |##########################################| 100.0% Done - Epoch Time:  7.1 s, Loss:  0.1928   \r\n",
      "Epoch   560 |##########################################| 100.0% Done - Epoch Time:  12.6 s, Loss:  0.1947   \r\n"
     ]
    },
    {
     "name": "stderr",
     "output_type": "stream",
     "text": [
      "INFO:asparagus.src.train.trainer:INFO:\n",
      "Summary Epoch: 560/1000\n",
      "  Loss   train / valid:  1.95E-01 / 3.10E-01  Best Loss valid: 3.09E-01\n",
      "  Property Metrics (valid):\n",
      "    energy      MAE (Best) / RMSE (Best):  4.82E-02 (5.81E-02) / 6.03E-02 (6.73E-02) eV\n",
      "    forces      MAE (Best) / RMSE (Best):  7.32E-02 (7.27E-02) / 1.05E-01 (1.05E-01) eV/Ang\n",
      "    dipole      MAE (Best) / RMSE (Best):  3.55E-02 (3.56E-02) / 4.91E-02 (4.91E-02) eAng\n",
      "\n"
     ]
    },
    {
     "name": "stdout",
     "output_type": "stream",
     "text": [
      "Epoch   561 |##########################################| 100.0% Done - Epoch Time:  10.1 s, Loss:  0.1886   \r\n",
      "Epoch   562 |##########################################| 100.0% Done - Epoch Time:  10.0 s, Loss:  0.1840   \r\n",
      "Epoch   563 |##########################################| 100.0% Done - Epoch Time:  9.1 s, Loss:  0.1855   \r\n",
      "Epoch   564 |##########################################| 100.0% Done - Epoch Time:  9.5 s, Loss:  0.1969   \r\n",
      "Epoch   565 |##########################################| 100.0% Done - Epoch Time:  8.2 s, Loss:  0.2054   \r\n"
     ]
    },
    {
     "name": "stderr",
     "output_type": "stream",
     "text": [
      "INFO:asparagus.src.train.trainer:INFO:\n",
      "Summary Epoch: 565/1000\n",
      "  Loss   train / valid:  2.05E-01 / 3.40E-01  Best Loss valid: 3.09E-01\n",
      "  Property Metrics (valid):\n",
      "    energy      MAE (Best) / RMSE (Best):  5.12E-02 (5.81E-02) / 6.81E-02 (6.73E-02) eV\n",
      "    forces      MAE (Best) / RMSE (Best):  7.85E-02 (7.27E-02) / 1.11E-01 (1.05E-01) eV/Ang\n",
      "    dipole      MAE (Best) / RMSE (Best):  3.52E-02 (3.56E-02) / 4.87E-02 (4.91E-02) eAng\n",
      "\n"
     ]
    },
    {
     "name": "stdout",
     "output_type": "stream",
     "text": [
      "Epoch   566 |##########################################| 100.0% Done - Epoch Time:  9.5 s, Loss:  0.1924   \r\n",
      "Epoch   567 |##########################################| 100.0% Done - Epoch Time:  9.6 s, Loss:  0.1898   \r\n",
      "Epoch   568 |##########################################| 100.0% Done - Epoch Time:  8.4 s, Loss:  0.1891   \r\n",
      "Epoch   569 |##########################################| 100.0% Done - Epoch Time:  9.5 s, Loss:  0.1866   \r\n",
      "Epoch   570 |##########################################| 100.0% Done - Epoch Time:  8.7 s, Loss:  0.1846   \r\n"
     ]
    },
    {
     "name": "stderr",
     "output_type": "stream",
     "text": [
      "INFO:asparagus.src.train.trainer:INFO:\n",
      "Summary Epoch: 570/1000\n",
      "  Loss   train / valid:  1.85E-01 / 3.11E-01  Best Loss valid: 3.09E-01\n",
      "  Property Metrics (valid):\n",
      "    energy      MAE (Best) / RMSE (Best):  3.63E-02 (5.81E-02) / 4.62E-02 (6.73E-02) eV\n",
      "    forces      MAE (Best) / RMSE (Best):  7.24E-02 (7.27E-02) / 1.06E-01 (1.05E-01) eV/Ang\n",
      "    dipole      MAE (Best) / RMSE (Best):  3.66E-02 (3.56E-02) / 4.99E-02 (4.91E-02) eAng\n",
      "\n"
     ]
    },
    {
     "name": "stdout",
     "output_type": "stream",
     "text": [
      "Epoch   571 |##########################################| 100.0% Done - Epoch Time:  12.9 s, Loss:  0.1900   \r\n",
      "Epoch   572 |##########################################| 100.0% Done - Epoch Time:  5.7 s, Loss:  0.1912   \r\n",
      "Epoch   573 |##########################################| 100.0% Done - Epoch Time:  7.4 s, Loss:  0.1800   \r\n",
      "Epoch   574 |##########################################| 100.0% Done - Epoch Time:  7.2 s, Loss:  0.1881   \r\n",
      "Epoch   575 |##########################################| 100.0% Done - Epoch Time:  7.4 s, Loss:  0.1965   \r\n"
     ]
    },
    {
     "name": "stderr",
     "output_type": "stream",
     "text": [
      "INFO:asparagus.src.train.trainer:INFO:\n",
      "Summary Epoch: 575/1000\n",
      "  Loss   train / valid:  1.97E-01 / 3.39E-01  Best Loss valid: 3.09E-01\n",
      "  Property Metrics (valid):\n",
      "    energy      MAE (Best) / RMSE (Best):  5.36E-02 (5.81E-02) / 6.21E-02 (6.73E-02) eV\n",
      "    forces      MAE (Best) / RMSE (Best):  7.76E-02 (7.27E-02) / 1.11E-01 (1.05E-01) eV/Ang\n",
      "    dipole      MAE (Best) / RMSE (Best):  3.64E-02 (3.56E-02) / 4.96E-02 (4.91E-02) eAng\n",
      "\n"
     ]
    },
    {
     "name": "stdout",
     "output_type": "stream",
     "text": [
      "Epoch   576 |##########################################| 100.0% Done - Epoch Time:  7.7 s, Loss:  0.1979   \r\n",
      "Epoch   577 |##########################################| 100.0% Done - Epoch Time:  6.9 s, Loss:  0.1802   \r\n",
      "Epoch   578 |##########################################| 100.0% Done - Epoch Time:  5.9 s, Loss:  0.1827   \r\n",
      "Epoch   579 |##########################################| 100.0% Done - Epoch Time:  5.9 s, Loss:  0.1806   \r\n",
      "Epoch   580 |##########################################| 100.0% Done - Epoch Time:  5.8 s, Loss:  0.1799   \r\n"
     ]
    },
    {
     "name": "stderr",
     "output_type": "stream",
     "text": [
      "INFO:asparagus.src.train.trainer:INFO:\n",
      "Summary Epoch: 580/1000\n",
      "  Loss   train / valid:  1.80E-01 / 3.15E-01  Best Loss valid: 3.09E-01\n",
      "  Property Metrics (valid):\n",
      "    energy      MAE (Best) / RMSE (Best):  4.27E-02 (5.81E-02) / 5.76E-02 (6.73E-02) eV\n",
      "    forces      MAE (Best) / RMSE (Best):  7.38E-02 (7.27E-02) / 1.06E-01 (1.05E-01) eV/Ang\n",
      "    dipole      MAE (Best) / RMSE (Best):  3.57E-02 (3.56E-02) / 4.91E-02 (4.91E-02) eAng\n",
      "\n"
     ]
    },
    {
     "name": "stdout",
     "output_type": "stream",
     "text": [
      "Epoch   581 |##########################################| 100.0% Done - Epoch Time:  6.0 s, Loss:  0.1815   \r\n",
      "Epoch   582 |##########################################| 100.0% Done - Epoch Time:  6.0 s, Loss:  0.1835   \r\n",
      "Epoch   583 |##########################################| 100.0% Done - Epoch Time:  6.2 s, Loss:  0.1788   \r\n",
      "Epoch   584 |##########################################| 100.0% Done - Epoch Time:  7.6 s, Loss:  0.1826   \r\n",
      "Epoch   585 |##########################################| 100.0% Done - Epoch Time:  8.5 s, Loss:  0.1826   \r\n"
     ]
    },
    {
     "name": "stderr",
     "output_type": "stream",
     "text": [
      "INFO:asparagus.src.train.trainer:INFO:\n",
      "Summary Epoch: 585/1000\n",
      "  Loss   train / valid:  1.83E-01 / 3.11E-01  Best Loss valid: 3.09E-01\n",
      "  Property Metrics (valid):\n",
      "    energy      MAE (Best) / RMSE (Best):  4.67E-02 (5.81E-02) / 5.93E-02 (6.73E-02) eV\n",
      "    forces      MAE (Best) / RMSE (Best):  7.38E-02 (7.27E-02) / 1.06E-01 (1.05E-01) eV/Ang\n",
      "    dipole      MAE (Best) / RMSE (Best):  3.44E-02 (3.56E-02) / 4.77E-02 (4.91E-02) eAng\n",
      "\n"
     ]
    },
    {
     "name": "stdout",
     "output_type": "stream",
     "text": [
      "Epoch   586 |##########################################| 100.0% Done - Epoch Time:  7.7 s, Loss:  0.1807   \r\n",
      "Epoch   587 |##########################################| 100.0% Done - Epoch Time:  7.2 s, Loss:  0.1874   \r\n",
      "Epoch   588 |##########################################| 100.0% Done - Epoch Time:  7.9 s, Loss:  0.1777   \r\n",
      "Epoch   589 |##########################################| 100.0% Done - Epoch Time:  7.3 s, Loss:  0.1874   \r\n",
      "Epoch   590 |##########################################| 100.0% Done - Epoch Time:  7.1 s, Loss:  0.1871   \r\n"
     ]
    },
    {
     "name": "stderr",
     "output_type": "stream",
     "text": [
      "INFO:asparagus.src.train.tester:INFO:\n",
      "Summary for test set:\n",
      "  Property Metrics    MAE,       RMSE\n",
      "   energy           2.55e-02,  3.39e-02 eV\n",
      "   forces           7.07e-02,  1.04e-01 eV/Ang\n",
      "   dipole           3.55e-02,  4.67e-02 eAng\n",
      "\n",
      "INFO:asparagus.src.train.trainer:INFO:\n",
      "Summary Epoch: 590/1000\n",
      "  Loss   train / valid:  1.87E-01 / 3.04E-01  Best Loss valid: 3.04E-01\n",
      "  Property Metrics (valid):\n",
      "    energy      MAE (Best) / RMSE (Best):  2.75E-02 (2.75E-02) / 3.84E-02 (3.84E-02) eV\n",
      "    forces      MAE (Best) / RMSE (Best):  7.28E-02 (7.28E-02) / 1.05E-01 (1.05E-01) eV/Ang\n",
      "    dipole      MAE (Best) / RMSE (Best):  3.43E-02 (3.43E-02) / 4.79E-02 (4.79E-02) eAng\n",
      "\n"
     ]
    },
    {
     "name": "stdout",
     "output_type": "stream",
     "text": [
      "Epoch   591 |##########################################| 100.0% Done - Epoch Time:  7.4 s, Loss:  0.1726   \r\n",
      "Epoch   592 |##########################################| 100.0% Done - Epoch Time:  11.3 s, Loss:  0.1772   \r\n",
      "Epoch   593 |##########################################| 100.0% Done - Epoch Time:  11.2 s, Loss:  0.1774   \r\n",
      "Epoch   594 |##########################################| 100.0% Done - Epoch Time:  9.5 s, Loss:  0.1797   \r\n",
      "Epoch   595 |##########################################| 100.0% Done - Epoch Time:  9.3 s, Loss:  0.1776   \r\n"
     ]
    },
    {
     "name": "stderr",
     "output_type": "stream",
     "text": [
      "INFO:asparagus.src.train.tester:INFO:\n",
      "Summary for test set:\n",
      "  Property Metrics    MAE,       RMSE\n",
      "   energy           3.62e-02,  4.38e-02 eV\n",
      "   forces           6.95e-02,  1.04e-01 eV/Ang\n",
      "   dipole           3.52e-02,  4.70e-02 eAng\n",
      "\n",
      "INFO:asparagus.src.train.trainer:INFO:\n",
      "Summary Epoch: 595/1000\n",
      "  Loss   train / valid:  1.78E-01 / 2.94E-01  Best Loss valid: 2.94E-01\n",
      "  Property Metrics (valid):\n",
      "    energy      MAE (Best) / RMSE (Best):  3.49E-02 (3.49E-02) / 4.43E-02 (4.43E-02) eV\n",
      "    forces      MAE (Best) / RMSE (Best):  7.09E-02 (7.09E-02) / 1.03E-01 (1.03E-01) eV/Ang\n",
      "    dipole      MAE (Best) / RMSE (Best):  3.42E-02 (3.42E-02) / 4.76E-02 (4.76E-02) eAng\n",
      "\n"
     ]
    },
    {
     "name": "stdout",
     "output_type": "stream",
     "text": [
      "Epoch   596 |##########################################| 100.0% Done - Epoch Time:  7.4 s, Loss:  0.1769   \r\n",
      "Epoch   597 |##########################################| 100.0% Done - Epoch Time:  23.0 s, Loss:  0.1767   \r\n",
      "Epoch   598 |##########################################| 100.0% Done - Epoch Time:  10.4 s, Loss:  0.1740   \r\n",
      "Epoch   599 |##########################################| 100.0% Done - Epoch Time:  9.6 s, Loss:  0.1734   \r\n",
      "Epoch   600 |##########################################| 100.0% Done - Epoch Time:  10.1 s, Loss:  0.1745   \r\n"
     ]
    },
    {
     "name": "stderr",
     "output_type": "stream",
     "text": [
      "INFO:asparagus.src.train.tester:INFO:\n",
      "Summary for test set:\n",
      "  Property Metrics    MAE,       RMSE\n",
      "   energy           3.25e-02,  4.12e-02 eV\n",
      "   forces           6.80e-02,  1.02e-01 eV/Ang\n",
      "   dipole           3.49e-02,  4.62e-02 eAng\n",
      "\n",
      "INFO:asparagus.src.train.trainer:INFO:\n",
      "Summary Epoch: 600/1000\n",
      "  Loss   train / valid:  1.74E-01 / 2.91E-01  Best Loss valid: 2.91E-01\n",
      "  Property Metrics (valid):\n",
      "    energy      MAE (Best) / RMSE (Best):  3.37E-02 (3.37E-02) / 4.58E-02 (4.58E-02) eV\n",
      "    forces      MAE (Best) / RMSE (Best):  7.04E-02 (7.04E-02) / 1.02E-01 (1.02E-01) eV/Ang\n",
      "    dipole      MAE (Best) / RMSE (Best):  3.44E-02 (3.44E-02) / 4.75E-02 (4.75E-02) eAng\n",
      "\n"
     ]
    },
    {
     "name": "stdout",
     "output_type": "stream",
     "text": [
      "Epoch   601 |##########################################| 100.0% Done - Epoch Time:  10.3 s, Loss:  0.1733   \r\n",
      "Epoch   602 |##########################################| 100.0% Done - Epoch Time:  9.0 s, Loss:  0.1787   \r\n",
      "Epoch   603 |##########################################| 100.0% Done - Epoch Time:  9.5 s, Loss:  0.1794   \r\n",
      "Epoch   604 |##########################################| 100.0% Done - Epoch Time:  8.8 s, Loss:  0.1778   \r\n",
      "Epoch   605 |##########################################| 100.0% Done - Epoch Time:  13.9 s, Loss:  0.1802   \r\n"
     ]
    },
    {
     "name": "stderr",
     "output_type": "stream",
     "text": [
      "INFO:asparagus.src.train.trainer:INFO:\n",
      "Summary Epoch: 605/1000\n",
      "  Loss   train / valid:  1.80E-01 / 3.01E-01  Best Loss valid: 2.91E-01\n",
      "  Property Metrics (valid):\n",
      "    energy      MAE (Best) / RMSE (Best):  3.64E-02 (3.37E-02) / 4.64E-02 (4.58E-02) eV\n",
      "    forces      MAE (Best) / RMSE (Best):  7.22E-02 (7.04E-02) / 1.04E-01 (1.02E-01) eV/Ang\n",
      "    dipole      MAE (Best) / RMSE (Best):  3.57E-02 (3.44E-02) / 4.86E-02 (4.75E-02) eAng\n",
      "\n"
     ]
    },
    {
     "name": "stdout",
     "output_type": "stream",
     "text": [
      "Epoch   606 |##########################################| 100.0% Done - Epoch Time:  6.1 s, Loss:  0.1888   \r\n",
      "Epoch   607 |##########################################| 100.0% Done - Epoch Time:  6.0 s, Loss:  0.1972   \r\n",
      "Epoch   608 |##########################################| 100.0% Done - Epoch Time:  6.0 s, Loss:  0.1848   \r\n",
      "Epoch   609 |##########################################| 100.0% Done - Epoch Time:  6.5 s, Loss:  0.1727   \r\n",
      "Epoch   610 |##########################################| 100.0% Done - Epoch Time:  7.4 s, Loss:  0.1692   \r\n"
     ]
    },
    {
     "name": "stderr",
     "output_type": "stream",
     "text": [
      "INFO:asparagus.src.train.tester:INFO:\n",
      "Summary for test set:\n",
      "  Property Metrics    MAE,       RMSE\n",
      "   energy           2.49e-02,  3.44e-02 eV\n",
      "   forces           6.84e-02,  1.02e-01 eV/Ang\n",
      "   dipole           3.49e-02,  4.61e-02 eAng\n",
      "\n",
      "INFO:asparagus.src.train.trainer:INFO:\n",
      "Summary Epoch: 610/1000\n",
      "  Loss   train / valid:  1.69E-01 / 2.89E-01  Best Loss valid: 2.89E-01\n",
      "  Property Metrics (valid):\n",
      "    energy      MAE (Best) / RMSE (Best):  2.73E-02 (2.73E-02) / 3.91E-02 (3.91E-02) eV\n",
      "    forces      MAE (Best) / RMSE (Best):  7.03E-02 (7.03E-02) / 1.02E-01 (1.02E-01) eV/Ang\n",
      "    dipole      MAE (Best) / RMSE (Best):  3.41E-02 (3.41E-02) / 4.73E-02 (4.73E-02) eAng\n",
      "\n"
     ]
    },
    {
     "name": "stdout",
     "output_type": "stream",
     "text": [
      "Epoch   611 |##########################################| 100.0% Done - Epoch Time:  7.4 s, Loss:  0.1717   \r\n",
      "Epoch   612 |##########################################| 100.0% Done - Epoch Time:  7.2 s, Loss:  0.1859   \r\n",
      "Epoch   613 |##########################################| 100.0% Done - Epoch Time:  8.5 s, Loss:  0.1789   \r\n",
      "Epoch   614 |##########################################| 100.0% Done - Epoch Time:  5.8 s, Loss:  0.1761   \r\n",
      "Epoch   615 |##########################################| 100.0% Done - Epoch Time:  6.4 s, Loss:  0.1702   \r\n"
     ]
    },
    {
     "name": "stderr",
     "output_type": "stream",
     "text": [
      "INFO:asparagus.src.train.trainer:INFO:\n",
      "Summary Epoch: 615/1000\n",
      "  Loss   train / valid:  1.70E-01 / 2.92E-01  Best Loss valid: 2.89E-01\n",
      "  Property Metrics (valid):\n",
      "    energy      MAE (Best) / RMSE (Best):  3.82E-02 (2.73E-02) / 4.58E-02 (3.91E-02) eV\n",
      "    forces      MAE (Best) / RMSE (Best):  7.15E-02 (7.03E-02) / 1.02E-01 (1.02E-01) eV/Ang\n",
      "    dipole      MAE (Best) / RMSE (Best):  3.43E-02 (3.41E-02) / 4.75E-02 (4.73E-02) eAng\n",
      "\n"
     ]
    },
    {
     "name": "stdout",
     "output_type": "stream",
     "text": [
      "Epoch   616 |##########################################| 100.0% Done - Epoch Time:  5.7 s, Loss:  0.1689   \r\n",
      "Epoch   617 |##########################################| 100.0% Done - Epoch Time:  5.9 s, Loss:  0.1704   \r\n",
      "Epoch   618 |##########################################| 100.0% Done - Epoch Time:  6.0 s, Loss:  0.1661   \r\n",
      "Epoch   619 |##########################################| 100.0% Done - Epoch Time:  6.0 s, Loss:  0.1688   \r\n",
      "Epoch   620 |##########################################| 100.0% Done - Epoch Time:  6.0 s, Loss:  0.1750   \r\n"
     ]
    },
    {
     "name": "stderr",
     "output_type": "stream",
     "text": [
      "INFO:asparagus.src.train.trainer:INFO:\n",
      "Summary Epoch: 620/1000\n",
      "  Loss   train / valid:  1.75E-01 / 2.93E-01  Best Loss valid: 2.89E-01\n",
      "  Property Metrics (valid):\n",
      "    energy      MAE (Best) / RMSE (Best):  3.49E-02 (2.73E-02) / 4.46E-02 (3.91E-02) eV\n",
      "    forces      MAE (Best) / RMSE (Best):  7.10E-02 (7.03E-02) / 1.03E-01 (1.02E-01) eV/Ang\n",
      "    dipole      MAE (Best) / RMSE (Best):  3.49E-02 (3.41E-02) / 4.77E-02 (4.73E-02) eAng\n",
      "\n"
     ]
    },
    {
     "name": "stdout",
     "output_type": "stream",
     "text": [
      "Epoch   621 |##########################################| 100.0% Done - Epoch Time:  6.6 s, Loss:  0.1732   \r\n",
      "Epoch   622 |##########################################| 100.0% Done - Epoch Time:  8.4 s, Loss:  0.1690   \r\n",
      "Epoch   623 |##########################################| 100.0% Done - Epoch Time:  8.0 s, Loss:  0.1677   \r\n",
      "Epoch   624 |##########################################| 100.0% Done - Epoch Time:  8.6 s, Loss:  0.1729   \r\n",
      "Epoch   625 |##########################################| 100.0% Done - Epoch Time:  7.8 s, Loss:  0.1934   \r\n"
     ]
    },
    {
     "name": "stderr",
     "output_type": "stream",
     "text": [
      "INFO:asparagus.src.train.trainer:INFO:\n",
      "Summary Epoch: 625/1000\n",
      "  Loss   train / valid:  1.93E-01 / 2.96E-01  Best Loss valid: 2.89E-01\n",
      "  Property Metrics (valid):\n",
      "    energy      MAE (Best) / RMSE (Best):  3.41E-02 (2.73E-02) / 4.53E-02 (3.91E-02) eV\n",
      "    forces      MAE (Best) / RMSE (Best):  7.14E-02 (7.03E-02) / 1.03E-01 (1.02E-01) eV/Ang\n",
      "    dipole      MAE (Best) / RMSE (Best):  3.42E-02 (3.41E-02) / 4.77E-02 (4.73E-02) eAng\n",
      "\n"
     ]
    },
    {
     "name": "stdout",
     "output_type": "stream",
     "text": [
      "Epoch   626 |##########################################| 100.0% Done - Epoch Time:  7.2 s, Loss:  0.1814   \r\n",
      "Epoch   627 |##########################################| 100.0% Done - Epoch Time:  6.8 s, Loss:  0.1764   \r\n",
      "Epoch   628 |##########################################| 100.0% Done - Epoch Time:  7.0 s, Loss:  0.1627   \r\n",
      "Epoch   629 |##########################################| 100.0% Done - Epoch Time:  9.3 s, Loss:  0.1708   \r\n",
      "Epoch   630 |##########################################| 100.0% Done - Epoch Time:  9.8 s, Loss:  0.1692   \r\n"
     ]
    },
    {
     "name": "stderr",
     "output_type": "stream",
     "text": [
      "INFO:asparagus.src.train.trainer:INFO:\n",
      "Summary Epoch: 630/1000\n",
      "  Loss   train / valid:  1.69E-01 / 2.91E-01  Best Loss valid: 2.89E-01\n",
      "  Property Metrics (valid):\n",
      "    energy      MAE (Best) / RMSE (Best):  3.47E-02 (2.73E-02) / 4.41E-02 (3.91E-02) eV\n",
      "    forces      MAE (Best) / RMSE (Best):  7.07E-02 (7.03E-02) / 1.02E-01 (1.02E-01) eV/Ang\n",
      "    dipole      MAE (Best) / RMSE (Best):  3.56E-02 (3.41E-02) / 4.87E-02 (4.73E-02) eAng\n",
      "\n"
     ]
    },
    {
     "name": "stdout",
     "output_type": "stream",
     "text": [
      "Epoch   631 |##########################################| 100.0% Done - Epoch Time:  9.9 s, Loss:  0.1700   \r\n",
      "Epoch   632 |##########################################| 100.0% Done - Epoch Time:  9.3 s, Loss:  0.1721   \r\n",
      "Epoch   633 |##########################################| 100.0% Done - Epoch Time:  8.9 s, Loss:  0.1743   \r\n",
      "Epoch   634 |##########################################| 100.0% Done - Epoch Time:  6.5 s, Loss:  0.1700   \r\n",
      "Epoch   635 |##########################################| 100.0% Done - Epoch Time:  7.2 s, Loss:  0.1642   \r\n"
     ]
    },
    {
     "name": "stderr",
     "output_type": "stream",
     "text": [
      "INFO:asparagus.src.train.trainer:INFO:\n",
      "Summary Epoch: 635/1000\n",
      "  Loss   train / valid:  1.64E-01 / 2.93E-01  Best Loss valid: 2.89E-01\n",
      "  Property Metrics (valid):\n",
      "    energy      MAE (Best) / RMSE (Best):  2.77E-02 (2.73E-02) / 3.85E-02 (3.91E-02) eV\n",
      "    forces      MAE (Best) / RMSE (Best):  7.09E-02 (7.03E-02) / 1.02E-01 (1.02E-01) eV/Ang\n",
      "    dipole      MAE (Best) / RMSE (Best):  3.69E-02 (3.41E-02) / 4.99E-02 (4.73E-02) eAng\n",
      "\n"
     ]
    },
    {
     "name": "stdout",
     "output_type": "stream",
     "text": [
      "Epoch   636 |##########################################| 100.0% Done - Epoch Time:  11.6 s, Loss:  0.1672   \r\n",
      "Epoch   637 |##########################################| 100.0% Done - Epoch Time:  9.6 s, Loss:  0.1725   \r\n",
      "Epoch   638 |##########################################| 100.0% Done - Epoch Time:  9.4 s, Loss:  0.1782   \r\n",
      "Epoch   639 |##########################################| 100.0% Done - Epoch Time:  10.1 s, Loss:  0.1804   \r\n",
      "Epoch   640 |##########################################| 100.0% Done - Epoch Time:  11.2 s, Loss:  0.1997   \r\n"
     ]
    },
    {
     "name": "stderr",
     "output_type": "stream",
     "text": [
      "INFO:asparagus.src.train.trainer:INFO:\n",
      "Summary Epoch: 640/1000\n",
      "  Loss   train / valid:  2.00E-01 / 3.26E-01  Best Loss valid: 2.89E-01\n",
      "  Property Metrics (valid):\n",
      "    energy      MAE (Best) / RMSE (Best):  4.47E-02 (2.73E-02) / 5.79E-02 (3.91E-02) eV\n",
      "    forces      MAE (Best) / RMSE (Best):  7.70E-02 (7.03E-02) / 1.08E-01 (1.02E-01) eV/Ang\n",
      "    dipole      MAE (Best) / RMSE (Best):  3.68E-02 (3.41E-02) / 4.98E-02 (4.73E-02) eAng\n",
      "\n"
     ]
    },
    {
     "name": "stdout",
     "output_type": "stream",
     "text": [
      "Epoch   641 |##########################################| 100.0% Done - Epoch Time:  12.4 s, Loss:  0.1893   \r\n",
      "Epoch   642 |##########################################| 100.0% Done - Epoch Time:  12.1 s, Loss:  0.1800   \r\n",
      "Epoch   643 |##########################################| 100.0% Done - Epoch Time:  10.2 s, Loss:  0.1779   \r\n",
      "Epoch   644 |##########################################| 100.0% Done - Epoch Time:  10.3 s, Loss:  0.1728   \r\n",
      "Epoch   645 |##########################################| 100.0% Done - Epoch Time:  12.6 s, Loss:  0.1750   \r\n"
     ]
    },
    {
     "name": "stderr",
     "output_type": "stream",
     "text": [
      "INFO:asparagus.src.train.trainer:INFO:\n",
      "Summary Epoch: 645/1000\n",
      "  Loss   train / valid:  1.75E-01 / 2.94E-01  Best Loss valid: 2.89E-01\n",
      "  Property Metrics (valid):\n",
      "    energy      MAE (Best) / RMSE (Best):  2.83E-02 (2.73E-02) / 3.79E-02 (3.91E-02) eV\n",
      "    forces      MAE (Best) / RMSE (Best):  7.13E-02 (7.03E-02) / 1.03E-01 (1.02E-01) eV/Ang\n",
      "    dipole      MAE (Best) / RMSE (Best):  3.47E-02 (3.41E-02) / 4.81E-02 (4.73E-02) eAng\n",
      "\n"
     ]
    },
    {
     "name": "stdout",
     "output_type": "stream",
     "text": [
      "Epoch   646 |##########################################| 100.0% Done - Epoch Time:  6.1 s, Loss:  0.1628   \r\n",
      "Epoch   647 |##########################################| 100.0% Done - Epoch Time:  5.9 s, Loss:  0.1634   \r\n",
      "Epoch   648 |##########################################| 100.0% Done - Epoch Time:  6.5 s, Loss:  0.1682   \r\n",
      "Epoch   649 |##########################################| 100.0% Done - Epoch Time:  7.1 s, Loss:  0.1696   \r\n",
      "Epoch   650 |##########################################| 100.0% Done - Epoch Time:  7.3 s, Loss:  0.1644   \r\n"
     ]
    },
    {
     "name": "stderr",
     "output_type": "stream",
     "text": [
      "INFO:asparagus.src.train.trainer:INFO:\n",
      "Summary Epoch: 650/1000\n",
      "  Loss   train / valid:  1.64E-01 / 2.98E-01  Best Loss valid: 2.89E-01\n",
      "  Property Metrics (valid):\n",
      "    energy      MAE (Best) / RMSE (Best):  3.59E-02 (2.73E-02) / 4.70E-02 (3.91E-02) eV\n",
      "    forces      MAE (Best) / RMSE (Best):  7.24E-02 (7.03E-02) / 1.04E-01 (1.02E-01) eV/Ang\n",
      "    dipole      MAE (Best) / RMSE (Best):  3.46E-02 (3.41E-02) / 4.78E-02 (4.73E-02) eAng\n",
      "\n"
     ]
    },
    {
     "name": "stdout",
     "output_type": "stream",
     "text": [
      "Epoch   651 |##########################################| 100.0% Done - Epoch Time:  7.4 s, Loss:  0.1666   \r\n",
      "Epoch   652 |##########################################| 100.0% Done - Epoch Time:  7.9 s, Loss:  0.1633   \r\n",
      "Epoch   653 |##########################################| 100.0% Done - Epoch Time:  6.0 s, Loss:  0.1627   \r\n",
      "Epoch   654 |##########################################| 100.0% Done - Epoch Time:  6.1 s, Loss:  0.1631   \r\n",
      "Epoch   655 |##########################################| 100.0% Done - Epoch Time:  6.0 s, Loss:  0.1593   \r\n"
     ]
    },
    {
     "name": "stderr",
     "output_type": "stream",
     "text": [
      "INFO:asparagus.src.train.trainer:INFO:\n",
      "Summary Epoch: 655/1000\n",
      "  Loss   train / valid:  1.59E-01 / 2.99E-01  Best Loss valid: 2.89E-01\n",
      "  Property Metrics (valid):\n",
      "    energy      MAE (Best) / RMSE (Best):  3.41E-02 (2.73E-02) / 4.52E-02 (3.91E-02) eV\n",
      "    forces      MAE (Best) / RMSE (Best):  7.18E-02 (7.03E-02) / 1.04E-01 (1.02E-01) eV/Ang\n",
      "    dipole      MAE (Best) / RMSE (Best):  3.45E-02 (3.41E-02) / 4.81E-02 (4.73E-02) eAng\n",
      "\n"
     ]
    },
    {
     "name": "stdout",
     "output_type": "stream",
     "text": [
      "Epoch   656 |##########################################| 100.0% Done - Epoch Time:  5.8 s, Loss:  0.1637   \r\n",
      "Epoch   657 |##########################################| 100.0% Done - Epoch Time:  6.1 s, Loss:  0.1634   \r\n",
      "Epoch   658 |##########################################| 100.0% Done - Epoch Time:  6.0 s, Loss:  0.1663   \r\n",
      "Epoch   659 |##########################################| 100.0% Done - Epoch Time:  6.1 s, Loss:  0.1612   \r\n",
      "Epoch   660 |##########################################| 100.0% Done - Epoch Time:  6.0 s, Loss:  0.1639   \r\n"
     ]
    },
    {
     "name": "stderr",
     "output_type": "stream",
     "text": [
      "INFO:asparagus.src.train.tester:INFO:\n",
      "Summary for test set:\n",
      "  Property Metrics    MAE,       RMSE\n",
      "   energy           3.65e-02,  4.44e-02 eV\n",
      "   forces           6.76e-02,  1.01e-01 eV/Ang\n",
      "   dipole           3.37e-02,  4.47e-02 eAng\n",
      "\n",
      "INFO:asparagus.src.train.trainer:INFO:\n",
      "Summary Epoch: 660/1000\n",
      "  Loss   train / valid:  1.64E-01 / 2.86E-01  Best Loss valid: 2.86E-01\n",
      "  Property Metrics (valid):\n",
      "    energy      MAE (Best) / RMSE (Best):  3.76E-02 (3.76E-02) / 4.90E-02 (4.90E-02) eV\n",
      "    forces      MAE (Best) / RMSE (Best):  6.99E-02 (6.99E-02) / 1.01E-01 (1.01E-01) eV/Ang\n",
      "    dipole      MAE (Best) / RMSE (Best):  3.38E-02 (3.38E-02) / 4.69E-02 (4.69E-02) eAng\n",
      "\n"
     ]
    },
    {
     "name": "stdout",
     "output_type": "stream",
     "text": [
      "Epoch   661 |##########################################| 100.0% Done - Epoch Time:  9.0 s, Loss:  0.1729   \r\n",
      "Epoch   662 |##########################################| 100.0% Done - Epoch Time:  7.9 s, Loss:  0.1698   \r\n",
      "Epoch   663 |##########################################| 100.0% Done - Epoch Time:  7.5 s, Loss:  0.1610   \r\n",
      "Epoch   664 |##########################################| 100.0% Done - Epoch Time:  7.8 s, Loss:  0.1592   \r\n",
      "Epoch   665 |##########################################| 100.0% Done - Epoch Time:  7.1 s, Loss:  0.1619   \r\n"
     ]
    },
    {
     "name": "stderr",
     "output_type": "stream",
     "text": [
      "INFO:asparagus.src.train.tester:INFO:\n",
      "Summary for test set:\n",
      "  Property Metrics    MAE,       RMSE\n",
      "   energy           2.46e-02,  3.34e-02 eV\n",
      "   forces           6.79e-02,  1.01e-01 eV/Ang\n",
      "   dipole           3.44e-02,  4.54e-02 eAng\n",
      "\n",
      "INFO:asparagus.src.train.trainer:INFO:\n",
      "Summary Epoch: 665/1000\n",
      "  Loss   train / valid:  1.62E-01 / 2.85E-01  Best Loss valid: 2.85E-01\n",
      "  Property Metrics (valid):\n",
      "    energy      MAE (Best) / RMSE (Best):  2.61E-02 (2.61E-02) / 3.89E-02 (3.89E-02) eV\n",
      "    forces      MAE (Best) / RMSE (Best):  7.04E-02 (7.04E-02) / 1.01E-01 (1.01E-01) eV/Ang\n",
      "    dipole      MAE (Best) / RMSE (Best):  3.48E-02 (3.48E-02) / 4.79E-02 (4.79E-02) eAng\n",
      "\n"
     ]
    },
    {
     "name": "stdout",
     "output_type": "stream",
     "text": [
      "Epoch   666 |##########################################| 100.0% Done - Epoch Time:  7.0 s, Loss:  0.1652   \r\n",
      "Epoch   667 |##########################################| 100.0% Done - Epoch Time:  6.5 s, Loss:  0.1689   \r\n",
      "Epoch   668 |##########################################| 100.0% Done - Epoch Time:  8.0 s, Loss:  0.1769   \r\n",
      "Epoch   669 |##########################################| 100.0% Done - Epoch Time:  9.3 s, Loss:  0.1657   \r\n",
      "Epoch   670 |##########################################| 100.0% Done - Epoch Time:  8.7 s, Loss:  0.1589   \r\n"
     ]
    },
    {
     "name": "stderr",
     "output_type": "stream",
     "text": [
      "INFO:asparagus.src.train.tester:INFO:\n",
      "Summary for test set:\n",
      "  Property Metrics    MAE,       RMSE\n",
      "   energy           3.23e-02,  4.30e-02 eV\n",
      "   forces           6.78e-02,  1.01e-01 eV/Ang\n",
      "   dipole           3.63e-02,  4.77e-02 eAng\n",
      "\n",
      "INFO:asparagus.src.train.trainer:INFO:\n",
      "Summary Epoch: 670/1000\n",
      "  Loss   train / valid:  1.59E-01 / 2.84E-01  Best Loss valid: 2.84E-01\n",
      "  Property Metrics (valid):\n",
      "    energy      MAE (Best) / RMSE (Best):  3.43E-02 (3.43E-02) / 4.67E-02 (4.67E-02) eV\n",
      "    forces      MAE (Best) / RMSE (Best):  6.92E-02 (6.92E-02) / 1.01E-01 (1.01E-01) eV/Ang\n",
      "    dipole      MAE (Best) / RMSE (Best):  3.59E-02 (3.59E-02) / 4.87E-02 (4.87E-02) eAng\n",
      "\n"
     ]
    },
    {
     "name": "stdout",
     "output_type": "stream",
     "text": [
      "Epoch   671 |##########################################| 100.0% Done - Epoch Time:  10.0 s, Loss:  0.1583   \r\n",
      "Epoch   672 |##########################################| 100.0% Done - Epoch Time:  9.1 s, Loss:  0.1521   \r\n",
      "Epoch   673 |##########################################| 100.0% Done - Epoch Time:  6.6 s, Loss:  0.1614   \r\n",
      "Epoch   674 |##########################################| 100.0% Done - Epoch Time:  9.0 s, Loss:  0.1651   \r\n",
      "Epoch   675 |##########################################| 100.0% Done - Epoch Time:  13.8 s, Loss:  0.1629   \r\n"
     ]
    },
    {
     "name": "stderr",
     "output_type": "stream",
     "text": [
      "INFO:asparagus.src.train.trainer:INFO:\n",
      "Summary Epoch: 675/1000\n",
      "  Loss   train / valid:  1.63E-01 / 3.11E-01  Best Loss valid: 2.84E-01\n",
      "  Property Metrics (valid):\n",
      "    energy      MAE (Best) / RMSE (Best):  4.84E-02 (3.43E-02) / 5.90E-02 (4.67E-02) eV\n",
      "    forces      MAE (Best) / RMSE (Best):  7.34E-02 (6.92E-02) / 1.06E-01 (1.01E-01) eV/Ang\n",
      "    dipole      MAE (Best) / RMSE (Best):  3.42E-02 (3.59E-02) / 4.71E-02 (4.87E-02) eAng\n",
      "\n"
     ]
    },
    {
     "name": "stdout",
     "output_type": "stream",
     "text": [
      "Epoch   676 |##########################################| 100.0% Done - Epoch Time:  13.9 s, Loss:  0.1650   \r\n",
      "Epoch   677 |##########################################| 100.0% Done - Epoch Time:  9.3 s, Loss:  0.1588   \r\n",
      "Epoch   678 |##########################################| 100.0% Done - Epoch Time:  10.5 s, Loss:  0.1538   \r\n",
      "Epoch   679 |##########################################| 100.0% Done - Epoch Time:  10.4 s, Loss:  0.1562   \r\n",
      "Epoch   680 |##########################################| 100.0% Done - Epoch Time:  10.0 s, Loss:  0.1585   \r\n"
     ]
    },
    {
     "name": "stderr",
     "output_type": "stream",
     "text": [
      "INFO:asparagus.src.train.trainer:INFO:\n",
      "Summary Epoch: 680/1000\n",
      "  Loss   train / valid:  1.58E-01 / 2.87E-01  Best Loss valid: 2.84E-01\n",
      "  Property Metrics (valid):\n",
      "    energy      MAE (Best) / RMSE (Best):  3.72E-02 (3.43E-02) / 4.67E-02 (4.67E-02) eV\n",
      "    forces      MAE (Best) / RMSE (Best):  6.95E-02 (6.92E-02) / 1.02E-01 (1.01E-01) eV/Ang\n",
      "    dipole      MAE (Best) / RMSE (Best):  3.38E-02 (3.59E-02) / 4.71E-02 (4.87E-02) eAng\n",
      "\n"
     ]
    },
    {
     "name": "stdout",
     "output_type": "stream",
     "text": [
      "Epoch   681 |##########################################| 100.0% Done - Epoch Time:  10.0 s, Loss:  0.1563   \r\n",
      "Epoch   682 |##########################################| 100.0% Done - Epoch Time:  9.1 s, Loss:  0.1558   \r\n",
      "Epoch   683 |##########################################| 100.0% Done - Epoch Time:  11.0 s, Loss:  0.1561   \r\n",
      "Epoch   684 |##########################################| 100.0% Done - Epoch Time:  11.2 s, Loss:  0.1618   \r\n",
      "Epoch   685 |##########################################| 100.0% Done - Epoch Time:  6.0 s, Loss:  0.1626   \r\n"
     ]
    },
    {
     "name": "stderr",
     "output_type": "stream",
     "text": [
      "INFO:asparagus.src.train.trainer:INFO:\n",
      "Summary Epoch: 685/1000\n",
      "  Loss   train / valid:  1.63E-01 / 2.88E-01  Best Loss valid: 2.84E-01\n",
      "  Property Metrics (valid):\n",
      "    energy      MAE (Best) / RMSE (Best):  4.90E-02 (3.43E-02) / 5.82E-02 (4.67E-02) eV\n",
      "    forces      MAE (Best) / RMSE (Best):  6.98E-02 (6.92E-02) / 1.02E-01 (1.01E-01) eV/Ang\n",
      "    dipole      MAE (Best) / RMSE (Best):  3.32E-02 (3.59E-02) / 4.61E-02 (4.87E-02) eAng\n",
      "\n"
     ]
    },
    {
     "name": "stdout",
     "output_type": "stream",
     "text": [
      "Epoch   686 |##########################################| 100.0% Done - Epoch Time:  14.3 s, Loss:  0.1604   \r\n",
      "Epoch   687 |##########################################| 100.0% Done - Epoch Time:  7.4 s, Loss:  0.1593   \r\n",
      "Epoch   688 |##########################################| 100.0% Done - Epoch Time:  7.4 s, Loss:  0.1555   \r\n",
      "Epoch   689 |##########################################| 100.0% Done - Epoch Time:  7.2 s, Loss:  0.1576   \r\n",
      "Epoch   690 |##########################################| 100.0% Done - Epoch Time:  7.1 s, Loss:  0.1603   \r\n"
     ]
    },
    {
     "name": "stderr",
     "output_type": "stream",
     "text": [
      "INFO:asparagus.src.train.trainer:INFO:\n",
      "Summary Epoch: 690/1000\n",
      "  Loss   train / valid:  1.60E-01 / 2.84E-01  Best Loss valid: 2.84E-01\n",
      "  Property Metrics (valid):\n",
      "    energy      MAE (Best) / RMSE (Best):  3.26E-02 (3.43E-02) / 4.09E-02 (4.67E-02) eV\n",
      "    forces      MAE (Best) / RMSE (Best):  6.97E-02 (6.92E-02) / 1.01E-01 (1.01E-01) eV/Ang\n",
      "    dipole      MAE (Best) / RMSE (Best):  3.38E-02 (3.59E-02) / 4.68E-02 (4.87E-02) eAng\n",
      "\n"
     ]
    },
    {
     "name": "stdout",
     "output_type": "stream",
     "text": [
      "Epoch   691 |##########################################| 100.0% Done - Epoch Time:  6.6 s, Loss:  0.1525   \r\n",
      "Epoch   692 |##########################################| 100.0% Done - Epoch Time:  5.8 s, Loss:  0.1524   \r\n",
      "Epoch   693 |##########################################| 100.0% Done - Epoch Time:  5.9 s, Loss:  0.1643   \r\n",
      "Epoch   694 |##########################################| 100.0% Done - Epoch Time:  5.7 s, Loss:  0.1611   \r\n",
      "Epoch   695 |##########################################| 100.0% Done - Epoch Time:  6.5 s, Loss:  0.1588   \r\n"
     ]
    },
    {
     "name": "stderr",
     "output_type": "stream",
     "text": [
      "INFO:asparagus.src.train.tester:INFO:\n",
      "Summary for test set:\n",
      "  Property Metrics    MAE,       RMSE\n",
      "   energy           4.84e-02,  5.68e-02 eV\n",
      "   forces           6.73e-02,  1.00e-01 eV/Ang\n",
      "   dipole           3.35e-02,  4.45e-02 eAng\n",
      "\n",
      "INFO:asparagus.src.train.trainer:INFO:\n",
      "Summary Epoch: 695/1000\n",
      "  Loss   train / valid:  1.59E-01 / 2.84E-01  Best Loss valid: 2.84E-01\n",
      "  Property Metrics (valid):\n",
      "    energy      MAE (Best) / RMSE (Best):  4.98E-02 (4.98E-02) / 5.98E-02 (5.98E-02) eV\n",
      "    forces      MAE (Best) / RMSE (Best):  6.98E-02 (6.98E-02) / 1.01E-01 (1.01E-01) eV/Ang\n",
      "    dipole      MAE (Best) / RMSE (Best):  3.28E-02 (3.28E-02) / 4.58E-02 (4.58E-02) eAng\n",
      "\n"
     ]
    },
    {
     "name": "stdout",
     "output_type": "stream",
     "text": [
      "Epoch   696 |##########################################| 100.0% Done - Epoch Time:  5.9 s, Loss:  0.1583   \r\n",
      "Epoch   697 |##########################################| 100.0% Done - Epoch Time:  5.9 s, Loss:  0.1574   \r\n",
      "Epoch   698 |##########################################| 100.0% Done - Epoch Time:  5.9 s, Loss:  0.1556   \r\n",
      "Epoch   699 |##########################################| 100.0% Done - Epoch Time:  5.6 s, Loss:  0.1676   \r\n",
      "Epoch   700 |##########################################| 100.0% Done - Epoch Time:  6.2 s, Loss:  0.1608   \r\n"
     ]
    },
    {
     "name": "stderr",
     "output_type": "stream",
     "text": [
      "INFO:asparagus.src.train.tester:INFO:\n",
      "Summary for test set:\n",
      "  Property Metrics    MAE,       RMSE\n",
      "   energy           3.00e-02,  3.76e-02 eV\n",
      "   forces           6.66e-02,  9.97e-02 eV/Ang\n",
      "   dipole           3.38e-02,  4.47e-02 eAng\n",
      "\n",
      "INFO:asparagus.src.train.trainer:INFO:\n",
      "Summary Epoch: 700/1000\n",
      "  Loss   train / valid:  1.61E-01 / 2.81E-01  Best Loss valid: 2.81E-01\n",
      "  Property Metrics (valid):\n",
      "    energy      MAE (Best) / RMSE (Best):  3.18E-02 (3.18E-02) / 4.05E-02 (4.05E-02) eV\n",
      "    forces      MAE (Best) / RMSE (Best):  6.86E-02 (6.86E-02) / 1.00E-01 (1.00E-01) eV/Ang\n",
      "    dipole      MAE (Best) / RMSE (Best):  3.45E-02 (3.45E-02) / 4.78E-02 (4.78E-02) eAng\n",
      "\n"
     ]
    },
    {
     "name": "stdout",
     "output_type": "stream",
     "text": [
      "Epoch   701 |##########################################| 100.0% Done - Epoch Time:  7.6 s, Loss:  0.1559   \r\n",
      "Epoch   702 |##########################################| 100.0% Done - Epoch Time:  8.1 s, Loss:  0.1544   \r\n",
      "Epoch   703 |##########################################| 100.0% Done - Epoch Time:  7.7 s, Loss:  0.1517   \r\n",
      "Epoch   704 |##########################################| 100.0% Done - Epoch Time:  8.4 s, Loss:  0.1520   \r\n",
      "Epoch   705 |##########################################| 100.0% Done - Epoch Time:  6.8 s, Loss:  0.1564   \r\n"
     ]
    },
    {
     "name": "stderr",
     "output_type": "stream",
     "text": [
      "INFO:asparagus.src.train.trainer:INFO:\n",
      "Summary Epoch: 705/1000\n",
      "  Loss   train / valid:  1.56E-01 / 2.82E-01  Best Loss valid: 2.81E-01\n",
      "  Property Metrics (valid):\n",
      "    energy      MAE (Best) / RMSE (Best):  2.64E-02 (3.18E-02) / 3.78E-02 (4.05E-02) eV\n",
      "    forces      MAE (Best) / RMSE (Best):  6.90E-02 (6.86E-02) / 1.01E-01 (1.00E-01) eV/Ang\n",
      "    dipole      MAE (Best) / RMSE (Best):  3.32E-02 (3.45E-02) / 4.60E-02 (4.78E-02) eAng\n",
      "\n"
     ]
    },
    {
     "name": "stdout",
     "output_type": "stream",
     "text": [
      "Epoch   706 |##########################################| 100.0% Done - Epoch Time:  6.7 s, Loss:  0.1540   \r\n",
      "Epoch   707 |##########################################| 100.0% Done - Epoch Time:  6.9 s, Loss:  0.1586   \r\n",
      "Epoch   708 |##########################################| 100.0% Done - Epoch Time:  9.0 s, Loss:  0.1617   \r\n",
      "Epoch   709 |##########################################| 100.0% Done - Epoch Time:  9.5 s, Loss:  0.1622   \r\n",
      "Epoch   710 |##########################################| 100.0% Done - Epoch Time:  8.3 s, Loss:  0.1577   \r\n"
     ]
    },
    {
     "name": "stderr",
     "output_type": "stream",
     "text": [
      "INFO:asparagus.src.train.trainer:INFO:\n",
      "Summary Epoch: 710/1000\n",
      "  Loss   train / valid:  1.58E-01 / 2.82E-01  Best Loss valid: 2.81E-01\n",
      "  Property Metrics (valid):\n",
      "    energy      MAE (Best) / RMSE (Best):  2.74E-02 (3.18E-02) / 3.91E-02 (4.05E-02) eV\n",
      "    forces      MAE (Best) / RMSE (Best):  6.94E-02 (6.86E-02) / 1.01E-01 (1.00E-01) eV/Ang\n",
      "    dipole      MAE (Best) / RMSE (Best):  3.33E-02 (3.45E-02) / 4.62E-02 (4.78E-02) eAng\n",
      "\n"
     ]
    },
    {
     "name": "stdout",
     "output_type": "stream",
     "text": [
      "Epoch   711 |##########################################| 100.0% Done - Epoch Time:  9.7 s, Loss:  0.1562   \r\n",
      "Epoch   712 |##########################################| 100.0% Done - Epoch Time:  8.3 s, Loss:  0.1578   \r\n",
      "Epoch   713 |##########################################| 100.0% Done - Epoch Time:  6.7 s, Loss:  0.1593   \r\n",
      "Epoch   714 |##########################################| 100.0% Done - Epoch Time:  8.0 s, Loss:  0.1548   \r\n",
      "Epoch   715 |##########################################| 100.0% Done - Epoch Time:  11.6 s, Loss:  0.1531   \r\n"
     ]
    },
    {
     "name": "stderr",
     "output_type": "stream",
     "text": [
      "INFO:asparagus.src.train.tester:INFO:\n",
      "Summary for test set:\n",
      "  Property Metrics    MAE,       RMSE\n",
      "   energy           2.89e-02,  3.68e-02 eV\n",
      "   forces           6.69e-02,  1.00e-01 eV/Ang\n",
      "   dipole           3.42e-02,  4.53e-02 eAng\n",
      "\n",
      "INFO:asparagus.src.train.trainer:INFO:\n",
      "Summary Epoch: 715/1000\n",
      "  Loss   train / valid:  1.53E-01 / 2.75E-01  Best Loss valid: 2.75E-01\n",
      "  Property Metrics (valid):\n",
      "    energy      MAE (Best) / RMSE (Best):  2.90E-02 (2.90E-02) / 3.85E-02 (3.85E-02) eV\n",
      "    forces      MAE (Best) / RMSE (Best):  6.86E-02 (6.86E-02) / 9.96E-02 (9.96E-02) eV/Ang\n",
      "    dipole      MAE (Best) / RMSE (Best):  3.33E-02 (3.33E-02) / 4.60E-02 (4.60E-02) eAng\n",
      "\n"
     ]
    },
    {
     "name": "stdout",
     "output_type": "stream",
     "text": [
      "Epoch   716 |##########################################| 100.0% Done - Epoch Time:  9.9 s, Loss:  0.1500   \r\n",
      "Epoch   717 |##########################################| 100.0% Done - Epoch Time:  10.0 s, Loss:  0.1540   \r\n",
      "Epoch   718 |##########################################| 100.0% Done - Epoch Time:  9.5 s, Loss:  0.1574   \r\n",
      "Epoch   719 |##########################################| 100.0% Done - Epoch Time:  9.3 s, Loss:  0.1618   \r\n",
      "Epoch   720 |##########################################| 100.0% Done - Epoch Time:  8.2 s, Loss:  0.1632   \r\n"
     ]
    },
    {
     "name": "stderr",
     "output_type": "stream",
     "text": [
      "INFO:asparagus.src.train.trainer:INFO:\n",
      "Summary Epoch: 720/1000\n",
      "  Loss   train / valid:  1.63E-01 / 2.96E-01  Best Loss valid: 2.75E-01\n",
      "  Property Metrics (valid):\n",
      "    energy      MAE (Best) / RMSE (Best):  3.66E-02 (2.90E-02) / 4.68E-02 (3.85E-02) eV\n",
      "    forces      MAE (Best) / RMSE (Best):  7.15E-02 (6.86E-02) / 1.03E-01 (9.96E-02) eV/Ang\n",
      "    dipole      MAE (Best) / RMSE (Best):  3.56E-02 (3.33E-02) / 4.81E-02 (4.60E-02) eAng\n",
      "\n"
     ]
    },
    {
     "name": "stdout",
     "output_type": "stream",
     "text": [
      "Epoch   721 |##########################################| 100.0% Done - Epoch Time:  10.0 s, Loss:  0.1635   \r\n",
      "Epoch   722 |##########################################| 100.0% Done - Epoch Time:  9.8 s, Loss:  0.1572   \r\n",
      "Epoch   723 |##########################################| 100.0% Done - Epoch Time:  10.1 s, Loss:  0.1535   \r\n",
      "Epoch   724 |##########################################| 100.0% Done - Epoch Time:  9.4 s, Loss:  0.1508   \r\n",
      "Epoch   725 |##########################################| 100.0% Done - Epoch Time:  13.1 s, Loss:  0.1544   \r\n"
     ]
    },
    {
     "name": "stderr",
     "output_type": "stream",
     "text": [
      "INFO:asparagus.src.train.trainer:INFO:\n",
      "Summary Epoch: 725/1000\n",
      "  Loss   train / valid:  1.54E-01 / 2.86E-01  Best Loss valid: 2.75E-01\n",
      "  Property Metrics (valid):\n",
      "    energy      MAE (Best) / RMSE (Best):  3.36E-02 (2.90E-02) / 4.23E-02 (3.85E-02) eV\n",
      "    forces      MAE (Best) / RMSE (Best):  7.02E-02 (6.86E-02) / 1.02E-01 (9.96E-02) eV/Ang\n",
      "    dipole      MAE (Best) / RMSE (Best):  3.31E-02 (3.33E-02) / 4.59E-02 (4.60E-02) eAng\n",
      "\n"
     ]
    },
    {
     "name": "stdout",
     "output_type": "stream",
     "text": [
      "Epoch   726 |##########################################| 100.0% Done - Epoch Time:  6.4 s, Loss:  0.1533   \r\n",
      "Epoch   727 |##########################################| 100.0% Done - Epoch Time:  6.2 s, Loss:  0.1493   \r\n",
      "Epoch   728 |##########################################| 100.0% Done - Epoch Time:  7.1 s, Loss:  0.1496   \r\n",
      "Epoch   729 |##########################################| 100.0% Done - Epoch Time:  7.4 s, Loss:  0.1464   \r\n",
      "Epoch   730 |##########################################| 100.0% Done - Epoch Time:  7.7 s, Loss:  0.1456   \r\n"
     ]
    },
    {
     "name": "stderr",
     "output_type": "stream",
     "text": [
      "INFO:asparagus.src.train.trainer:INFO:\n",
      "Summary Epoch: 730/1000\n",
      "  Loss   train / valid:  1.46E-01 / 2.81E-01  Best Loss valid: 2.75E-01\n",
      "  Property Metrics (valid):\n",
      "    energy      MAE (Best) / RMSE (Best):  3.49E-02 (2.90E-02) / 4.33E-02 (3.85E-02) eV\n",
      "    forces      MAE (Best) / RMSE (Best):  6.92E-02 (6.86E-02) / 1.00E-01 (9.96E-02) eV/Ang\n",
      "    dipole      MAE (Best) / RMSE (Best):  3.53E-02 (3.33E-02) / 4.85E-02 (4.60E-02) eAng\n",
      "\n"
     ]
    },
    {
     "name": "stdout",
     "output_type": "stream",
     "text": [
      "Epoch   731 |##########################################| 100.0% Done - Epoch Time:  7.9 s, Loss:  0.1519   \r\n",
      "Epoch   732 |##########################################| 100.0% Done - Epoch Time:  6.4 s, Loss:  0.1521   \r\n",
      "Epoch   733 |##########################################| 100.0% Done - Epoch Time:  6.2 s, Loss:  0.1486   \r\n",
      "Epoch   734 |##########################################| 100.0% Done - Epoch Time:  6.2 s, Loss:  0.1507   \r\n",
      "Epoch   735 |##########################################| 100.0% Done - Epoch Time:  6.0 s, Loss:  0.1473   \r\n"
     ]
    },
    {
     "name": "stderr",
     "output_type": "stream",
     "text": [
      "INFO:asparagus.src.train.trainer:INFO:\n",
      "Summary Epoch: 735/1000\n",
      "  Loss   train / valid:  1.47E-01 / 2.76E-01  Best Loss valid: 2.75E-01\n",
      "  Property Metrics (valid):\n",
      "    energy      MAE (Best) / RMSE (Best):  2.66E-02 (2.90E-02) / 3.67E-02 (3.85E-02) eV\n",
      "    forces      MAE (Best) / RMSE (Best):  6.81E-02 (6.86E-02) / 9.98E-02 (9.96E-02) eV/Ang\n",
      "    dipole      MAE (Best) / RMSE (Best):  3.35E-02 (3.33E-02) / 4.62E-02 (4.60E-02) eAng\n",
      "\n"
     ]
    },
    {
     "name": "stdout",
     "output_type": "stream",
     "text": [
      "Epoch   736 |##########################################| 100.0% Done - Epoch Time:  6.8 s, Loss:  0.1459   \r\n",
      "Epoch   737 |##########################################| 100.0% Done - Epoch Time:  6.4 s, Loss:  0.1460   \r\n",
      "Epoch   738 |##########################################| 100.0% Done - Epoch Time:  6.9 s, Loss:  0.1491   \r\n",
      "Epoch   739 |##########################################| 100.0% Done - Epoch Time:  6.6 s, Loss:  0.1471   \r\n",
      "Epoch   740 |##########################################| 100.0% Done - Epoch Time:  8.6 s, Loss:  0.1414   \r\n"
     ]
    },
    {
     "name": "stderr",
     "output_type": "stream",
     "text": [
      "INFO:asparagus.src.train.trainer:INFO:\n",
      "Summary Epoch: 740/1000\n",
      "  Loss   train / valid:  1.41E-01 / 2.83E-01  Best Loss valid: 2.75E-01\n",
      "  Property Metrics (valid):\n",
      "    energy      MAE (Best) / RMSE (Best):  3.18E-02 (2.90E-02) / 4.42E-02 (3.85E-02) eV\n",
      "    forces      MAE (Best) / RMSE (Best):  6.97E-02 (6.86E-02) / 1.01E-01 (9.96E-02) eV/Ang\n",
      "    dipole      MAE (Best) / RMSE (Best):  3.34E-02 (3.33E-02) / 4.62E-02 (4.60E-02) eAng\n",
      "\n"
     ]
    },
    {
     "name": "stdout",
     "output_type": "stream",
     "text": [
      "Epoch   741 |##########################################| 100.0% Done - Epoch Time:  8.2 s, Loss:  0.1478   \r\n",
      "Epoch   742 |##########################################| 100.0% Done - Epoch Time:  8.3 s, Loss:  0.1512   \r\n",
      "Epoch   743 |##########################################| 100.0% Done - Epoch Time:  8.1 s, Loss:  0.1548   \r\n",
      "Epoch   744 |##########################################| 100.0% Done - Epoch Time:  10.2 s, Loss:  0.1694   \r\n",
      "Epoch   745 |##########################################| 100.0% Done - Epoch Time:  8.0 s, Loss:  0.1633   \r\n"
     ]
    },
    {
     "name": "stderr",
     "output_type": "stream",
     "text": [
      "INFO:asparagus.src.train.trainer:INFO:\n",
      "Summary Epoch: 745/1000\n",
      "  Loss   train / valid:  1.63E-01 / 2.87E-01  Best Loss valid: 2.75E-01\n",
      "  Property Metrics (valid):\n",
      "    energy      MAE (Best) / RMSE (Best):  4.71E-02 (2.90E-02) / 5.61E-02 (3.85E-02) eV\n",
      "    forces      MAE (Best) / RMSE (Best):  7.01E-02 (6.86E-02) / 1.02E-01 (9.96E-02) eV/Ang\n",
      "    dipole      MAE (Best) / RMSE (Best):  3.44E-02 (3.33E-02) / 4.66E-02 (4.60E-02) eAng\n",
      "\n"
     ]
    },
    {
     "name": "stdout",
     "output_type": "stream",
     "text": [
      "Epoch   746 |##########################################| 100.0% Done - Epoch Time:  7.2 s, Loss:  0.1494   \r\n",
      "Epoch   747 |##########################################| 100.0% Done - Epoch Time:  7.5 s, Loss:  0.1455   \r\n",
      "Epoch   748 |##########################################| 100.0% Done - Epoch Time:  10.9 s, Loss:  0.1488   \r\n",
      "Epoch   749 |##########################################| 100.0% Done - Epoch Time:  9.2 s, Loss:  0.1495   \r\n",
      "Epoch   750 |##########################################| 100.0% Done - Epoch Time:  8.6 s, Loss:  0.1462   \r\n"
     ]
    },
    {
     "name": "stderr",
     "output_type": "stream",
     "text": [
      "INFO:asparagus.src.train.tester:INFO:\n",
      "Summary for test set:\n",
      "  Property Metrics    MAE,       RMSE\n",
      "   energy           4.19e-02,  4.92e-02 eV\n",
      "   forces           6.43e-02,  9.68e-02 eV/Ang\n",
      "   dipole           3.25e-02,  4.34e-02 eAng\n",
      "\n",
      "INFO:asparagus.src.train.trainer:INFO:\n",
      "Summary Epoch: 750/1000\n",
      "  Loss   train / valid:  1.46E-01 / 2.63E-01  Best Loss valid: 2.63E-01\n",
      "  Property Metrics (valid):\n",
      "    energy      MAE (Best) / RMSE (Best):  4.32E-02 (4.32E-02) / 5.13E-02 (5.13E-02) eV\n",
      "    forces      MAE (Best) / RMSE (Best):  6.65E-02 (6.65E-02) / 9.72E-02 (9.72E-02) eV/Ang\n",
      "    dipole      MAE (Best) / RMSE (Best):  3.24E-02 (3.24E-02) / 4.54E-02 (4.54E-02) eAng\n",
      "\n"
     ]
    },
    {
     "name": "stdout",
     "output_type": "stream",
     "text": [
      "Epoch   751 |##########################################| 100.0% Done - Epoch Time:  8.2 s, Loss:  0.1431   \r\n",
      "Epoch   752 |##########################################| 100.0% Done - Epoch Time:  8.3 s, Loss:  0.1447   \r\n",
      "Epoch   753 |##########################################| 100.0% Done - Epoch Time:  6.5 s, Loss:  0.1495   \r\n",
      "Epoch   754 |##########################################| 100.0% Done - Epoch Time:  7.7 s, Loss:  0.1456   \r\n",
      "Epoch   755 |##########################################| 100.0% Done - Epoch Time:  9.2 s, Loss:  0.1453   \r\n"
     ]
    },
    {
     "name": "stderr",
     "output_type": "stream",
     "text": [
      "INFO:asparagus.src.train.trainer:INFO:\n",
      "Summary Epoch: 755/1000\n",
      "  Loss   train / valid:  1.45E-01 / 2.67E-01  Best Loss valid: 2.63E-01\n",
      "  Property Metrics (valid):\n",
      "    energy      MAE (Best) / RMSE (Best):  2.94E-02 (4.32E-02) / 3.92E-02 (5.13E-02) eV\n",
      "    forces      MAE (Best) / RMSE (Best):  6.66E-02 (6.65E-02) / 9.80E-02 (9.72E-02) eV/Ang\n",
      "    dipole      MAE (Best) / RMSE (Best):  3.29E-02 (3.24E-02) / 4.55E-02 (4.54E-02) eAng\n",
      "\n"
     ]
    },
    {
     "name": "stdout",
     "output_type": "stream",
     "text": [
      "Epoch   756 |##########################################| 100.0% Done - Epoch Time:  9.0 s, Loss:  0.1418   \r\n",
      "Epoch   757 |##########################################| 100.0% Done - Epoch Time:  9.0 s, Loss:  0.1404   \r\n",
      "Epoch   758 |##########################################| 100.0% Done - Epoch Time:  8.5 s, Loss:  0.1413   \r\n",
      "Epoch   759 |##########################################| 100.0% Done - Epoch Time:  9.2 s, Loss:  0.1446   \r\n",
      "Epoch   760 |##########################################| 100.0% Done - Epoch Time:  11.2 s, Loss:  0.1417   \r\n"
     ]
    },
    {
     "name": "stderr",
     "output_type": "stream",
     "text": [
      "INFO:asparagus.src.train.trainer:INFO:\n",
      "Summary Epoch: 760/1000\n",
      "  Loss   train / valid:  1.42E-01 / 2.70E-01  Best Loss valid: 2.63E-01\n",
      "  Property Metrics (valid):\n",
      "    energy      MAE (Best) / RMSE (Best):  3.11E-02 (4.32E-02) / 4.24E-02 (5.13E-02) eV\n",
      "    forces      MAE (Best) / RMSE (Best):  6.76E-02 (6.65E-02) / 9.86E-02 (9.72E-02) eV/Ang\n",
      "    dipole      MAE (Best) / RMSE (Best):  3.28E-02 (3.24E-02) / 4.57E-02 (4.54E-02) eAng\n",
      "\n"
     ]
    },
    {
     "name": "stdout",
     "output_type": "stream",
     "text": [
      "Epoch   761 |##########################################| 100.0% Done - Epoch Time:  8.2 s, Loss:  0.1477   \r\n",
      "Epoch   762 |##########################################| 100.0% Done - Epoch Time:  9.7 s, Loss:  0.1670   \r\n",
      "Epoch   763 |##########################################| 100.0% Done - Epoch Time:  8.3 s, Loss:  0.1604   \r\n",
      "Epoch   764 |##########################################| 100.0% Done - Epoch Time:  9.0 s, Loss:  0.1497   \r\n",
      "Epoch   765 |##########################################| 100.0% Done - Epoch Time:  8.6 s, Loss:  0.1431   \r\n"
     ]
    },
    {
     "name": "stderr",
     "output_type": "stream",
     "text": [
      "INFO:asparagus.src.train.trainer:INFO:\n",
      "Summary Epoch: 765/1000\n",
      "  Loss   train / valid:  1.43E-01 / 2.69E-01  Best Loss valid: 2.63E-01\n",
      "  Property Metrics (valid):\n",
      "    energy      MAE (Best) / RMSE (Best):  3.47E-02 (4.32E-02) / 4.33E-02 (5.13E-02) eV\n",
      "    forces      MAE (Best) / RMSE (Best):  6.78E-02 (6.65E-02) / 9.85E-02 (9.72E-02) eV/Ang\n",
      "    dipole      MAE (Best) / RMSE (Best):  3.28E-02 (3.24E-02) / 4.55E-02 (4.54E-02) eAng\n",
      "\n"
     ]
    },
    {
     "name": "stdout",
     "output_type": "stream",
     "text": [
      "Epoch   766 |##########################################| 100.0% Done - Epoch Time:  8.5 s, Loss:  0.1420   \r\n",
      "Epoch   767 |##########################################| 100.0% Done - Epoch Time:  8.1 s, Loss:  0.1391   \r\n",
      "Epoch   768 |##########################################| 100.0% Done - Epoch Time:  11.4 s, Loss:  0.1392   \r\n",
      "Epoch   769 |##########################################| 100.0% Done - Epoch Time:  5.8 s, Loss:  0.1411   \r\n",
      "Epoch   770 |##########################################| 100.0% Done - Epoch Time:  6.0 s, Loss:  0.1470   \r\n"
     ]
    },
    {
     "name": "stderr",
     "output_type": "stream",
     "text": [
      "INFO:asparagus.src.train.trainer:INFO:\n",
      "Summary Epoch: 770/1000\n",
      "  Loss   train / valid:  1.47E-01 / 2.64E-01  Best Loss valid: 2.63E-01\n",
      "  Property Metrics (valid):\n",
      "    energy      MAE (Best) / RMSE (Best):  2.84E-02 (4.32E-02) / 3.82E-02 (5.13E-02) eV\n",
      "    forces      MAE (Best) / RMSE (Best):  6.65E-02 (6.65E-02) / 9.74E-02 (9.72E-02) eV/Ang\n",
      "    dipole      MAE (Best) / RMSE (Best):  3.28E-02 (3.24E-02) / 4.57E-02 (4.54E-02) eAng\n",
      "\n"
     ]
    },
    {
     "name": "stdout",
     "output_type": "stream",
     "text": [
      "Epoch   771 |##########################################| 100.0% Done - Epoch Time:  5.9 s, Loss:  0.1401   \r\n",
      "Epoch   772 |##########################################| 100.0% Done - Epoch Time:  5.8 s, Loss:  0.1441   \r\n",
      "Epoch   773 |##########################################| 100.0% Done - Epoch Time:  6.8 s, Loss:  0.1419   \r\n",
      "Epoch   774 |##########################################| 100.0% Done - Epoch Time:  7.2 s, Loss:  0.1411   \r\n",
      "Epoch   775 |##########################################| 100.0% Done - Epoch Time:  7.3 s, Loss:  0.1410   \r\n"
     ]
    },
    {
     "name": "stderr",
     "output_type": "stream",
     "text": [
      "INFO:asparagus.src.train.trainer:INFO:\n",
      "Summary Epoch: 775/1000\n",
      "  Loss   train / valid:  1.41E-01 / 2.70E-01  Best Loss valid: 2.63E-01\n",
      "  Property Metrics (valid):\n",
      "    energy      MAE (Best) / RMSE (Best):  3.86E-02 (4.32E-02) / 4.88E-02 (5.13E-02) eV\n",
      "    forces      MAE (Best) / RMSE (Best):  6.78E-02 (6.65E-02) / 9.88E-02 (9.72E-02) eV/Ang\n",
      "    dipole      MAE (Best) / RMSE (Best):  3.20E-02 (3.24E-02) / 4.47E-02 (4.54E-02) eAng\n",
      "\n"
     ]
    },
    {
     "name": "stdout",
     "output_type": "stream",
     "text": [
      "Epoch   776 |##########################################| 100.0% Done - Epoch Time:  7.2 s, Loss:  0.1412   \r\n",
      "Epoch   777 |##########################################| 100.0% Done - Epoch Time:  6.3 s, Loss:  0.1461   \r\n",
      "Epoch   778 |##########################################| 100.0% Done - Epoch Time:  5.9 s, Loss:  0.1407   \r\n",
      "Epoch   779 |##########################################| 100.0% Done - Epoch Time:  5.7 s, Loss:  0.1409   \r\n",
      "Epoch   780 |##########################################| 100.0% Done - Epoch Time:  5.6 s, Loss:  0.1421   \r\n"
     ]
    },
    {
     "name": "stderr",
     "output_type": "stream",
     "text": [
      "INFO:asparagus.src.train.trainer:INFO:\n",
      "Summary Epoch: 780/1000\n",
      "  Loss   train / valid:  1.42E-01 / 2.68E-01  Best Loss valid: 2.63E-01\n",
      "  Property Metrics (valid):\n",
      "    energy      MAE (Best) / RMSE (Best):  4.41E-02 (4.32E-02) / 5.39E-02 (5.13E-02) eV\n",
      "    forces      MAE (Best) / RMSE (Best):  6.72E-02 (6.65E-02) / 9.81E-02 (9.72E-02) eV/Ang\n",
      "    dipole      MAE (Best) / RMSE (Best):  3.29E-02 (3.24E-02) / 4.59E-02 (4.54E-02) eAng\n",
      "\n"
     ]
    },
    {
     "name": "stdout",
     "output_type": "stream",
     "text": [
      "Epoch   781 |##########################################| 100.0% Done - Epoch Time:  5.9 s, Loss:  0.1426   \r\n",
      "Epoch   782 |##########################################| 100.0% Done - Epoch Time:  5.9 s, Loss:  0.1378   \r\n",
      "Epoch   783 |##########################################| 100.0% Done - Epoch Time:  5.6 s, Loss:  0.1389   \r\n",
      "Epoch   784 |##########################################| 100.0% Done - Epoch Time:  5.7 s, Loss:  0.1419   \r\n",
      "Epoch   785 |##########################################| 100.0% Done - Epoch Time:  5.6 s, Loss:  0.1369   \r\n"
     ]
    },
    {
     "name": "stderr",
     "output_type": "stream",
     "text": [
      "INFO:asparagus.src.train.trainer:INFO:\n",
      "Summary Epoch: 785/1000\n",
      "  Loss   train / valid:  1.37E-01 / 2.65E-01  Best Loss valid: 2.63E-01\n",
      "  Property Metrics (valid):\n",
      "    energy      MAE (Best) / RMSE (Best):  2.64E-02 (4.32E-02) / 3.68E-02 (5.13E-02) eV\n",
      "    forces      MAE (Best) / RMSE (Best):  6.67E-02 (6.65E-02) / 9.78E-02 (9.72E-02) eV/Ang\n",
      "    dipole      MAE (Best) / RMSE (Best):  3.19E-02 (3.24E-02) / 4.46E-02 (4.54E-02) eAng\n",
      "\n"
     ]
    },
    {
     "name": "stdout",
     "output_type": "stream",
     "text": [
      "Epoch   786 |##########################################| 100.0% Done - Epoch Time:  6.1 s, Loss:  0.1429   \r\n",
      "Epoch   787 |##########################################| 100.0% Done - Epoch Time:  7.3 s, Loss:  0.1383   \r\n",
      "Epoch   788 |##########################################| 100.0% Done - Epoch Time:  7.7 s, Loss:  0.1415   \r\n",
      "Epoch   789 |##########################################| 100.0% Done - Epoch Time:  7.3 s, Loss:  0.1459   \r\n",
      "Epoch   790 |##########################################| 100.0% Done - Epoch Time:  7.3 s, Loss:  0.1402   \r\n"
     ]
    },
    {
     "name": "stderr",
     "output_type": "stream",
     "text": [
      "INFO:asparagus.src.train.trainer:INFO:\n",
      "Summary Epoch: 790/1000\n",
      "  Loss   train / valid:  1.40E-01 / 2.68E-01  Best Loss valid: 2.63E-01\n",
      "  Property Metrics (valid):\n",
      "    energy      MAE (Best) / RMSE (Best):  2.94E-02 (4.32E-02) / 3.92E-02 (5.13E-02) eV\n",
      "    forces      MAE (Best) / RMSE (Best):  6.67E-02 (6.65E-02) / 9.80E-02 (9.72E-02) eV/Ang\n",
      "    dipole      MAE (Best) / RMSE (Best):  3.41E-02 (3.24E-02) / 4.66E-02 (4.54E-02) eAng\n",
      "\n"
     ]
    },
    {
     "name": "stdout",
     "output_type": "stream",
     "text": [
      "Epoch   791 |##########################################| 100.0% Done - Epoch Time:  7.5 s, Loss:  0.1372   \r\n",
      "Epoch   792 |##########################################| 100.0% Done - Epoch Time:  7.0 s, Loss:  0.1396   \r\n",
      "Epoch   793 |##########################################| 100.0% Done - Epoch Time:  6.8 s, Loss:  0.1346   \r\n",
      "Epoch   794 |##########################################| 100.0% Done - Epoch Time:  6.5 s, Loss:  0.1383   \r\n",
      "Epoch   795 |##########################################| 100.0% Done - Epoch Time:  8.2 s, Loss:  0.1421   \r\n"
     ]
    },
    {
     "name": "stderr",
     "output_type": "stream",
     "text": [
      "INFO:asparagus.src.train.trainer:INFO:\n",
      "Summary Epoch: 795/1000\n",
      "  Loss   train / valid:  1.42E-01 / 2.78E-01  Best Loss valid: 2.63E-01\n",
      "  Property Metrics (valid):\n",
      "    energy      MAE (Best) / RMSE (Best):  3.68E-02 (4.32E-02) / 4.61E-02 (5.13E-02) eV\n",
      "    forces      MAE (Best) / RMSE (Best):  6.82E-02 (6.65E-02) / 1.00E-01 (9.72E-02) eV/Ang\n",
      "    dipole      MAE (Best) / RMSE (Best):  3.25E-02 (3.24E-02) / 4.53E-02 (4.54E-02) eAng\n",
      "\n"
     ]
    },
    {
     "name": "stdout",
     "output_type": "stream",
     "text": [
      "Epoch   796 |##########################################| 100.0% Done - Epoch Time:  9.2 s, Loss:  0.1423   \r\n",
      "Epoch   797 |##########################################| 100.0% Done - Epoch Time:  8.8 s, Loss:  0.1409   \r\n",
      "Epoch   798 |##########################################| 100.0% Done - Epoch Time:  8.5 s, Loss:  0.1448   \r\n",
      "Epoch   799 |##########################################| 100.0% Done - Epoch Time:  8.6 s, Loss:  0.1330   \r\n",
      "Epoch   800 |##########################################| 100.0% Done - Epoch Time:  9.0 s, Loss:  0.1394   \r\n"
     ]
    },
    {
     "name": "stderr",
     "output_type": "stream",
     "text": [
      "INFO:asparagus.src.train.trainer:INFO:\n",
      "Summary Epoch: 800/1000\n",
      "  Loss   train / valid:  1.39E-01 / 2.84E-01  Best Loss valid: 2.63E-01\n",
      "  Property Metrics (valid):\n",
      "    energy      MAE (Best) / RMSE (Best):  3.61E-02 (4.32E-02) / 4.82E-02 (5.13E-02) eV\n",
      "    forces      MAE (Best) / RMSE (Best):  7.04E-02 (6.65E-02) / 1.02E-01 (9.72E-02) eV/Ang\n",
      "    dipole      MAE (Best) / RMSE (Best):  3.23E-02 (3.24E-02) / 4.49E-02 (4.54E-02) eAng\n",
      "\n"
     ]
    },
    {
     "name": "stdout",
     "output_type": "stream",
     "text": [
      "Epoch   801 |##########################################| 100.0% Done - Epoch Time:  6.5 s, Loss:  0.1433   \r\n",
      "Epoch   802 |##########################################| 100.0% Done - Epoch Time:  6.8 s, Loss:  0.1372   \r\n",
      "Epoch   803 |##########################################| 100.0% Done - Epoch Time:  8.6 s, Loss:  0.1371   \r\n",
      "Epoch   804 |##########################################| 100.0% Done - Epoch Time:  9.2 s, Loss:  0.1368   \r\n",
      "Epoch   805 |##########################################| 100.0% Done - Epoch Time:  8.0 s, Loss:  0.1371   \r\n"
     ]
    },
    {
     "name": "stderr",
     "output_type": "stream",
     "text": [
      "INFO:asparagus.src.train.trainer:INFO:\n",
      "Summary Epoch: 805/1000\n",
      "  Loss   train / valid:  1.37E-01 / 2.66E-01  Best Loss valid: 2.63E-01\n",
      "  Property Metrics (valid):\n",
      "    energy      MAE (Best) / RMSE (Best):  2.94E-02 (4.32E-02) / 3.72E-02 (5.13E-02) eV\n",
      "    forces      MAE (Best) / RMSE (Best):  6.68E-02 (6.65E-02) / 9.80E-02 (9.72E-02) eV/Ang\n",
      "    dipole      MAE (Best) / RMSE (Best):  3.23E-02 (3.24E-02) / 4.49E-02 (4.54E-02) eAng\n",
      "\n"
     ]
    },
    {
     "name": "stdout",
     "output_type": "stream",
     "text": [
      "Epoch   806 |##########################################| 100.0% Done - Epoch Time:  8.9 s, Loss:  0.1396   \r\n",
      "Epoch   807 |##########################################| 100.0% Done - Epoch Time:  9.7 s, Loss:  0.1384   \r\n",
      "Epoch   808 |##########################################| 100.0% Done - Epoch Time:  8.6 s, Loss:  0.1345   \r\n",
      "Epoch   809 |##########################################| 100.0% Done - Epoch Time:  8.7 s, Loss:  0.1343   \r\n",
      "Epoch   810 |##########################################| 100.0% Done - Epoch Time:  9.5 s, Loss:  0.1367   \r\n"
     ]
    },
    {
     "name": "stderr",
     "output_type": "stream",
     "text": [
      "INFO:asparagus.src.train.trainer:INFO:\n",
      "Summary Epoch: 810/1000\n",
      "  Loss   train / valid:  1.37E-01 / 2.72E-01  Best Loss valid: 2.63E-01\n",
      "  Property Metrics (valid):\n",
      "    energy      MAE (Best) / RMSE (Best):  3.61E-02 (4.32E-02) / 4.68E-02 (5.13E-02) eV\n",
      "    forces      MAE (Best) / RMSE (Best):  6.75E-02 (6.65E-02) / 9.92E-02 (9.72E-02) eV/Ang\n",
      "    dipole      MAE (Best) / RMSE (Best):  3.22E-02 (3.24E-02) / 4.49E-02 (4.54E-02) eAng\n",
      "\n"
     ]
    },
    {
     "name": "stdout",
     "output_type": "stream",
     "text": [
      "Epoch   811 |##########################################| 100.0% Done - Epoch Time:  9.0 s, Loss:  0.1351   \r\n",
      "Epoch   812 |##########################################| 100.0% Done - Epoch Time:  8.8 s, Loss:  0.1328   \r\n",
      "Epoch   813 |##########################################| 100.0% Done - Epoch Time:  8.7 s, Loss:  0.1333   \r\n",
      "Epoch   814 |##########################################| 100.0% Done - Epoch Time:  8.8 s, Loss:  0.1423   \r\n",
      "Epoch   815 |##########################################| 100.0% Done - Epoch Time:  8.4 s, Loss:  0.1407   \r\n"
     ]
    },
    {
     "name": "stderr",
     "output_type": "stream",
     "text": [
      "INFO:asparagus.src.train.trainer:INFO:\n",
      "Summary Epoch: 815/1000\n",
      "  Loss   train / valid:  1.41E-01 / 2.68E-01  Best Loss valid: 2.63E-01\n",
      "  Property Metrics (valid):\n",
      "    energy      MAE (Best) / RMSE (Best):  3.39E-02 (4.32E-02) / 4.39E-02 (5.13E-02) eV\n",
      "    forces      MAE (Best) / RMSE (Best):  6.77E-02 (6.65E-02) / 9.84E-02 (9.72E-02) eV/Ang\n",
      "    dipole      MAE (Best) / RMSE (Best):  3.16E-02 (3.24E-02) / 4.44E-02 (4.54E-02) eAng\n",
      "\n"
     ]
    },
    {
     "name": "stdout",
     "output_type": "stream",
     "text": [
      "Epoch   816 |##########################################| 100.0% Done - Epoch Time:  11.4 s, Loss:  0.1417   \r\n",
      "Epoch   817 |##########################################| 100.0% Done - Epoch Time:  6.2 s, Loss:  0.1369   \r\n",
      "Epoch   818 |##########################################| 100.0% Done - Epoch Time:  6.0 s, Loss:  0.1338   \r\n",
      "Epoch   819 |##########################################| 100.0% Done - Epoch Time:  5.8 s, Loss:  0.1331   \r\n",
      "Epoch   820 |##########################################| 100.0% Done - Epoch Time:  6.8 s, Loss:  0.1336   \r\n"
     ]
    },
    {
     "name": "stderr",
     "output_type": "stream",
     "text": [
      "INFO:asparagus.src.train.trainer:INFO:\n",
      "Summary Epoch: 820/1000\n",
      "  Loss   train / valid:  1.34E-01 / 2.63E-01  Best Loss valid: 2.63E-01\n",
      "  Property Metrics (valid):\n",
      "    energy      MAE (Best) / RMSE (Best):  2.92E-02 (4.32E-02) / 4.08E-02 (5.13E-02) eV\n",
      "    forces      MAE (Best) / RMSE (Best):  6.66E-02 (6.65E-02) / 9.75E-02 (9.72E-02) eV/Ang\n",
      "    dipole      MAE (Best) / RMSE (Best):  3.19E-02 (3.24E-02) / 4.44E-02 (4.54E-02) eAng\n",
      "\n"
     ]
    },
    {
     "name": "stdout",
     "output_type": "stream",
     "text": [
      "Epoch   821 |##########################################| 100.0% Done - Epoch Time:  7.5 s, Loss:  0.1333   \r\n",
      "Epoch   822 |##########################################| 100.0% Done - Epoch Time:  7.1 s, Loss:  0.1333   \r\n",
      "Epoch   823 |##########################################| 100.0% Done - Epoch Time:  7.3 s, Loss:  0.1365   \r\n",
      "Epoch   824 |##########################################| 100.0% Done - Epoch Time:  6.2 s, Loss:  0.1312   \r\n",
      "Epoch   825 |##########################################| 100.0% Done - Epoch Time:  6.0 s, Loss:  0.1316   \r\n"
     ]
    },
    {
     "name": "stderr",
     "output_type": "stream",
     "text": [
      "INFO:asparagus.src.train.tester:INFO:\n",
      "Summary for test set:\n",
      "  Property Metrics    MAE,       RMSE\n",
      "   energy           3.18e-02,  3.78e-02 eV\n",
      "   forces           6.34e-02,  9.58e-02 eV/Ang\n",
      "   dipole           3.30e-02,  4.38e-02 eAng\n",
      "\n",
      "INFO:asparagus.src.train.trainer:INFO:\n",
      "Summary Epoch: 825/1000\n",
      "  Loss   train / valid:  1.32E-01 / 2.61E-01  Best Loss valid: 2.61E-01\n",
      "  Property Metrics (valid):\n",
      "    energy      MAE (Best) / RMSE (Best):  3.16E-02 (3.16E-02) / 4.15E-02 (4.15E-02) eV\n",
      "    forces      MAE (Best) / RMSE (Best):  6.57E-02 (6.57E-02) / 9.69E-02 (9.69E-02) eV/Ang\n",
      "    dipole      MAE (Best) / RMSE (Best):  3.24E-02 (3.24E-02) / 4.51E-02 (4.51E-02) eAng\n",
      "\n"
     ]
    },
    {
     "name": "stdout",
     "output_type": "stream",
     "text": [
      "Epoch   826 |##########################################| 100.0% Done - Epoch Time:  5.8 s, Loss:  0.1319   \r\n",
      "Epoch   827 |##########################################| 100.0% Done - Epoch Time:  5.9 s, Loss:  0.1317   \r\n",
      "Epoch   828 |##########################################| 100.0% Done - Epoch Time:  6.1 s, Loss:  0.1321   \r\n",
      "Epoch   829 |##########################################| 100.0% Done - Epoch Time:  5.9 s, Loss:  0.1337   \r\n",
      "Epoch   830 |##########################################| 100.0% Done - Epoch Time:  6.5 s, Loss:  0.1338   \r\n"
     ]
    },
    {
     "name": "stderr",
     "output_type": "stream",
     "text": [
      "INFO:asparagus.src.train.trainer:INFO:\n",
      "Summary Epoch: 830/1000\n",
      "  Loss   train / valid:  1.34E-01 / 2.68E-01  Best Loss valid: 2.61E-01\n",
      "  Property Metrics (valid):\n",
      "    energy      MAE (Best) / RMSE (Best):  4.38E-02 (3.16E-02) / 5.59E-02 (4.15E-02) eV\n",
      "    forces      MAE (Best) / RMSE (Best):  6.72E-02 (6.57E-02) / 9.83E-02 (9.69E-02) eV/Ang\n",
      "    dipole      MAE (Best) / RMSE (Best):  3.19E-02 (3.24E-02) / 4.43E-02 (4.51E-02) eAng\n",
      "\n"
     ]
    },
    {
     "name": "stdout",
     "output_type": "stream",
     "text": [
      "Epoch   831 |##########################################| 100.0% Done - Epoch Time:  5.9 s, Loss:  0.1342   \r\n",
      "Epoch   832 |##########################################| 100.0% Done - Epoch Time:  7.6 s, Loss:  0.1313   \r\n",
      "Epoch   833 |##########################################| 100.0% Done - Epoch Time:  7.0 s, Loss:  0.1349   \r\n",
      "Epoch   834 |##########################################| 100.0% Done - Epoch Time:  7.4 s, Loss:  0.1383   \r\n",
      "Epoch   835 |##########################################| 100.0% Done - Epoch Time:  7.5 s, Loss:  0.1356   \r\n"
     ]
    },
    {
     "name": "stderr",
     "output_type": "stream",
     "text": [
      "INFO:asparagus.src.train.trainer:INFO:\n",
      "Summary Epoch: 835/1000\n",
      "  Loss   train / valid:  1.36E-01 / 2.76E-01  Best Loss valid: 2.61E-01\n",
      "  Property Metrics (valid):\n",
      "    energy      MAE (Best) / RMSE (Best):  2.57E-02 (3.16E-02) / 3.52E-02 (4.15E-02) eV\n",
      "    forces      MAE (Best) / RMSE (Best):  6.83E-02 (6.57E-02) / 1.00E-01 (9.69E-02) eV/Ang\n",
      "    dipole      MAE (Best) / RMSE (Best):  3.28E-02 (3.24E-02) / 4.57E-02 (4.51E-02) eAng\n",
      "\n"
     ]
    },
    {
     "name": "stdout",
     "output_type": "stream",
     "text": [
      "Epoch   836 |##########################################| 100.0% Done - Epoch Time:  7.3 s, Loss:  0.1368   \r\n",
      "Epoch   837 |##########################################| 100.0% Done - Epoch Time:  7.0 s, Loss:  0.1413   \r\n",
      "Epoch   838 |##########################################| 100.0% Done - Epoch Time:  6.9 s, Loss:  0.1391   \r\n",
      "Epoch   839 |##########################################| 100.0% Done - Epoch Time:  6.6 s, Loss:  0.1365   \r\n",
      "Epoch   840 |##########################################| 100.0% Done - Epoch Time:  6.7 s, Loss:  0.1347   \r\n"
     ]
    },
    {
     "name": "stderr",
     "output_type": "stream",
     "text": [
      "INFO:asparagus.src.train.trainer:INFO:\n",
      "Summary Epoch: 840/1000\n",
      "  Loss   train / valid:  1.35E-01 / 2.62E-01  Best Loss valid: 2.61E-01\n",
      "  Property Metrics (valid):\n",
      "    energy      MAE (Best) / RMSE (Best):  2.67E-02 (3.16E-02) / 3.76E-02 (4.15E-02) eV\n",
      "    forces      MAE (Best) / RMSE (Best):  6.65E-02 (6.57E-02) / 9.74E-02 (9.69E-02) eV/Ang\n",
      "    dipole      MAE (Best) / RMSE (Best):  3.17E-02 (3.24E-02) / 4.45E-02 (4.51E-02) eAng\n",
      "\n"
     ]
    },
    {
     "name": "stdout",
     "output_type": "stream",
     "text": [
      "Epoch   841 |##########################################| 100.0% Done - Epoch Time:  6.5 s, Loss:  0.1318   \r\n",
      "Epoch   842 |##########################################| 100.0% Done - Epoch Time:  7.9 s, Loss:  0.1352   \r\n",
      "Epoch   843 |##########################################| 100.0% Done - Epoch Time:  8.6 s, Loss:  0.1333   \r\n",
      "Epoch   844 |##########################################| 100.0% Done - Epoch Time:  8.9 s, Loss:  0.1357   \r\n",
      "Epoch   845 |##########################################| 100.0% Done - Epoch Time:  8.4 s, Loss:  0.1381   \r\n"
     ]
    },
    {
     "name": "stderr",
     "output_type": "stream",
     "text": [
      "INFO:asparagus.src.train.trainer:INFO:\n",
      "Summary Epoch: 845/1000\n",
      "  Loss   train / valid:  1.38E-01 / 2.64E-01  Best Loss valid: 2.61E-01\n",
      "  Property Metrics (valid):\n",
      "    energy      MAE (Best) / RMSE (Best):  2.94E-02 (3.16E-02) / 4.10E-02 (4.15E-02) eV\n",
      "    forces      MAE (Best) / RMSE (Best):  6.65E-02 (6.57E-02) / 9.75E-02 (9.69E-02) eV/Ang\n",
      "    dipole      MAE (Best) / RMSE (Best):  3.23E-02 (3.24E-02) / 4.50E-02 (4.51E-02) eAng\n",
      "\n"
     ]
    },
    {
     "name": "stdout",
     "output_type": "stream",
     "text": [
      "Epoch   846 |##########################################| 100.0% Done - Epoch Time:  8.5 s, Loss:  0.1320   \r\n",
      "Epoch   847 |##########################################| 100.0% Done - Epoch Time:  8.2 s, Loss:  0.1332   \r\n",
      "Epoch   848 |##########################################| 100.0% Done - Epoch Time:  7.5 s, Loss:  0.1290   \r\n",
      "Epoch   849 |##########################################| 100.0% Done - Epoch Time:  6.4 s, Loss:  0.1277   \r\n",
      "Epoch   850 |##########################################| 100.0% Done - Epoch Time:  7.7 s, Loss:  0.1285   \r\n"
     ]
    },
    {
     "name": "stderr",
     "output_type": "stream",
     "text": [
      "INFO:asparagus.src.train.trainer:INFO:\n",
      "Summary Epoch: 850/1000\n",
      "  Loss   train / valid:  1.29E-01 / 2.71E-01  Best Loss valid: 2.61E-01\n",
      "  Property Metrics (valid):\n",
      "    energy      MAE (Best) / RMSE (Best):  2.73E-02 (3.16E-02) / 3.96E-02 (4.15E-02) eV\n",
      "    forces      MAE (Best) / RMSE (Best):  6.78E-02 (6.57E-02) / 9.88E-02 (9.69E-02) eV/Ang\n",
      "    dipole      MAE (Best) / RMSE (Best):  3.29E-02 (3.24E-02) / 4.53E-02 (4.51E-02) eAng\n",
      "\n"
     ]
    },
    {
     "name": "stdout",
     "output_type": "stream",
     "text": [
      "Epoch   851 |##########################################| 100.0% Done - Epoch Time:  8.1 s, Loss:  0.1319   \r\n",
      "Epoch   852 |##########################################| 100.0% Done - Epoch Time:  7.9 s, Loss:  0.1331   \r\n",
      "Epoch   853 |##########################################| 100.0% Done - Epoch Time:  8.4 s, Loss:  0.1309   \r\n",
      "Epoch   854 |##########################################| 100.0% Done - Epoch Time:  8.5 s, Loss:  0.1289   \r\n",
      "Epoch   855 |##########################################| 100.0% Done - Epoch Time:  8.7 s, Loss:  0.1279   \r\n"
     ]
    },
    {
     "name": "stderr",
     "output_type": "stream",
     "text": [
      "INFO:asparagus.src.train.trainer:INFO:\n",
      "Summary Epoch: 855/1000\n",
      "  Loss   train / valid:  1.28E-01 / 2.64E-01  Best Loss valid: 2.61E-01\n",
      "  Property Metrics (valid):\n",
      "    energy      MAE (Best) / RMSE (Best):  2.64E-02 (3.16E-02) / 3.69E-02 (4.15E-02) eV\n",
      "    forces      MAE (Best) / RMSE (Best):  6.67E-02 (6.57E-02) / 9.79E-02 (9.69E-02) eV/Ang\n",
      "    dipole      MAE (Best) / RMSE (Best):  3.16E-02 (3.24E-02) / 4.38E-02 (4.51E-02) eAng\n",
      "\n"
     ]
    },
    {
     "name": "stdout",
     "output_type": "stream",
     "text": [
      "Epoch   856 |##########################################| 100.0% Done - Epoch Time:  8.5 s, Loss:  0.1286   \r\n",
      "Epoch   857 |##########################################| 100.0% Done - Epoch Time:  8.1 s, Loss:  0.1266   \r\n",
      "Epoch   858 |##########################################| 100.0% Done - Epoch Time:  8.2 s, Loss:  0.1286   \r\n",
      "Epoch   859 |##########################################| 100.0% Done - Epoch Time:  8.2 s, Loss:  0.1274   \r\n",
      "Epoch   860 |##########################################| 100.0% Done - Epoch Time:  8.4 s, Loss:  0.1242   \r\n"
     ]
    },
    {
     "name": "stderr",
     "output_type": "stream",
     "text": [
      "INFO:asparagus.src.train.tester:INFO:\n",
      "Summary for test set:\n",
      "  Property Metrics    MAE,       RMSE\n",
      "   energy           2.30e-02,  3.21e-02 eV\n",
      "   forces           6.39e-02,  9.59e-02 eV/Ang\n",
      "   dipole           3.24e-02,  4.27e-02 eAng\n",
      "\n",
      "INFO:asparagus.src.train.trainer:INFO:\n",
      "Summary Epoch: 860/1000\n",
      "  Loss   train / valid:  1.24E-01 / 2.60E-01  Best Loss valid: 2.60E-01\n",
      "  Property Metrics (valid):\n",
      "    energy      MAE (Best) / RMSE (Best):  2.67E-02 (2.67E-02) / 4.04E-02 (4.04E-02) eV\n",
      "    forces      MAE (Best) / RMSE (Best):  6.61E-02 (6.61E-02) / 9.71E-02 (9.71E-02) eV/Ang\n",
      "    dipole      MAE (Best) / RMSE (Best):  3.15E-02 (3.15E-02) / 4.37E-02 (4.37E-02) eAng\n",
      "\n"
     ]
    },
    {
     "name": "stdout",
     "output_type": "stream",
     "text": [
      "Epoch   861 |##########################################| 100.0% Done - Epoch Time:  8.8 s, Loss:  0.1259   \r\n",
      "Epoch   862 |##########################################| 100.0% Done - Epoch Time:  8.1 s, Loss:  0.1267   \r\n",
      "Epoch   863 |##########################################| 100.0% Done - Epoch Time:  8.1 s, Loss:  0.1306   \r\n",
      "Epoch   864 |##########################################| 100.0% Done - Epoch Time:  8.4 s, Loss:  0.1301   \r\n",
      "Epoch   865 |##########################################| 100.0% Done - Epoch Time:  11.8 s, Loss:  0.1298   \r\n"
     ]
    },
    {
     "name": "stderr",
     "output_type": "stream",
     "text": [
      "INFO:asparagus.src.train.trainer:INFO:\n",
      "Summary Epoch: 865/1000\n",
      "  Loss   train / valid:  1.30E-01 / 2.60E-01  Best Loss valid: 2.60E-01\n",
      "  Property Metrics (valid):\n",
      "    energy      MAE (Best) / RMSE (Best):  5.30E-02 (2.67E-02) / 6.34E-02 (4.04E-02) eV\n",
      "    forces      MAE (Best) / RMSE (Best):  6.61E-02 (6.61E-02) / 9.69E-02 (9.71E-02) eV/Ang\n",
      "    dipole      MAE (Best) / RMSE (Best):  3.13E-02 (3.15E-02) / 4.37E-02 (4.37E-02) eAng\n",
      "\n"
     ]
    },
    {
     "name": "stdout",
     "output_type": "stream",
     "text": [
      "Epoch   866 |##########################################| 100.0% Done - Epoch Time:  6.4 s, Loss:  0.1303   \r\n",
      "Epoch   867 |##########################################| 100.0% Done - Epoch Time:  6.0 s, Loss:  0.1279   \r\n",
      "Epoch   868 |##########################################| 100.0% Done - Epoch Time:  5.9 s, Loss:  0.1278   \r\n",
      "Epoch   869 |##########################################| 100.0% Done - Epoch Time:  5.9 s, Loss:  0.1274   \r\n",
      "Epoch   870 |##########################################| 100.0% Done - Epoch Time:  6.0 s, Loss:  0.1258   \r\n"
     ]
    },
    {
     "name": "stderr",
     "output_type": "stream",
     "text": [
      "INFO:asparagus.src.train.tester:INFO:\n",
      "Summary for test set:\n",
      "  Property Metrics    MAE,       RMSE\n",
      "   energy           2.68e-02,  3.51e-02 eV\n",
      "   forces           6.32e-02,  9.48e-02 eV/Ang\n",
      "   dipole           3.11e-02,  4.14e-02 eAng\n",
      "\n",
      "INFO:asparagus.src.train.trainer:INFO:\n",
      "Summary Epoch: 870/1000\n",
      "  Loss   train / valid:  1.26E-01 / 2.53E-01  Best Loss valid: 2.53E-01\n",
      "  Property Metrics (valid):\n",
      "    energy      MAE (Best) / RMSE (Best):  2.92E-02 (2.92E-02) / 4.18E-02 (4.18E-02) eV\n",
      "    forces      MAE (Best) / RMSE (Best):  6.48E-02 (6.48E-02) / 9.56E-02 (9.56E-02) eV/Ang\n",
      "    dipole      MAE (Best) / RMSE (Best):  3.11E-02 (3.11E-02) / 4.34E-02 (4.34E-02) eAng\n",
      "\n"
     ]
    },
    {
     "name": "stdout",
     "output_type": "stream",
     "text": [
      "Epoch   871 |##########################################| 100.0% Done - Epoch Time:  7.2 s, Loss:  0.1256   \r\n",
      "Epoch   872 |##########################################| 100.0% Done - Epoch Time:  7.2 s, Loss:  0.1290   \r\n",
      "Epoch   873 |##########################################| 100.0% Done - Epoch Time:  7.2 s, Loss:  0.1313   \r\n",
      "Epoch   874 |##########################################| 100.0% Done - Epoch Time:  9.9 s, Loss:  0.1287   \r\n",
      "Epoch   875 |##########################################| 100.0% Done - Epoch Time:  6.6 s, Loss:  0.1271   \r\n"
     ]
    },
    {
     "name": "stderr",
     "output_type": "stream",
     "text": [
      "INFO:asparagus.src.train.trainer:INFO:\n",
      "Summary Epoch: 875/1000\n",
      "  Loss   train / valid:  1.27E-01 / 2.55E-01  Best Loss valid: 2.53E-01\n",
      "  Property Metrics (valid):\n",
      "    energy      MAE (Best) / RMSE (Best):  2.95E-02 (2.92E-02) / 3.95E-02 (4.18E-02) eV\n",
      "    forces      MAE (Best) / RMSE (Best):  6.52E-02 (6.48E-02) / 9.61E-02 (9.56E-02) eV/Ang\n",
      "    dipole      MAE (Best) / RMSE (Best):  3.12E-02 (3.11E-02) / 4.34E-02 (4.34E-02) eAng\n",
      "\n"
     ]
    },
    {
     "name": "stdout",
     "output_type": "stream",
     "text": [
      "Epoch   876 |##########################################| 100.0% Done - Epoch Time:  6.7 s, Loss:  0.1235   \r\n",
      "Epoch   877 |##########################################| 100.0% Done - Epoch Time:  6.7 s, Loss:  0.1242   \r\n",
      "Epoch   878 |##########################################| 100.0% Done - Epoch Time:  6.7 s, Loss:  0.1260   \r\n",
      "Epoch   879 |##########################################| 100.0% Done - Epoch Time:  6.5 s, Loss:  0.1293   \r\n",
      "Epoch   880 |##########################################| 100.0% Done - Epoch Time:  6.6 s, Loss:  0.1281   \r\n"
     ]
    },
    {
     "name": "stderr",
     "output_type": "stream",
     "text": [
      "INFO:asparagus.src.train.trainer:INFO:\n",
      "Summary Epoch: 880/1000\n",
      "  Loss   train / valid:  1.28E-01 / 2.61E-01  Best Loss valid: 2.53E-01\n",
      "  Property Metrics (valid):\n",
      "    energy      MAE (Best) / RMSE (Best):  2.74E-02 (2.92E-02) / 3.68E-02 (4.18E-02) eV\n",
      "    forces      MAE (Best) / RMSE (Best):  6.64E-02 (6.48E-02) / 9.71E-02 (9.56E-02) eV/Ang\n",
      "    dipole      MAE (Best) / RMSE (Best):  3.19E-02 (3.11E-02) / 4.42E-02 (4.34E-02) eAng\n",
      "\n"
     ]
    },
    {
     "name": "stdout",
     "output_type": "stream",
     "text": [
      "Epoch   881 |##########################################| 100.0% Done - Epoch Time:  6.2 s, Loss:  0.1265   \r\n",
      "Epoch   882 |##########################################| 100.0% Done - Epoch Time:  6.7 s, Loss:  0.1236   \r\n",
      "Epoch   883 |##########################################| 100.0% Done - Epoch Time:  7.8 s, Loss:  0.1261   \r\n",
      "Epoch   884 |##########################################| 100.0% Done - Epoch Time:  7.8 s, Loss:  0.1266   \r\n",
      "Epoch   885 |##########################################| 100.0% Done - Epoch Time:  7.9 s, Loss:  0.1253   \r\n"
     ]
    },
    {
     "name": "stderr",
     "output_type": "stream",
     "text": [
      "INFO:asparagus.src.train.trainer:INFO:\n",
      "Summary Epoch: 885/1000\n",
      "  Loss   train / valid:  1.25E-01 / 2.62E-01  Best Loss valid: 2.53E-01\n",
      "  Property Metrics (valid):\n",
      "    energy      MAE (Best) / RMSE (Best):  3.24E-02 (2.92E-02) / 4.28E-02 (4.18E-02) eV\n",
      "    forces      MAE (Best) / RMSE (Best):  6.67E-02 (6.48E-02) / 9.73E-02 (9.56E-02) eV/Ang\n",
      "    dipole      MAE (Best) / RMSE (Best):  3.15E-02 (3.11E-02) / 4.40E-02 (4.34E-02) eAng\n",
      "\n"
     ]
    },
    {
     "name": "stdout",
     "output_type": "stream",
     "text": [
      "Epoch   886 |##########################################| 100.0% Done - Epoch Time:  7.3 s, Loss:  0.1323   \r\n",
      "Epoch   887 |##########################################| 100.0% Done - Epoch Time:  7.6 s, Loss:  0.1284   \r\n",
      "Epoch   888 |##########################################| 100.0% Done - Epoch Time:  7.2 s, Loss:  0.1263   \r\n",
      "Epoch   889 |##########################################| 100.0% Done - Epoch Time:  7.1 s, Loss:  0.1258   \r\n",
      "Epoch   890 |##########################################| 100.0% Done - Epoch Time:  7.7 s, Loss:  0.1247   \r\n"
     ]
    },
    {
     "name": "stderr",
     "output_type": "stream",
     "text": [
      "INFO:asparagus.src.train.trainer:INFO:\n",
      "Summary Epoch: 890/1000\n",
      "  Loss   train / valid:  1.25E-01 / 2.60E-01  Best Loss valid: 2.53E-01\n",
      "  Property Metrics (valid):\n",
      "    energy      MAE (Best) / RMSE (Best):  3.18E-02 (2.92E-02) / 4.32E-02 (4.18E-02) eV\n",
      "    forces      MAE (Best) / RMSE (Best):  6.59E-02 (6.48E-02) / 9.69E-02 (9.56E-02) eV/Ang\n",
      "    dipole      MAE (Best) / RMSE (Best):  3.15E-02 (3.11E-02) / 4.36E-02 (4.34E-02) eAng\n",
      "\n"
     ]
    },
    {
     "name": "stdout",
     "output_type": "stream",
     "text": [
      "Epoch   891 |##########################################| 100.0% Done - Epoch Time:  9.2 s, Loss:  0.1244   \r\n",
      "Epoch   892 |##########################################| 100.0% Done - Epoch Time:  9.6 s, Loss:  0.1249   \r\n",
      "Epoch   893 |##########################################| 100.0% Done - Epoch Time:  9.6 s, Loss:  0.1214   \r\n",
      "Epoch   894 |##########################################| 100.0% Done - Epoch Time:  8.9 s, Loss:  0.1235   \r\n",
      "Epoch   895 |##########################################| 100.0% Done - Epoch Time:  8.9 s, Loss:  0.1239   \r\n"
     ]
    },
    {
     "name": "stderr",
     "output_type": "stream",
     "text": [
      "INFO:asparagus.src.train.trainer:INFO:\n",
      "Summary Epoch: 895/1000\n",
      "  Loss   train / valid:  1.24E-01 / 2.61E-01  Best Loss valid: 2.53E-01\n",
      "  Property Metrics (valid):\n",
      "    energy      MAE (Best) / RMSE (Best):  2.46E-02 (2.92E-02) / 3.64E-02 (4.18E-02) eV\n",
      "    forces      MAE (Best) / RMSE (Best):  6.55E-02 (6.48E-02) / 9.72E-02 (9.56E-02) eV/Ang\n",
      "    dipole      MAE (Best) / RMSE (Best):  3.16E-02 (3.11E-02) / 4.39E-02 (4.34E-02) eAng\n",
      "\n"
     ]
    },
    {
     "name": "stdout",
     "output_type": "stream",
     "text": [
      "Epoch   896 |##########################################| 100.0% Done - Epoch Time:  6.8 s, Loss:  0.1224   \r\n",
      "Epoch   897 |##########################################| 100.0% Done - Epoch Time:  7.4 s, Loss:  0.1230   \r\n",
      "Epoch   898 |##########################################| 100.0% Done - Epoch Time:  8.8 s, Loss:  0.1223   \r\n",
      "Epoch   899 |##########################################| 100.0% Done - Epoch Time:  10.3 s, Loss:  0.1260   \r\n",
      "Epoch   900 |##########################################| 100.0% Done - Epoch Time:  10.3 s, Loss:  0.1241   \r\n"
     ]
    },
    {
     "name": "stderr",
     "output_type": "stream",
     "text": [
      "INFO:asparagus.src.train.trainer:INFO:\n",
      "Summary Epoch: 900/1000\n",
      "  Loss   train / valid:  1.24E-01 / 2.57E-01  Best Loss valid: 2.53E-01\n",
      "  Property Metrics (valid):\n",
      "    energy      MAE (Best) / RMSE (Best):  2.65E-02 (2.92E-02) / 3.48E-02 (4.18E-02) eV\n",
      "    forces      MAE (Best) / RMSE (Best):  6.52E-02 (6.48E-02) / 9.63E-02 (9.56E-02) eV/Ang\n",
      "    dipole      MAE (Best) / RMSE (Best):  3.19E-02 (3.11E-02) / 4.41E-02 (4.34E-02) eAng\n",
      "\n"
     ]
    },
    {
     "name": "stdout",
     "output_type": "stream",
     "text": [
      "Epoch   901 |##########################################| 100.0% Done - Epoch Time:  9.4 s, Loss:  0.1237   \r\n",
      "Epoch   902 |##########################################| 100.0% Done - Epoch Time:  8.9 s, Loss:  0.1266   \r\n",
      "Epoch   903 |##########################################| 100.0% Done - Epoch Time:  10.3 s, Loss:  0.1244   \r\n",
      "Epoch   904 |##########################################| 100.0% Done - Epoch Time:  9.9 s, Loss:  0.1297   \r\n",
      "Epoch   905 |##########################################| 100.0% Done - Epoch Time:  10.3 s, Loss:  0.1236   \r\n"
     ]
    },
    {
     "name": "stderr",
     "output_type": "stream",
     "text": [
      "INFO:asparagus.src.train.trainer:INFO:\n",
      "Summary Epoch: 905/1000\n",
      "  Loss   train / valid:  1.24E-01 / 2.62E-01  Best Loss valid: 2.53E-01\n",
      "  Property Metrics (valid):\n",
      "    energy      MAE (Best) / RMSE (Best):  2.74E-02 (2.92E-02) / 3.63E-02 (4.18E-02) eV\n",
      "    forces      MAE (Best) / RMSE (Best):  6.64E-02 (6.48E-02) / 9.75E-02 (9.56E-02) eV/Ang\n",
      "    dipole      MAE (Best) / RMSE (Best):  3.14E-02 (3.11E-02) / 4.38E-02 (4.34E-02) eAng\n",
      "\n"
     ]
    },
    {
     "name": "stdout",
     "output_type": "stream",
     "text": [
      "Epoch   906 |##########################################| 100.0% Done - Epoch Time:  9.9 s, Loss:  0.1214   \r\n",
      "Epoch   907 |##########################################| 100.0% Done - Epoch Time:  9.8 s, Loss:  0.1200   \r\n",
      "Epoch   908 |##########################################| 100.0% Done - Epoch Time:  12.5 s, Loss:  0.1246   \r\n",
      "Epoch   909 |##########################################| 100.0% Done - Epoch Time:  12.1 s, Loss:  0.1211   \r\n",
      "Epoch   910 |##########################################| 100.0% Done - Epoch Time:  6.7 s, Loss:  0.1239   \r\n"
     ]
    },
    {
     "name": "stderr",
     "output_type": "stream",
     "text": [
      "INFO:asparagus.src.train.trainer:INFO:\n",
      "Summary Epoch: 910/1000\n",
      "  Loss   train / valid:  1.24E-01 / 2.63E-01  Best Loss valid: 2.53E-01\n",
      "  Property Metrics (valid):\n",
      "    energy      MAE (Best) / RMSE (Best):  3.77E-02 (2.92E-02) / 4.84E-02 (4.18E-02) eV\n",
      "    forces      MAE (Best) / RMSE (Best):  6.63E-02 (6.48E-02) / 9.74E-02 (9.56E-02) eV/Ang\n",
      "    dipole      MAE (Best) / RMSE (Best):  3.19E-02 (3.11E-02) / 4.42E-02 (4.34E-02) eAng\n",
      "\n"
     ]
    },
    {
     "name": "stdout",
     "output_type": "stream",
     "text": [
      "Epoch   911 |##########################################| 100.0% Done - Epoch Time:  6.3 s, Loss:  0.1227   \r\n",
      "Epoch   912 |##########################################| 100.0% Done - Epoch Time:  6.2 s, Loss:  0.1222   \r\n",
      "Epoch   913 |##########################################| 100.0% Done - Epoch Time:  6.8 s, Loss:  0.1262   \r\n",
      "Epoch   914 |##########################################| 100.0% Done - Epoch Time:  7.6 s, Loss:  0.1267   \r\n",
      "Epoch   915 |##########################################| 100.0% Done - Epoch Time:  7.6 s, Loss:  0.1278   \r\n"
     ]
    },
    {
     "name": "stderr",
     "output_type": "stream",
     "text": [
      "INFO:asparagus.src.train.trainer:INFO:\n",
      "Summary Epoch: 915/1000\n",
      "  Loss   train / valid:  1.28E-01 / 2.60E-01  Best Loss valid: 2.53E-01\n",
      "  Property Metrics (valid):\n",
      "    energy      MAE (Best) / RMSE (Best):  3.47E-02 (2.92E-02) / 4.74E-02 (4.18E-02) eV\n",
      "    forces      MAE (Best) / RMSE (Best):  6.54E-02 (6.48E-02) / 9.68E-02 (9.56E-02) eV/Ang\n",
      "    dipole      MAE (Best) / RMSE (Best):  3.17E-02 (3.11E-02) / 4.40E-02 (4.34E-02) eAng\n",
      "\n"
     ]
    },
    {
     "name": "stdout",
     "output_type": "stream",
     "text": [
      "Epoch   916 |##########################################| 100.0% Done - Epoch Time:  7.6 s, Loss:  0.1265   \r\n",
      "Epoch   917 |##########################################| 100.0% Done - Epoch Time:  6.6 s, Loss:  0.1254   \r\n",
      "Epoch   918 |##########################################| 100.0% Done - Epoch Time:  6.4 s, Loss:  0.1211   \r\n",
      "Epoch   919 |##########################################| 100.0% Done - Epoch Time:  6.1 s, Loss:  0.1226   \r\n",
      "Epoch   920 |##########################################| 100.0% Done - Epoch Time:  6.1 s, Loss:  0.1254   \r\n"
     ]
    },
    {
     "name": "stderr",
     "output_type": "stream",
     "text": [
      "INFO:asparagus.src.train.trainer:INFO:\n",
      "Summary Epoch: 920/1000\n",
      "  Loss   train / valid:  1.25E-01 / 2.69E-01  Best Loss valid: 2.53E-01\n",
      "  Property Metrics (valid):\n",
      "    energy      MAE (Best) / RMSE (Best):  3.14E-02 (2.92E-02) / 4.30E-02 (4.18E-02) eV\n",
      "    forces      MAE (Best) / RMSE (Best):  6.75E-02 (6.48E-02) / 9.88E-02 (9.56E-02) eV/Ang\n",
      "    dipole      MAE (Best) / RMSE (Best):  3.11E-02 (3.11E-02) / 4.36E-02 (4.34E-02) eAng\n",
      "\n"
     ]
    },
    {
     "name": "stdout",
     "output_type": "stream",
     "text": [
      "Epoch   921 |##########################################| 100.0% Done - Epoch Time:  6.8 s, Loss:  0.1256   \r\n",
      "Epoch   922 |##########################################| 100.0% Done - Epoch Time:  6.2 s, Loss:  0.1192   \r\n",
      "Epoch   923 |##########################################| 100.0% Done - Epoch Time:  6.0 s, Loss:  0.1209   \r\n",
      "Epoch   924 |##########################################| 100.0% Done - Epoch Time:  6.2 s, Loss:  0.1215   \r\n",
      "Epoch   925 |##########################################| 100.0% Done - Epoch Time:  6.4 s, Loss:  0.1202   \r\n"
     ]
    },
    {
     "name": "stderr",
     "output_type": "stream",
     "text": [
      "INFO:asparagus.src.train.trainer:INFO:\n",
      "Summary Epoch: 925/1000\n",
      "  Loss   train / valid:  1.20E-01 / 2.57E-01  Best Loss valid: 2.53E-01\n",
      "  Property Metrics (valid):\n",
      "    energy      MAE (Best) / RMSE (Best):  2.72E-02 (2.92E-02) / 3.52E-02 (4.18E-02) eV\n",
      "    forces      MAE (Best) / RMSE (Best):  6.56E-02 (6.48E-02) / 9.65E-02 (9.56E-02) eV/Ang\n",
      "    dipole      MAE (Best) / RMSE (Best):  3.10E-02 (3.11E-02) / 4.32E-02 (4.34E-02) eAng\n",
      "\n"
     ]
    },
    {
     "name": "stdout",
     "output_type": "stream",
     "text": [
      "Epoch   926 |##########################################| 100.0% Done - Epoch Time:  7.7 s, Loss:  0.1221   \r\n",
      "Epoch   927 |##########################################| 100.0% Done - Epoch Time:  8.1 s, Loss:  0.1271   \r\n",
      "Epoch   928 |##########################################| 100.0% Done - Epoch Time:  7.9 s, Loss:  0.1252   \r\n",
      "Epoch   929 |##########################################| 100.0% Done - Epoch Time:  7.6 s, Loss:  0.1244   \r\n",
      "Epoch   930 |##########################################| 100.0% Done - Epoch Time:  7.2 s, Loss:  0.1187   \r\n"
     ]
    },
    {
     "name": "stderr",
     "output_type": "stream",
     "text": [
      "INFO:asparagus.src.train.tester:INFO:\n",
      "Summary for test set:\n",
      "  Property Metrics    MAE,       RMSE\n",
      "   energy           2.12e-02,  2.97e-02 eV\n",
      "   forces           6.28e-02,  9.45e-02 eV/Ang\n",
      "   dipole           3.11e-02,  4.14e-02 eAng\n",
      "\n",
      "INFO:asparagus.src.train.trainer:INFO:\n",
      "Summary Epoch: 930/1000\n",
      "  Loss   train / valid:  1.19E-01 / 2.52E-01  Best Loss valid: 2.52E-01\n",
      "  Property Metrics (valid):\n",
      "    energy      MAE (Best) / RMSE (Best):  2.19E-02 (2.19E-02) / 3.30E-02 (3.30E-02) eV\n",
      "    forces      MAE (Best) / RMSE (Best):  6.45E-02 (6.45E-02) / 9.55E-02 (9.55E-02) eV/Ang\n",
      "    dipole      MAE (Best) / RMSE (Best):  3.15E-02 (3.15E-02) / 4.36E-02 (4.36E-02) eAng\n",
      "\n"
     ]
    },
    {
     "name": "stdout",
     "output_type": "stream",
     "text": [
      "Epoch   931 |##########################################| 100.0% Done - Epoch Time:  7.5 s, Loss:  0.1191   \r\n",
      "Epoch   932 |##########################################| 100.0% Done - Epoch Time:  7.6 s, Loss:  0.1224   \r\n",
      "Epoch   933 |##########################################| 100.0% Done - Epoch Time:  8.3 s, Loss:  0.1227   \r\n",
      "Epoch   934 |##########################################| 100.0% Done - Epoch Time:  10.7 s, Loss:  0.1195   \r\n",
      "Epoch   935 |##########################################| 100.0% Done - Epoch Time:  9.7 s, Loss:  0.1222   \r\n"
     ]
    },
    {
     "name": "stderr",
     "output_type": "stream",
     "text": [
      "INFO:asparagus.src.train.trainer:INFO:\n",
      "Summary Epoch: 935/1000\n",
      "  Loss   train / valid:  1.22E-01 / 2.59E-01  Best Loss valid: 2.52E-01\n",
      "  Property Metrics (valid):\n",
      "    energy      MAE (Best) / RMSE (Best):  2.77E-02 (2.19E-02) / 3.84E-02 (3.30E-02) eV\n",
      "    forces      MAE (Best) / RMSE (Best):  6.58E-02 (6.45E-02) / 9.69E-02 (9.55E-02) eV/Ang\n",
      "    dipole      MAE (Best) / RMSE (Best):  3.15E-02 (3.15E-02) / 4.35E-02 (4.36E-02) eAng\n",
      "\n"
     ]
    },
    {
     "name": "stdout",
     "output_type": "stream",
     "text": [
      "Epoch   936 |##########################################| 100.0% Done - Epoch Time:  9.9 s, Loss:  0.1228   \r\n",
      "Epoch   937 |##########################################| 100.0% Done - Epoch Time:  10.3 s, Loss:  0.1206   \r\n",
      "Epoch   938 |##########################################| 100.0% Done - Epoch Time:  9.6 s, Loss:  0.1173   \r\n",
      "Epoch   939 |##########################################| 100.0% Done - Epoch Time:  7.5 s, Loss:  0.1164   \r\n",
      "Epoch   940 |##########################################| 100.0% Done - Epoch Time:  8.9 s, Loss:  0.1184   \r\n"
     ]
    },
    {
     "name": "stderr",
     "output_type": "stream",
     "text": [
      "INFO:asparagus.src.train.trainer:INFO:\n",
      "Summary Epoch: 940/1000\n",
      "  Loss   train / valid:  1.18E-01 / 2.54E-01  Best Loss valid: 2.52E-01\n",
      "  Property Metrics (valid):\n",
      "    energy      MAE (Best) / RMSE (Best):  3.61E-02 (2.19E-02) / 4.54E-02 (3.30E-02) eV\n",
      "    forces      MAE (Best) / RMSE (Best):  6.49E-02 (6.45E-02) / 9.60E-02 (9.55E-02) eV/Ang\n",
      "    dipole      MAE (Best) / RMSE (Best):  3.06E-02 (3.15E-02) / 4.28E-02 (4.36E-02) eAng\n",
      "\n"
     ]
    },
    {
     "name": "stdout",
     "output_type": "stream",
     "text": [
      "Epoch   941 |##########################################| 100.0% Done - Epoch Time:  9.5 s, Loss:  0.1214   \r\n",
      "Epoch   942 |##########################################| 100.0% Done - Epoch Time:  9.9 s, Loss:  0.1200   \r\n",
      "Epoch   943 |##########################################| 100.0% Done - Epoch Time:  8.9 s, Loss:  0.1192   \r\n",
      "Epoch   944 |##########################################| 100.0% Done - Epoch Time:  9.3 s, Loss:  0.1176   \r\n",
      "Epoch   945 |##########################################| 100.0% Done - Epoch Time:  9.8 s, Loss:  0.1188   \r\n"
     ]
    },
    {
     "name": "stderr",
     "output_type": "stream",
     "text": [
      "INFO:asparagus.src.train.trainer:INFO:\n",
      "Summary Epoch: 945/1000\n",
      "  Loss   train / valid:  1.19E-01 / 2.57E-01  Best Loss valid: 2.52E-01\n",
      "  Property Metrics (valid):\n",
      "    energy      MAE (Best) / RMSE (Best):  3.46E-02 (2.19E-02) / 4.33E-02 (3.30E-02) eV\n",
      "    forces      MAE (Best) / RMSE (Best):  6.56E-02 (6.45E-02) / 9.66E-02 (9.55E-02) eV/Ang\n",
      "    dipole      MAE (Best) / RMSE (Best):  3.12E-02 (3.15E-02) / 4.32E-02 (4.36E-02) eAng\n",
      "\n"
     ]
    },
    {
     "name": "stdout",
     "output_type": "stream",
     "text": [
      "Epoch   946 |##########################################| 100.0% Done - Epoch Time:  9.0 s, Loss:  0.1185   \r\n",
      "Epoch   947 |##########################################| 100.0% Done - Epoch Time:  9.1 s, Loss:  0.1217   \r\n",
      "Epoch   948 |##########################################| 100.0% Done - Epoch Time:  9.9 s, Loss:  0.1242   \r\n",
      "Epoch   949 |##########################################| 100.0% Done - Epoch Time:  9.1 s, Loss:  0.1203   \r\n",
      "Epoch   950 |##########################################| 100.0% Done - Epoch Time:  9.2 s, Loss:  0.1245   \r\n"
     ]
    },
    {
     "name": "stderr",
     "output_type": "stream",
     "text": [
      "INFO:asparagus.src.train.trainer:INFO:\n",
      "Summary Epoch: 950/1000\n",
      "  Loss   train / valid:  1.24E-01 / 2.69E-01  Best Loss valid: 2.52E-01\n",
      "  Property Metrics (valid):\n",
      "    energy      MAE (Best) / RMSE (Best):  2.82E-02 (2.19E-02) / 3.84E-02 (3.30E-02) eV\n",
      "    forces      MAE (Best) / RMSE (Best):  6.69E-02 (6.45E-02) / 9.88E-02 (9.55E-02) eV/Ang\n",
      "    dipole      MAE (Best) / RMSE (Best):  3.14E-02 (3.15E-02) / 4.39E-02 (4.36E-02) eAng\n",
      "\n"
     ]
    },
    {
     "name": "stdout",
     "output_type": "stream",
     "text": [
      "Epoch   951 |##########################################| 100.0% Done - Epoch Time:  9.0 s, Loss:  0.1249   \r\n",
      "Epoch   952 |##########################################| 100.0% Done - Epoch Time:  8.3 s, Loss:  0.1236   \r\n",
      "Epoch   953 |##########################################| 100.0% Done - Epoch Time:  12.3 s, Loss:  0.1234   \r\n",
      "Epoch   954 |##########################################| 100.0% Done - Epoch Time:  6.3 s, Loss:  0.1205   \r\n",
      "Epoch   955 |##########################################| 100.0% Done - Epoch Time:  6.2 s, Loss:  0.1205   \r\n"
     ]
    },
    {
     "name": "stderr",
     "output_type": "stream",
     "text": [
      "INFO:asparagus.src.train.trainer:INFO:\n",
      "Summary Epoch: 955/1000\n",
      "  Loss   train / valid:  1.20E-01 / 2.55E-01  Best Loss valid: 2.52E-01\n",
      "  Property Metrics (valid):\n",
      "    energy      MAE (Best) / RMSE (Best):  3.16E-02 (2.19E-02) / 4.30E-02 (3.30E-02) eV\n",
      "    forces      MAE (Best) / RMSE (Best):  6.57E-02 (6.45E-02) / 9.61E-02 (9.55E-02) eV/Ang\n",
      "    dipole      MAE (Best) / RMSE (Best):  3.09E-02 (3.15E-02) / 4.34E-02 (4.36E-02) eAng\n",
      "\n"
     ]
    },
    {
     "name": "stdout",
     "output_type": "stream",
     "text": [
      "Epoch   956 |##########################################| 100.0% Done - Epoch Time:  6.1 s, Loss:  0.1234   \r\n",
      "Epoch   957 |##########################################| 100.0% Done - Epoch Time:  6.6 s, Loss:  0.1202   \r\n",
      "Epoch   958 |##########################################| 100.0% Done - Epoch Time:  7.5 s, Loss:  0.1177   \r\n",
      "Epoch   959 |##########################################| 100.0% Done - Epoch Time:  7.5 s, Loss:  0.1182   \r\n",
      "Epoch   960 |##########################################| 100.0% Done - Epoch Time:  7.5 s, Loss:  0.1175   \r\n"
     ]
    },
    {
     "name": "stderr",
     "output_type": "stream",
     "text": [
      "INFO:asparagus.src.train.trainer:INFO:\n",
      "Summary Epoch: 960/1000\n",
      "  Loss   train / valid:  1.18E-01 / 2.61E-01  Best Loss valid: 2.52E-01\n",
      "  Property Metrics (valid):\n",
      "    energy      MAE (Best) / RMSE (Best):  3.32E-02 (2.19E-02) / 4.41E-02 (3.30E-02) eV\n",
      "    forces      MAE (Best) / RMSE (Best):  6.63E-02 (6.45E-02) / 9.72E-02 (9.55E-02) eV/Ang\n",
      "    dipole      MAE (Best) / RMSE (Best):  3.23E-02 (3.15E-02) / 4.41E-02 (4.36E-02) eAng\n",
      "\n"
     ]
    },
    {
     "name": "stdout",
     "output_type": "stream",
     "text": [
      "Epoch   961 |##########################################| 100.0% Done - Epoch Time:  6.8 s, Loss:  0.1217   \r\n",
      "Epoch   962 |##########################################| 100.0% Done - Epoch Time:  6.1 s, Loss:  0.1196   \r\n",
      "Epoch   963 |##########################################| 100.0% Done - Epoch Time:  6.1 s, Loss:  0.1197   \r\n",
      "Epoch   964 |##########################################| 100.0% Done - Epoch Time:  6.2 s, Loss:  0.1167   \r\n",
      "Epoch   965 |##########################################| 100.0% Done - Epoch Time:  6.1 s, Loss:  0.1197   \r\n"
     ]
    },
    {
     "name": "stderr",
     "output_type": "stream",
     "text": [
      "INFO:asparagus.src.train.tester:INFO:\n",
      "Summary for test set:\n",
      "  Property Metrics    MAE,       RMSE\n",
      "   energy           2.81e-02,  3.34e-02 eV\n",
      "   forces           6.19e-02,  9.30e-02 eV/Ang\n",
      "   dipole           3.01e-02,  4.03e-02 eAng\n",
      "\n",
      "INFO:asparagus.src.train.trainer:INFO:\n",
      "Summary Epoch: 965/1000\n",
      "  Loss   train / valid:  1.20E-01 / 2.45E-01  Best Loss valid: 2.45E-01\n",
      "  Property Metrics (valid):\n",
      "    energy      MAE (Best) / RMSE (Best):  2.97E-02 (2.97E-02) / 3.82E-02 (3.82E-02) eV\n",
      "    forces      MAE (Best) / RMSE (Best):  6.39E-02 (6.39E-02) / 9.40E-02 (9.40E-02) eV/Ang\n",
      "    dipole      MAE (Best) / RMSE (Best):  3.05E-02 (3.05E-02) / 4.27E-02 (4.27E-02) eAng\n",
      "\n"
     ]
    },
    {
     "name": "stdout",
     "output_type": "stream",
     "text": [
      "Epoch   966 |##########################################| 100.0% Done - Epoch Time:  6.0 s, Loss:  0.1175   \r\n",
      "Epoch   967 |##########################################| 100.0% Done - Epoch Time:  5.8 s, Loss:  0.1258   \r\n",
      "Epoch   968 |##########################################| 100.0% Done - Epoch Time:  6.0 s, Loss:  0.1261   \r\n",
      "Epoch   969 |##########################################| 100.0% Done - Epoch Time:  6.3 s, Loss:  0.1294   \r\n",
      "Epoch   970 |##########################################| 100.0% Done - Epoch Time:  7.9 s, Loss:  0.1188   \r\n"
     ]
    },
    {
     "name": "stderr",
     "output_type": "stream",
     "text": [
      "INFO:asparagus.src.train.trainer:INFO:\n",
      "Summary Epoch: 970/1000\n",
      "  Loss   train / valid:  1.19E-01 / 2.57E-01  Best Loss valid: 2.45E-01\n",
      "  Property Metrics (valid):\n",
      "    energy      MAE (Best) / RMSE (Best):  3.04E-02 (2.97E-02) / 3.84E-02 (3.82E-02) eV\n",
      "    forces      MAE (Best) / RMSE (Best):  6.57E-02 (6.39E-02) / 9.64E-02 (9.40E-02) eV/Ang\n",
      "    dipole      MAE (Best) / RMSE (Best):  3.24E-02 (3.05E-02) / 4.41E-02 (4.27E-02) eAng\n",
      "\n"
     ]
    },
    {
     "name": "stdout",
     "output_type": "stream",
     "text": [
      "Epoch   971 |##########################################| 100.0% Done - Epoch Time:  8.0 s, Loss:  0.1163   \r\n",
      "Epoch   972 |##########################################| 100.0% Done - Epoch Time:  7.6 s, Loss:  0.1164   \r\n",
      "Epoch   973 |##########################################| 100.0% Done - Epoch Time:  9.0 s, Loss:  0.1207   \r\n",
      "Epoch   974 |##########################################| 100.0% Done - Epoch Time:  7.7 s, Loss:  0.1192   \r\n",
      "Epoch   975 |##########################################| 100.0% Done - Epoch Time:  7.5 s, Loss:  0.1163   \r\n"
     ]
    },
    {
     "name": "stderr",
     "output_type": "stream",
     "text": [
      "INFO:asparagus.src.train.trainer:INFO:\n",
      "Summary Epoch: 975/1000\n",
      "  Loss   train / valid:  1.16E-01 / 2.54E-01  Best Loss valid: 2.45E-01\n",
      "  Property Metrics (valid):\n",
      "    energy      MAE (Best) / RMSE (Best):  3.44E-02 (2.97E-02) / 4.36E-02 (3.82E-02) eV\n",
      "    forces      MAE (Best) / RMSE (Best):  6.51E-02 (6.39E-02) / 9.59E-02 (9.40E-02) eV/Ang\n",
      "    dipole      MAE (Best) / RMSE (Best):  3.10E-02 (3.05E-02) / 4.33E-02 (4.27E-02) eAng\n",
      "\n"
     ]
    },
    {
     "name": "stdout",
     "output_type": "stream",
     "text": [
      "Epoch   976 |##########################################| 100.0% Done - Epoch Time:  6.9 s, Loss:  0.1205   \r\n",
      "Epoch   977 |##########################################| 100.0% Done - Epoch Time:  7.0 s, Loss:  0.1181   \r\n",
      "Epoch   978 |##########################################| 100.0% Done - Epoch Time:  9.1 s, Loss:  0.1140   \r\n",
      "Epoch   979 |##########################################| 100.0% Done - Epoch Time:  9.9 s, Loss:  0.1148   \r\n",
      "Epoch   980 |##########################################| 100.0% Done - Epoch Time:  8.6 s, Loss:  0.1168   \r\n"
     ]
    },
    {
     "name": "stderr",
     "output_type": "stream",
     "text": [
      "INFO:asparagus.src.train.trainer:INFO:\n",
      "Summary Epoch: 980/1000\n",
      "  Loss   train / valid:  1.17E-01 / 2.53E-01  Best Loss valid: 2.45E-01\n",
      "  Property Metrics (valid):\n",
      "    energy      MAE (Best) / RMSE (Best):  3.40E-02 (2.97E-02) / 4.27E-02 (3.82E-02) eV\n",
      "    forces      MAE (Best) / RMSE (Best):  6.46E-02 (6.39E-02) / 9.57E-02 (9.40E-02) eV/Ang\n",
      "    dipole      MAE (Best) / RMSE (Best):  3.10E-02 (3.05E-02) / 4.30E-02 (4.27E-02) eAng\n",
      "\n"
     ]
    },
    {
     "name": "stdout",
     "output_type": "stream",
     "text": [
      "Epoch   981 |##########################################| 100.0% Done - Epoch Time:  8.7 s, Loss:  0.1160   \r\n",
      "Epoch   982 |##########################################| 100.0% Done - Epoch Time:  8.6 s, Loss:  0.1132   \r\n",
      "Epoch   983 |##########################################| 100.0% Done - Epoch Time:  7.8 s, Loss:  0.1114   \r\n",
      "Epoch   984 |##########################################| 100.0% Done - Epoch Time:  6.4 s, Loss:  0.1121   \r\n",
      "Epoch   985 |##########################################| 100.0% Done - Epoch Time:  8.0 s, Loss:  0.1129   \r\n"
     ]
    },
    {
     "name": "stderr",
     "output_type": "stream",
     "text": [
      "INFO:asparagus.src.train.trainer:INFO:\n",
      "Summary Epoch: 985/1000\n",
      "  Loss   train / valid:  1.13E-01 / 2.50E-01  Best Loss valid: 2.45E-01\n",
      "  Property Metrics (valid):\n",
      "    energy      MAE (Best) / RMSE (Best):  2.84E-02 (2.97E-02) / 3.75E-02 (3.82E-02) eV\n",
      "    forces      MAE (Best) / RMSE (Best):  6.46E-02 (6.39E-02) / 9.53E-02 (9.40E-02) eV/Ang\n",
      "    dipole      MAE (Best) / RMSE (Best):  3.03E-02 (3.05E-02) / 4.23E-02 (4.27E-02) eAng\n",
      "\n"
     ]
    },
    {
     "name": "stdout",
     "output_type": "stream",
     "text": [
      "Epoch   986 |##########################################| 100.0% Done - Epoch Time:  8.6 s, Loss:  0.1124   \r\n",
      "Epoch   987 |##########################################| 100.0% Done - Epoch Time:  9.0 s, Loss:  0.1124   \r\n",
      "Epoch   988 |##########################################| 100.0% Done - Epoch Time:  9.0 s, Loss:  0.1141   \r\n",
      "Epoch   989 |##########################################| 100.0% Done - Epoch Time:  8.9 s, Loss:  0.1139   \r\n",
      "Epoch   990 |##########################################| 100.0% Done - Epoch Time:  9.1 s, Loss:  0.1123   \r\n"
     ]
    },
    {
     "name": "stderr",
     "output_type": "stream",
     "text": [
      "INFO:asparagus.src.train.trainer:INFO:\n",
      "Summary Epoch: 990/1000\n",
      "  Loss   train / valid:  1.12E-01 / 2.50E-01  Best Loss valid: 2.45E-01\n",
      "  Property Metrics (valid):\n",
      "    energy      MAE (Best) / RMSE (Best):  2.77E-02 (2.97E-02) / 3.68E-02 (3.82E-02) eV\n",
      "    forces      MAE (Best) / RMSE (Best):  6.46E-02 (6.39E-02) / 9.52E-02 (9.40E-02) eV/Ang\n",
      "    dipole      MAE (Best) / RMSE (Best):  3.05E-02 (3.05E-02) / 4.27E-02 (4.27E-02) eAng\n",
      "\n"
     ]
    },
    {
     "name": "stdout",
     "output_type": "stream",
     "text": [
      "Epoch   991 |##########################################| 100.0% Done - Epoch Time:  8.9 s, Loss:  0.1154   \r\n",
      "Epoch   992 |##########################################| 100.0% Done - Epoch Time:  9.4 s, Loss:  0.1220   \r\n",
      "Epoch   993 |##########################################| 100.0% Done - Epoch Time:  8.6 s, Loss:  0.1350   \r\n",
      "Epoch   994 |##########################################| 100.0% Done - Epoch Time:  9.3 s, Loss:  0.1222   \r\n",
      "Epoch   995 |##########################################| 100.0% Done - Epoch Time:  8.5 s, Loss:  0.1199   \r\n"
     ]
    },
    {
     "name": "stderr",
     "output_type": "stream",
     "text": [
      "INFO:asparagus.src.train.trainer:INFO:\n",
      "Summary Epoch: 995/1000\n",
      "  Loss   train / valid:  1.20E-01 / 2.58E-01  Best Loss valid: 2.45E-01\n",
      "  Property Metrics (valid):\n",
      "    energy      MAE (Best) / RMSE (Best):  2.45E-02 (2.97E-02) / 3.61E-02 (3.82E-02) eV\n",
      "    forces      MAE (Best) / RMSE (Best):  6.66E-02 (6.39E-02) / 9.68E-02 (9.40E-02) eV/Ang\n",
      "    dipole      MAE (Best) / RMSE (Best):  3.09E-02 (3.05E-02) / 4.30E-02 (4.27E-02) eAng\n",
      "\n"
     ]
    },
    {
     "name": "stdout",
     "output_type": "stream",
     "text": [
      "Epoch   996 |##########################################| 100.0% Done - Epoch Time:  9.5 s, Loss:  0.1141   \r\n",
      "Epoch   997 |##########################################| 100.0% Done - Epoch Time:  8.9 s, Loss:  0.1110   \r\n",
      "Epoch   998 |##########################################| 100.0% Done - Epoch Time:  8.1 s, Loss:  0.1116   \r\n",
      "Epoch   999 |#######################################---| 93.3% Complete - Remaining Epoch Time:  0.4 s     \r"
     ]
    },
    {
     "name": "stderr",
     "output_type": "stream",
     "text": [
      "INFO:asparagus.src.settings.config:INFO:\n",
      "Global parameter configuration update of 'sn2_config.json'.\n",
      "Current configuration entries will be overwritten in case of conflicting entries.\n",
      "\n",
      "INFO:asparagus.src.settings.config:INFO:\n",
      "Global parameter configuration update of 'sn2_config.json'.\n",
      "Current configuration entries will be overwritten in case of conflicting entries.\n",
      "\n",
      "INFO:asparagus.src.settings.config:INFO:\n",
      "Conflict! Overwrite parameter 'data_container'.\n",
      "Conflict! Overwrite parameter 'test_datasets'.\n",
      "Conflict! Overwrite parameter 'test_properties'.\n",
      "Conflict! Overwrite parameter 'test_store_neighbor_list'.\n",
      "\n"
     ]
    },
    {
     "name": "stdout",
     "output_type": "stream",
     "text": [
      "Epoch   999 |##########################################| 100.0% Done - Epoch Time:  11.1 s, Loss:  0.1129   \r\n"
     ]
    },
    {
     "name": "stderr",
     "output_type": "stream",
     "text": [
      "INFO:asparagus.src.train.tester:INFO:\n",
      "Summary for train set:\n",
      "  Property Metrics    MAE,       RMSE\n",
      "   energy           2.81e-02,  3.43e-02 eV\n",
      "   forces           4.42e-02,  6.16e-02 eV/Ang\n",
      "   dipole           2.65e-02,  3.63e-02 eAng\n",
      "\n",
      "INFO:asparagus.src.train.tester:INFO:\n",
      "Summary for valid set:\n",
      "  Property Metrics    MAE,       RMSE\n",
      "   energy           2.97e-02,  3.82e-02 eV\n",
      "   forces           6.39e-02,  9.40e-02 eV/Ang\n",
      "   dipole           3.05e-02,  4.27e-02 eAng\n",
      "\n",
      "INFO:asparagus.src.train.tester:INFO:\n",
      "Summary for test set:\n",
      "  Property Metrics    MAE,       RMSE\n",
      "   energy           2.81e-02,  3.34e-02 eV\n",
      "   forces           6.19e-02,  9.30e-02 eV/Ang\n",
      "   dipole           3.01e-02,  4.03e-02 eAng\n",
      "\n"
     ]
    }
   ],
   "source": [
    "from asparagus import Asparagus\n",
    "\n",
    "model = Asparagus(\n",
    "    config='sn2_config.json',\n",
    "    data_file='meta.db',\n",
    "    model_device='gpu',\n",
    "    model_directory='sn2_model',\n",
    "    model_properties=['energy', 'forces', 'dipole'],\n",
    "    model_interaction_cutoff=8.0,\n",
    "    trainer_properties_weights={\n",
    "        'energy': 1.,\n",
    "        'forces': 50.,\n",
    "        'dipole': 25.\n",
    "        },\n",
    "    trainer_max_epochs=1_000,\n",
    "    )\n",
    "model.train()\n",
    "model.test(\n",
    "    test_datasets='all',\n",
    "    test_directory=model.get('model_directory'))"
   ],
   "metadata": {
    "collapsed": false,
    "ExecuteTime": {
     "end_time": "2023-12-20T19:54:17.791468433Z",
     "start_time": "2023-12-20T17:15:58.613722278Z"
    }
   },
   "id": "dbf15379e3096b0e"
  },
  {
   "cell_type": "code",
   "execution_count": null,
   "outputs": [],
   "source": [],
   "metadata": {
    "collapsed": false
   },
   "id": "a7ef8c09634f8209"
  }
 ],
 "metadata": {
  "kernelspec": {
   "display_name": "Python 3",
   "language": "python",
   "name": "python3"
  },
  "language_info": {
   "codemirror_mode": {
    "name": "ipython",
    "version": 2
   },
   "file_extension": ".py",
   "mimetype": "text/x-python",
   "name": "python",
   "nbconvert_exporter": "python",
   "pygments_lexer": "ipython2",
   "version": "2.7.6"
  }
 },
 "nbformat": 4,
 "nbformat_minor": 5
}
