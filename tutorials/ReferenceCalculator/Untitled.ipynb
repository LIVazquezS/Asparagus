{
 "cells": [
  {
   "cell_type": "code",
   "execution_count": 1,
   "id": "d91f07d4-5327-45a7-beb0-21b40512d199",
   "metadata": {},
   "outputs": [],
   "source": [
    "import sys\n",
    "sys.path.insert(0, '/home/toepfer/Documents/Project_PhysNet3/KaiAsparagus')"
   ]
  },
  {
   "cell_type": "markdown",
   "id": "5bb6ec35-819e-404a-b824-a4dca19ba88a",
   "metadata": {},
   "source": [
    "# Reference Calculation on Local Workstations or Clusters"
   ]
  },
  {
   "cell_type": "code",
   "execution_count": 5,
   "id": "2bf4f3b0-c52c-4345-af94-2d1098bb4b91",
   "metadata": {},
   "outputs": [],
   "source": [
    "from asparagus.sample import Sampler\n",
    "sampler = Sampler(\n",
    "    config='smpl_nh3.json',\n",
    "    sample_data_file='smpl_nh3.db',\n",
    "    sample_systems='ref/meta_nh3.traj',\n",
    "    sample_calculator='shell',\n",
    "    sample_calculator_args = {\n",
    "        'files': [\n",
    "            'template/shell/run_orca.sh',\n",
    "            'template/shell/run_orca.inp',\n",
    "            'template/shell/run_orca.py',\n",
    "            ],\n",
    "        'files_replace': {\n",
    "            '%xyz%': '$xyz',\n",
    "            '%charge%': '$charge',\n",
    "            '%multiplicity%': '$multiplicity',\n",
    "            },\n",
    "        'execute_file': 'template/shell/run_orca.sh',\n",
    "        'charge': 0,\n",
    "        'multiplicity': 1,\n",
    "        'directory': 'shell',\n",
    "        'result_properties': ['energy', 'forces', 'dipole']\n",
    "        },\n",
    "    sample_num_threads=4,\n",
    "    sample_save_trajectory=True,\n",
    "    )\n",
    "#sampler.run()"
   ]
  },
  {
   "cell_type": "markdown",
   "id": "246bc626-ca79-48f4-a7dd-6b891fbdf3a6",
   "metadata": {},
   "source": [
    "The shell scripts will be executed by asparagures using ```bash run_orca.sh```"
   ]
  },
  {
   "cell_type": "markdown",
   "id": "e6b7abef-a53c-47b3-a7bf-d8dcae85cc89",
   "metadata": {},
   "source": [
    "run_orca.sh\n",
    "```\n",
    "rm -f run_orca.gbw run_orca.ges\n",
    "orca run_orca.inp > run_orca.out\n",
    "python run_orca.py\n",
    "```"
   ]
  },
  {
   "cell_type": "markdown",
   "id": "dd5f5e0a-a5bc-4e91-988e-fc3ac8150775",
   "metadata": {},
   "source": [
    "run_orca.inp\n",
    "```\n",
    "! engrad RI PBE D3BJ def2-SVP def2/J TightSCF \n",
    "%pal nprocs 1 end \n",
    "*xyz %charge% %multiplicity%\n",
    "%xyz%\n",
    "*\n",
    "\n",
    "```\n",
    "becomes\n",
    "```\n",
    "! engrad RI PBE D3BJ def2-SVP def2/J TightSCF \n",
    "%pal nprocs 1 end \n",
    "*xyz 0 1\n",
    "N     0.07351617  -0.00534278  -0.23603505 \n",
    "H    -1.03994361  -0.03392835  -0.40634277 \n",
    "H     0.31140533   0.88603402  -0.62595885 \n",
    "H     0.48690189  -0.79495547  -0.78437965 \n",
    "*\n",
    "``"
   ]
  },
  {
   "cell_type": "markdown",
   "id": "2ee9f9f6-1571-4ee5-891e-36949fd4316e",
   "metadata": {},
   "source": [
    "run_orca.py\n",
    "```\n",
    "import os\n",
    "import re\n",
    "import json\n",
    "\n",
    "import numpy as np\n",
    "\n",
    "from ase import units\n",
    "\n",
    "# Orca output and result file path\n",
    "output_file = \"run_orca.out\"\n",
    "gradient_file = \"run_orca.engrad\"\n",
    "result_file = \"results.json\"\n",
    "\n",
    "def save_results(results, result_file):\n",
    "    \"\"\"\n",
    "    Save result dictionary as json file\n",
    "    \"\"\"\n",
    "    with open(result_file, 'w') as f:\n",
    "        json.dump(results, f)\n",
    "\n",
    "# If output file not written, save empty result dictionary\n",
    "if not os.path.exists(\"run_orca.out\"):\n",
    "    save_results({}, result_file)\n",
    "    exit()\n",
    "\n",
    "# Initialize result dictionary\n",
    "results = {}\n",
    "\n",
    "# Read output file\n",
    "with open(output_file, 'r') as f:\n",
    "    flines = f.read()\n",
    "\n",
    "# Read energy\n",
    "re_energy = re.compile(r\"FINAL SINGLE POINT ENERGY.*\\n\")\n",
    "re_not_converged = re.compile(r\"Wavefunction not fully converged\")\n",
    "found_line = re_energy.search(flines)\n",
    "if found_line and not re_not_converged.search(found_line.group()):\n",
    "    results['energy'] = float(found_line.group().split()[-1])*units.Hartree\n",
    "\n",
    "# Read dipole\n",
    "re_dipole = re.compile(r\"Total Dipole Moment.*\\n\")\n",
    "re_not_converged = re.compile(r\"Wavefunction not fully converged\")\n",
    "found_line = re_dipole.search(flines)\n",
    "if found_line and not re_not_converged.search(found_line.group()):\n",
    "    results['dipole'] = list(np.array(\n",
    "        found_line.group().split()[-3:], dtype=float)*units.Bohr)\n",
    "\n",
    "# Read gradient file\n",
    "with open(gradient_file, 'r') as f:\n",
    "    flines = f.readlines()\n",
    "\n",
    "# Read forces\n",
    "getgrad = False\n",
    "gradients = []\n",
    "tempgrad = []\n",
    "for i, line in enumerate(flines):\n",
    "    if line.find('# The current gradient') >= 0:\n",
    "        getgrad = True\n",
    "        gradients = []\n",
    "        tempgrad = []\n",
    "        continue\n",
    "    if getgrad and \"#\" not in line:\n",
    "        grad = line.split()[-1]\n",
    "        tempgrad.append(float(grad))\n",
    "        if len(tempgrad) == 3:\n",
    "            gradients.append(tempgrad)\n",
    "            tempgrad = []\n",
    "    if '# The at' in line:\n",
    "        getgrad = False\n",
    "results['forces'] = [\n",
    "    list(-np.array(grad_i)*units.Hartree/units.Bohr)\n",
    "    for grad_i in gradients]\n",
    "\n",
    "# Save results\n",
    "save_results(results, result_file)\n",
    "```"
   ]
  },
  {
   "cell_type": "markdown",
   "id": "12bc5c3f-d941-48b2-80c8-27c99150da6b",
   "metadata": {},
   "source": [
    "with result .json file read by Asparagus\n",
    "```\n",
    "{\"energy\": -1535.4234625489537,\n",
    " \"dipole\": [-0.08876947707208435, 0.02660703014714993, -0.33175706861878895],\n",
    " \"forces\": [\n",
    "   [-3.235397732194288, -1.474455583716518, 0.3764568818272469],\n",
    "   [2.949547650701895, -0.22134084646210062, 0.3515452359394994],\n",
    "   [0.6608213322874061, 0.8358449528315552, -0.7880407905321968],\n",
    "   [-0.3749712507435909, 0.8599514773470633, 0.06003867276545045]]}\n",
    "```"
   ]
  },
  {
   "cell_type": "code",
   "execution_count": null,
   "id": "b36553b3-1952-4fc4-aa71-dc8e0f795628",
   "metadata": {},
   "outputs": [],
   "source": []
  }
 ],
 "metadata": {
  "kernelspec": {
   "display_name": "Python 3 (ipykernel)",
   "language": "python",
   "name": "python3"
  },
  "language_info": {
   "codemirror_mode": {
    "name": "ipython",
    "version": 3
   },
   "file_extension": ".py",
   "mimetype": "text/x-python",
   "name": "python",
   "nbconvert_exporter": "python",
   "pygments_lexer": "ipython3",
   "version": "3.11.5"
  }
 },
 "nbformat": 4,
 "nbformat_minor": 5
}
