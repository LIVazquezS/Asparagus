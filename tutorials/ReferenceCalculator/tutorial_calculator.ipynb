{
 "cells": [
  {
   "cell_type": "code",
   "execution_count": 2,
   "id": "d91f07d4-5327-45a7-beb0-21b40512d199",
   "metadata": {},
   "outputs": [],
   "source": [
    "import sys\n",
    "sys.path.insert(0, '/home/toepfer/Documents/Project_PhysNet3/KaiAsparagus')"
   ]
  },
  {
   "cell_type": "markdown",
   "id": "5bb6ec35-819e-404a-b824-a4dca19ba88a",
   "metadata": {},
   "source": [
    "# Reference Calculation on Local Workstations or Clusters\n",
    "\n",
    "Asparagus provides a low-level sample calculator ```'shell'``` for local execution on a linux shell (e.g. ```bash```) or ```'slurm'``` for executions with the 'slurm' job manangement system. It is a low-level option, as it requires template files specifically modified for the used quantumchemistry program, calculation options and required system properties. The following tutorial shows two examples with the ```'shell'``` and ```'slurm'``` calculator for a set of ammonia structures stored in an ASE trajectory file or a Asparagus database file.\n",
    "The first example computes energy, forces and molecular dipole moment of a set of ammonia structures. The difference to the ```Sampler``` example in the sampling tutorial are, more or less, just the calculator arguments ```sample_calculator``` and ```sample_calculator_args```.\n",
    "\n",
    "## Reference Calculation on Local Workstations with ```'shell'```\n",
    "\n",
    "The sample calculator ```'shell'``` works as follows. \n",
    "The template files in the list ```'files'``` in ```sample_calculator_args``` will be read, modified for the specific sample and written to the respective working directory. The modification are replacing certain tag labels in the template files (keys in ```'files_replace'``` in ```sample_calculator_args``` ) with system specific properties such as the Cartesian positions in a ```xyz``` format (```'$xyz'```). The first file in the template file list (or in ```'execute_file'```) will be executed in the working directory by the command ```bash run_orca.sh```. The shell script file ```run_orca.sh``` will call ```ORCA``` with the system specific input file ```run_orca.inp``` and execute the python script ```run_orca.py``` second that reads the requested system properties from the ```ORCA``` output file and stores them in ```results.json```. "
   ]
  },
  {
   "cell_type": "code",
   "execution_count": 3,
   "id": "2bf4f3b0-c52c-4345-af94-2d1098bb4b91",
   "metadata": {},
   "outputs": [
    {
     "name": "stderr",
     "output_type": "stream",
     "text": [
      "INFO:asparagus.settings.config:INFO:\n",
      "Configuration file path set to 'smpl_nh3.json'!\n",
      "\n",
      "INFO:asparagus.settings.config:INFO:\n",
      "Parameter update in 'smpl_nh3.json'\n",
      "  (overwrite conflicts)\n",
      "Adding parameter 'sampler_schedule'.\n",
      "Adding parameter 'sample_counter'.\n",
      "2 new parameter, 2 added, 0 equal, 0 overwritten\n",
      "\n",
      "INFO:asparagus.sample.sampler:INFO:\n",
      "Perform sampling method 'sample' on systems:\n",
      "   1. 'ref/meta_nh3.traj'\n",
      "\n",
      "INFO:asparagus.sample.sampler:INFO:\n",
      "Sampling method 'sample' complete for system from 'ref/meta_nh3.traj!'\n",
      "2 samples written to 'smpl_nh3.db'.\n",
      "\n",
      "INFO:asparagus.sample.sampler:INFO:\n",
      "Sampling method 'sample' complete for system from 'ref/meta_nh3.traj!'\n",
      "3 samples written to 'smpl_nh3.db'.\n",
      "\n",
      "INFO:asparagus.sample.sampler:INFO:\n",
      "Sampling method 'sample' complete for system from 'ref/meta_nh3.traj!'\n",
      "3 samples written to 'smpl_nh3.db'.\n",
      "\n",
      "INFO:asparagus.sample.sampler:INFO:\n",
      "Sampling method 'sample' complete for system from 'ref/meta_nh3.traj!'\n",
      "3 samples written to 'smpl_nh3.db'.\n",
      "\n"
     ]
    }
   ],
   "source": [
    "from asparagus.sample import Sampler\n",
    "sampler = Sampler(\n",
    "    config='smpl_nh3.json',\n",
    "    sample_data_file='smpl_nh3.db',\n",
    "    sample_systems='ref/meta_nh3.traj',\n",
    "    sample_calculator='shell',\n",
    "    sample_calculator_args = {\n",
    "        'files': [\n",
    "            'template/shell/run_orca.sh',\n",
    "            'template/shell/run_orca.inp',\n",
    "            'template/shell/run_orca.py',\n",
    "            ],\n",
    "        'files_replace': {\n",
    "            '%xyz%': '$xyz',\n",
    "            '%charge%': '$charge',\n",
    "            '%multiplicity%': '$multiplicity',\n",
    "            },\n",
    "        'result_properties': ['energy', 'forces', 'dipole'],\n",
    "        'execute_file': 'template/shell/run_orca.sh',\n",
    "        'command': 'bash',\n",
    "        'charge': 0,\n",
    "        'multiplicity': 1,\n",
    "        'directory': 'shell',\n",
    "        'result_file': 'results.json',\n",
    "        'result_file_format': 'json',\n",
    "        },\n",
    "    sample_num_threads=4,\n",
    "    sample_save_trajectory=True,\n",
    "    )\n",
    "sampler.run()"
   ]
  },
  {
   "cell_type": "markdown",
   "id": "246bc626-ca79-48f4-a7dd-6b891fbdf3a6",
   "metadata": {},
   "source": [
    "Most work from the user is probably going into the template files list ```'files'``` in ```sample_calculator_args```. The first file in the list will assumed to be executed by the, e.g., ```bash``` command if not specifically defined by the input argument ```'execute_file'```. In this case for ```ORCA``` it only contains commands to (1) delete eventually old wavefunction files, (2) run ```ORCA``` and (3) run the python file ```run_orca.py```.\n",
    "\n",
    "run_orca.sh:\n",
    "```\n",
    "rm -f run_orca.gbw run_orca.ges\n",
    "orca run_orca.inp > run_orca.out\n",
    "python run_orca.py\n",
    "```"
   ]
  },
  {
   "cell_type": "markdown",
   "id": "e6b7abef-a53c-47b3-a7bf-d8dcae85cc89",
   "metadata": {},
   "source": [
    "The ```ORCA``` input file ```run_orca.inp``` contains the setup to perform the quantumelectronic computation on PBE level of theory.\n",
    "Only this file cotains the label tags that will be replaced with system specific input as defined in ```'files_replace'```. Important here is that the dictionary items ```'$xyz'```, ```'$charge'``` and ```'$multiplicity'``` are labels for pre-defined function that take the ASE Atoms object and a info dictionary as input to produce the input line for the element symbols and Cartesian atom positions, the system charge and its electronic spin multiplicity, respectively.\n",
    "\n",
    "run_orca.inp:\n",
    "```\n",
    "! engrad RI PBE D3BJ def2-SVP def2/J TightSCF \n",
    "%pal nprocs 1 end \n",
    "*xyz %charge% %multiplicity%\n",
    "%xyz%\n",
    "*\n",
    "```\n",
    "The input file for one sample system will then looks like:\n",
    "```\n",
    "! engrad RI PBE D3BJ def2-SVP def2/J TightSCF \n",
    "%pal nprocs 1 end \n",
    "*xyz 0 1\n",
    "N     0.07351617  -0.00534278  -0.23603505 \n",
    "H    -1.03994361  -0.03392835  -0.40634277 \n",
    "H     0.31140533   0.88603402  -0.62595885 \n",
    "H     0.48690189  -0.79495547  -0.78437965 \n",
    "*\n",
    "```"
   ]
  },
  {
   "cell_type": "markdown",
   "id": "2ee9f9f6-1571-4ee5-891e-36949fd4316e",
   "metadata": {},
   "source": [
    "After ```ORCA``` is run using the modified input file, the output file will be read by the python file ```'run_orca.py'``` which extract the required system properties (see ```'result_properties': ['energy', 'forces', 'dipole']``` in ```sample_calculator_args```) and store the data in a .json file ```'result.json'```. The json file and the stored system properties will be read by Asparagus and handled as any other ASE calculator result.\n",
    "\n",
    "result.json:\n",
    "```\n",
    "{\"energy\": -1535.4234625489537,\n",
    " \"dipole\": [-0.08876947707208435, 0.02660703014714993, -0.33175706861878895],\n",
    " \"forces\": [\n",
    "   [-3.235397732194288, -1.474455583716518, 0.3764568818272469],\n",
    "   [2.949547650701895, -0.22134084646210062, 0.3515452359394994],\n",
    "   [0.6608213322874061, 0.8358449528315552, -0.7880407905321968],\n",
    "   [-0.3749712507435909, 0.8599514773470633, 0.06003867276545045]]}\n",
    "```"
   ]
  },
  {
   "cell_type": "markdown",
   "id": "12bc5c3f-d941-48b2-80c8-27c99150da6b",
   "metadata": {},
   "source": []
  },
  {
   "cell_type": "code",
   "execution_count": null,
   "id": "b36553b3-1952-4fc4-aa71-dc8e0f795628",
   "metadata": {},
   "outputs": [],
   "source": []
  }
 ],
 "metadata": {
  "kernelspec": {
   "display_name": "Python 3 (ipykernel)",
   "language": "python",
   "name": "python3"
  },
  "language_info": {
   "codemirror_mode": {
    "name": "ipython",
    "version": 3
   },
   "file_extension": ".py",
   "mimetype": "text/x-python",
   "name": "python",
   "nbconvert_exporter": "python",
   "pygments_lexer": "ipython3",
   "version": "3.11.5"
  }
 },
 "nbformat": 4,
 "nbformat_minor": 5
}
